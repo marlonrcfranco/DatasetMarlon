{
  "nbformat": 4,
  "nbformat_minor": 0,
  "metadata": {
    "colab": {
      "name": "soyforecast.ipynb",
      "version": "0.3.2",
      "provenance": [],
      "toc_visible": true,
      "include_colab_link": true
    },
    "kernelspec": {
      "display_name": "Python 3",
      "language": "python",
      "name": "python3"
    }
  },
  "cells": [
    {
      "cell_type": "markdown",
      "metadata": {
        "id": "view-in-github",
        "colab_type": "text"
      },
      "source": [
        "<a href=\"https://colab.research.google.com/github/marlonrcfranco/soyforecast/blob/master/soyforecast.ipynb\" target=\"_parent\"><img src=\"https://colab.research.google.com/assets/colab-badge.svg\" alt=\"Open In Colab\"/></a>"
      ]
    },
    {
      "metadata": {
        "id": "a9hjvEuBTIS_",
        "colab_type": "text"
      },
      "cell_type": "markdown",
      "source": [
        "# Soyforecast\n",
        "By [Marlon Franco]()\n",
        "/ [GitHub](https://github.com/marlonrcfranco/soyforecast.git)\n",
        "\n",
        "####Prediction of future soybeans stock prices on the Chicago Stock Exchange (CBOT) using a LSTM model and relating climatic data from the most productive regions of the USA.\n",
        "\n",
        "![alt text](https://github.com/marlonrcfranco/soyforecast/blob/master/Selection_244.png?raw=true)\n",
        "\n",
        "#### Soybean, CBOT Soybean Futures\n",
        "- https://blog.quandl.com/api-for-commodity-data\n",
        "- http://www.quandl.com/api/v3/datasets/CHRIS/CME_S1/\n",
        "\n",
        "#### 2015 USA Weather Avg, Max, Min\n",
        "- https://data.world/mattwinter225/2015-usa-weather-avg-max-min\n",
        "\n",
        "#### USDA-NASS-soybeans-production_bushels-2015\n",
        "- https://usda-reports.nautilytics.com/?crop=soybeans&statistic=production_dollars&year=2007\n",
        "- https://www.nass.usda.gov/Data_Visualization/index.php\n"
      ]
    },
    {
      "metadata": {
        "id": "y1pbHZNeTITl",
        "colab_type": "text"
      },
      "cell_type": "markdown",
      "source": [
        "## Imports"
      ]
    },
    {
      "metadata": {
        "id": "aXFIQTW4TITp",
        "colab_type": "code",
        "colab": {}
      },
      "cell_type": "code",
      "source": [
        "%matplotlib inline\n",
        "import matplotlib.pyplot as plt\n",
        "import matplotlib.ticker as mticker\n",
        "import pandas as pd\n",
        "import numpy as np\n",
        "import os\n",
        "from six.moves import urllib\n",
        "\n",
        "import tensorflow as tf\n",
        "from sklearn.preprocessing import MinMaxScaler\n",
        "from tensorflow.python.keras.models import Sequential\n",
        "from tensorflow.python.keras.layers import Input, Dense, GRU, Embedding\n",
        "from tensorflow.python.keras.optimizers import RMSprop\n",
        "from tensorflow.python.keras.callbacks import EarlyStopping, ModelCheckpoint, TensorBoard, ReduceLROnPlateau\n"
      ],
      "execution_count": 0,
      "outputs": []
    },
    {
      "metadata": {
        "scrolled": false,
        "id": "p-SE_XjtTIUV",
        "colab_type": "code",
        "colab": {
          "base_uri": "https://localhost:8080/",
          "height": 34
        },
        "outputId": "ed65620a-11a2-4034-f619-d6a258e8efd4"
      },
      "cell_type": "code",
      "source": [
        "tf.__version__"
      ],
      "execution_count": 2,
      "outputs": [
        {
          "output_type": "execute_result",
          "data": {
            "text/plain": [
              "'1.13.1'"
            ]
          },
          "metadata": {
            "tags": []
          },
          "execution_count": 2
        }
      ]
    },
    {
      "metadata": {
        "scrolled": true,
        "id": "A4NPZ75nTIUk",
        "colab_type": "code",
        "colab": {
          "base_uri": "https://localhost:8080/",
          "height": 34
        },
        "outputId": "30b6de43-f02a-470f-b0fd-dd5f79810bfa"
      },
      "cell_type": "code",
      "source": [
        "tf.keras.__version__"
      ],
      "execution_count": 3,
      "outputs": [
        {
          "output_type": "execute_result",
          "data": {
            "text/plain": [
              "'2.2.4-tf'"
            ]
          },
          "metadata": {
            "tags": []
          },
          "execution_count": 3
        }
      ]
    },
    {
      "metadata": {
        "id": "tutSX4VGTIU1",
        "colab_type": "code",
        "colab": {
          "base_uri": "https://localhost:8080/",
          "height": 34
        },
        "outputId": "c5c970db-660e-421d-94f7-4fc9eeeefdfe"
      },
      "cell_type": "code",
      "source": [
        "pd.__version__"
      ],
      "execution_count": 4,
      "outputs": [
        {
          "output_type": "execute_result",
          "data": {
            "text/plain": [
              "'0.22.0'"
            ]
          },
          "metadata": {
            "tags": []
          },
          "execution_count": 4
        }
      ]
    },
    {
      "metadata": {
        "id": "BLrvLkEUUx9P",
        "colab_type": "text"
      },
      "cell_type": "markdown",
      "source": [
        "## Defines"
      ]
    },
    {
      "metadata": {
        "id": "1zk5u8eJTIUE",
        "colab_type": "code",
        "colab": {}
      },
      "cell_type": "code",
      "source": [
        "DATASETMARLON_URL = \"https://raw.githubusercontent.com/marlonrcfranco/soyforecast/master/datasets/DatasetMarlon/datasetmarlon.csv\"\n",
        "DATASETMARLON_PATH = \"datasets/DatasetMarlon/\"\n",
        "\n",
        "START_IDX=0 #Start-index for the time-series.\n",
        "LENGHT=100000 #Sequence-length to process and plot.\n",
        "\n",
        "#plt.rcParams[\"figure.figsize\"] = [19,15]\n",
        "#plt.rcParams.update({'font.size': 27})"
      ],
      "execution_count": 0,
      "outputs": []
    },
    {
      "metadata": {
        "id": "hLtIadn5TIUS",
        "colab_type": "text"
      },
      "cell_type": "markdown",
      "source": [
        "## Fetch Data\n",
        "\n"
      ]
    },
    {
      "metadata": {
        "id": "iaE8DnIJU7et",
        "colab_type": "code",
        "colab": {}
      },
      "cell_type": "code",
      "source": [
        "def fetch_datasetmarlon_data(datasetmarlon_url=DATASETMARLON_URL, datasetmarlon_path=DATASETMARLON_PATH):\n",
        "    if not os.path.isdir(datasetmarlon_path):\n",
        "        os.makedirs(datasetmarlon_path)\n",
        "    csv_path = os.path.join(datasetmarlon_path, \"datasetmarlon.csv\")\n",
        "    urllib.request.urlretrieve(datasetmarlon_url, csv_path)\n",
        "\n",
        "    "
      ],
      "execution_count": 0,
      "outputs": []
    },
    {
      "metadata": {
        "id": "K_C7xcUxVATZ",
        "colab_type": "code",
        "colab": {}
      },
      "cell_type": "code",
      "source": [
        "fetch_datasetmarlon_data()"
      ],
      "execution_count": 0,
      "outputs": []
    },
    {
      "metadata": {
        "id": "H7cFH2YzVFpL",
        "colab_type": "text"
      },
      "cell_type": "markdown",
      "source": [
        "## Load Data\n"
      ]
    },
    {
      "metadata": {
        "id": "QC7ctxkoVFH3",
        "colab_type": "code",
        "colab": {}
      },
      "cell_type": "code",
      "source": [
        "def load_datasetmarlon_data(datasetmarlon_path=DATASETMARLON_PATH):\n",
        "    csv_path = os.path.join(datasetmarlon_path, \"datasetmarlon.csv\")\n",
        "    print(csv_path)\n",
        "    return pd.read_csv(csv_path)\n",
        " "
      ],
      "execution_count": 0,
      "outputs": []
    },
    {
      "metadata": {
        "id": "rbZf-qpWVNJv",
        "colab_type": "code",
        "colab": {
          "base_uri": "https://localhost:8080/",
          "height": 255
        },
        "outputId": "d4188f3b-bacc-4900-8502-5739ca439e0c"
      },
      "cell_type": "code",
      "source": [
        "datasetmarlon = load_datasetmarlon_data()\n",
        "datasetmarlon['Date'] = pd.to_numeric(pd.to_datetime(datasetmarlon['Date']).dt.strftime(\"%Y%m%d\"))\n",
        "datasetmarlon.head()"
      ],
      "execution_count": 9,
      "outputs": [
        {
          "output_type": "stream",
          "text": [
            "datasets/DatasetMarlon/datasetmarlon.csv\n"
          ],
          "name": "stdout"
        },
        {
          "output_type": "execute_result",
          "data": {
            "text/html": [
              "<div>\n",
              "<style scoped>\n",
              "    .dataframe tbody tr th:only-of-type {\n",
              "        vertical-align: middle;\n",
              "    }\n",
              "\n",
              "    .dataframe tbody tr th {\n",
              "        vertical-align: top;\n",
              "    }\n",
              "\n",
              "    .dataframe thead th {\n",
              "        text-align: right;\n",
              "    }\n",
              "</style>\n",
              "<table border=\"1\" class=\"dataframe\">\n",
              "  <thead>\n",
              "    <tr style=\"text-align: right;\">\n",
              "      <th></th>\n",
              "      <th>Date</th>\n",
              "      <th>Open</th>\n",
              "      <th>High</th>\n",
              "      <th>Low</th>\n",
              "      <th>Last</th>\n",
              "      <th>Change</th>\n",
              "      <th>Settle</th>\n",
              "      <th>Volume</th>\n",
              "      <th>Previous Day Open Interest</th>\n",
              "      <th>mintemp</th>\n",
              "      <th>maxtemp</th>\n",
              "      <th>avgtemp</th>\n",
              "    </tr>\n",
              "  </thead>\n",
              "  <tbody>\n",
              "    <tr>\n",
              "      <th>0</th>\n",
              "      <td>20151231</td>\n",
              "      <td>875.00</td>\n",
              "      <td>879.25</td>\n",
              "      <td>870.0</td>\n",
              "      <td>871.00</td>\n",
              "      <td>4.25</td>\n",
              "      <td>871.25</td>\n",
              "      <td>12579.0</td>\n",
              "      <td>18252.0</td>\n",
              "      <td>34.460251</td>\n",
              "      <td>46.761506</td>\n",
              "      <td>40.964435</td>\n",
              "    </tr>\n",
              "    <tr>\n",
              "      <th>1</th>\n",
              "      <td>20151230</td>\n",
              "      <td>870.00</td>\n",
              "      <td>878.25</td>\n",
              "      <td>869.0</td>\n",
              "      <td>874.25</td>\n",
              "      <td>5.50</td>\n",
              "      <td>875.50</td>\n",
              "      <td>26033.0</td>\n",
              "      <td>27996.0</td>\n",
              "      <td>37.656904</td>\n",
              "      <td>48.531381</td>\n",
              "      <td>42.717573</td>\n",
              "    </tr>\n",
              "    <tr>\n",
              "      <th>2</th>\n",
              "      <td>20151229</td>\n",
              "      <td>866.50</td>\n",
              "      <td>876.25</td>\n",
              "      <td>865.0</td>\n",
              "      <td>869.75</td>\n",
              "      <td>5.00</td>\n",
              "      <td>870.00</td>\n",
              "      <td>45812.0</td>\n",
              "      <td>41805.0</td>\n",
              "      <td>36.161426</td>\n",
              "      <td>49.008386</td>\n",
              "      <td>42.352201</td>\n",
              "    </tr>\n",
              "    <tr>\n",
              "      <th>3</th>\n",
              "      <td>20151228</td>\n",
              "      <td>873.00</td>\n",
              "      <td>874.50</td>\n",
              "      <td>864.0</td>\n",
              "      <td>867.00</td>\n",
              "      <td>10.25</td>\n",
              "      <td>865.00</td>\n",
              "      <td>41472.0</td>\n",
              "      <td>58158.0</td>\n",
              "      <td>36.243697</td>\n",
              "      <td>50.836134</td>\n",
              "      <td>43.277311</td>\n",
              "    </tr>\n",
              "    <tr>\n",
              "      <th>4</th>\n",
              "      <td>20151224</td>\n",
              "      <td>882.75</td>\n",
              "      <td>885.00</td>\n",
              "      <td>875.0</td>\n",
              "      <td>877.00</td>\n",
              "      <td>6.50</td>\n",
              "      <td>875.25</td>\n",
              "      <td>31325.0</td>\n",
              "      <td>71137.0</td>\n",
              "      <td>45.413866</td>\n",
              "      <td>61.670168</td>\n",
              "      <td>53.792017</td>\n",
              "    </tr>\n",
              "  </tbody>\n",
              "</table>\n",
              "</div>"
            ],
            "text/plain": [
              "       Date    Open    High    Low    Last  Change  Settle   Volume  \\\n",
              "0  20151231  875.00  879.25  870.0  871.00    4.25  871.25  12579.0   \n",
              "1  20151230  870.00  878.25  869.0  874.25    5.50  875.50  26033.0   \n",
              "2  20151229  866.50  876.25  865.0  869.75    5.00  870.00  45812.0   \n",
              "3  20151228  873.00  874.50  864.0  867.00   10.25  865.00  41472.0   \n",
              "4  20151224  882.75  885.00  875.0  877.00    6.50  875.25  31325.0   \n",
              "\n",
              "   Previous Day Open Interest    mintemp    maxtemp    avgtemp  \n",
              "0                     18252.0  34.460251  46.761506  40.964435  \n",
              "1                     27996.0  37.656904  48.531381  42.717573  \n",
              "2                     41805.0  36.161426  49.008386  42.352201  \n",
              "3                     58158.0  36.243697  50.836134  43.277311  \n",
              "4                     71137.0  45.413866  61.670168  53.792017  "
            ]
          },
          "metadata": {
            "tags": []
          },
          "execution_count": 9
        }
      ]
    },
    {
      "metadata": {
        "id": "rbIyEMzJTIY7",
        "colab_type": "text"
      },
      "cell_type": "markdown",
      "source": [
        "### Target Data for Prediction"
      ]
    },
    {
      "metadata": {
        "id": "EmRNVHEcTIZC",
        "colab_type": "text"
      },
      "cell_type": "markdown",
      "source": [
        "We will try and predict these signals."
      ]
    },
    {
      "metadata": {
        "id": "6PrG2PEvTIZG",
        "colab_type": "code",
        "colab": {}
      },
      "cell_type": "code",
      "source": [
        "target_names = ['Settle','avgtemp']"
      ],
      "execution_count": 0,
      "outputs": []
    },
    {
      "metadata": {
        "id": "F661VMNhTIZO",
        "colab_type": "text"
      },
      "cell_type": "markdown",
      "source": [
        "The following is the number of time-steps that we will shift the target-data. Our data-set is resampled to have an observation for each hour, so there are 24 observations for 24 hours.\n",
        "\n",
        "If we want to predict the weather 24 hours into the future, we shift the data 24 time-steps. If we want to predict the weather 7 days into the future, we shift the data 7 * 24 time-steps."
      ]
    },
    {
      "metadata": {
        "id": "sPfYeMvUTIZP",
        "colab_type": "code",
        "colab": {}
      },
      "cell_type": "code",
      "source": [
        "shift_days = 1\n",
        "shift_steps = shift_days\n",
        "#shift_steps = shift_days * 24  # Number of hours."
      ],
      "execution_count": 0,
      "outputs": []
    },
    {
      "metadata": {
        "id": "vXqcb_Y1TIZT",
        "colab_type": "text"
      },
      "cell_type": "markdown",
      "source": [
        "Create a new data-frame with the time-shifted data.\n",
        "\n",
        "**Note the negative time-shift!**"
      ]
    },
    {
      "metadata": {
        "id": "s-iInFg6TIZV",
        "colab_type": "code",
        "colab": {}
      },
      "cell_type": "code",
      "source": [
        "df_targets = datasetmarlon[target_names].shift(-shift_steps)"
      ],
      "execution_count": 0,
      "outputs": []
    },
    {
      "metadata": {
        "id": "KeE_Yu36TIZZ",
        "colab_type": "text"
      },
      "cell_type": "markdown",
      "source": [
        "**WARNING!** You should double-check that you have shifted the data in the right direction! We want to predict the future, not the past!\n",
        "\n",
        "The shifted data-frame is confusing because Pandas keeps the original time-stamps even though we have shifted the data. You can check the time-shift is correct by comparing the original and time-shifted data-frames.\n",
        "\n",
        "This is the first `shift_steps + 5` rows of the original data-frame:"
      ]
    },
    {
      "metadata": {
        "id": "9x7Lbl_zTIZa",
        "colab_type": "code",
        "colab": {
          "base_uri": "https://localhost:8080/",
          "height": 235
        },
        "outputId": "cebd6631-0200-43c9-c496-ce92b41df6af"
      },
      "cell_type": "code",
      "source": [
        "datasetmarlon[target_names].head(shift_steps + 5)"
      ],
      "execution_count": 13,
      "outputs": [
        {
          "output_type": "execute_result",
          "data": {
            "text/html": [
              "<div>\n",
              "<style scoped>\n",
              "    .dataframe tbody tr th:only-of-type {\n",
              "        vertical-align: middle;\n",
              "    }\n",
              "\n",
              "    .dataframe tbody tr th {\n",
              "        vertical-align: top;\n",
              "    }\n",
              "\n",
              "    .dataframe thead th {\n",
              "        text-align: right;\n",
              "    }\n",
              "</style>\n",
              "<table border=\"1\" class=\"dataframe\">\n",
              "  <thead>\n",
              "    <tr style=\"text-align: right;\">\n",
              "      <th></th>\n",
              "      <th>Settle</th>\n",
              "      <th>avgtemp</th>\n",
              "    </tr>\n",
              "  </thead>\n",
              "  <tbody>\n",
              "    <tr>\n",
              "      <th>0</th>\n",
              "      <td>871.25</td>\n",
              "      <td>40.964435</td>\n",
              "    </tr>\n",
              "    <tr>\n",
              "      <th>1</th>\n",
              "      <td>875.50</td>\n",
              "      <td>42.717573</td>\n",
              "    </tr>\n",
              "    <tr>\n",
              "      <th>2</th>\n",
              "      <td>870.00</td>\n",
              "      <td>42.352201</td>\n",
              "    </tr>\n",
              "    <tr>\n",
              "      <th>3</th>\n",
              "      <td>865.00</td>\n",
              "      <td>43.277311</td>\n",
              "    </tr>\n",
              "    <tr>\n",
              "      <th>4</th>\n",
              "      <td>875.25</td>\n",
              "      <td>53.792017</td>\n",
              "    </tr>\n",
              "    <tr>\n",
              "      <th>5</th>\n",
              "      <td>881.75</td>\n",
              "      <td>55.421053</td>\n",
              "    </tr>\n",
              "  </tbody>\n",
              "</table>\n",
              "</div>"
            ],
            "text/plain": [
              "   Settle    avgtemp\n",
              "0  871.25  40.964435\n",
              "1  875.50  42.717573\n",
              "2  870.00  42.352201\n",
              "3  865.00  43.277311\n",
              "4  875.25  53.792017\n",
              "5  881.75  55.421053"
            ]
          },
          "metadata": {
            "tags": []
          },
          "execution_count": 13
        }
      ]
    },
    {
      "metadata": {
        "id": "VmnFa6mfTIZf",
        "colab_type": "text"
      },
      "cell_type": "markdown",
      "source": [
        "The following is the first 5 rows of the time-shifted data-frame. This should be identical to the last 5 rows shown above from the original data, except for the time-stamp."
      ]
    },
    {
      "metadata": {
        "scrolled": false,
        "id": "U2kzWc_wTIZg",
        "colab_type": "code",
        "colab": {
          "base_uri": "https://localhost:8080/",
          "height": 204
        },
        "outputId": "25ca09d0-31b9-4e84-f5d3-3d76f3ff5215"
      },
      "cell_type": "code",
      "source": [
        "df_targets.head(5)"
      ],
      "execution_count": 14,
      "outputs": [
        {
          "output_type": "execute_result",
          "data": {
            "text/html": [
              "<div>\n",
              "<style scoped>\n",
              "    .dataframe tbody tr th:only-of-type {\n",
              "        vertical-align: middle;\n",
              "    }\n",
              "\n",
              "    .dataframe tbody tr th {\n",
              "        vertical-align: top;\n",
              "    }\n",
              "\n",
              "    .dataframe thead th {\n",
              "        text-align: right;\n",
              "    }\n",
              "</style>\n",
              "<table border=\"1\" class=\"dataframe\">\n",
              "  <thead>\n",
              "    <tr style=\"text-align: right;\">\n",
              "      <th></th>\n",
              "      <th>Settle</th>\n",
              "      <th>avgtemp</th>\n",
              "    </tr>\n",
              "  </thead>\n",
              "  <tbody>\n",
              "    <tr>\n",
              "      <th>0</th>\n",
              "      <td>875.50</td>\n",
              "      <td>42.717573</td>\n",
              "    </tr>\n",
              "    <tr>\n",
              "      <th>1</th>\n",
              "      <td>870.00</td>\n",
              "      <td>42.352201</td>\n",
              "    </tr>\n",
              "    <tr>\n",
              "      <th>2</th>\n",
              "      <td>865.00</td>\n",
              "      <td>43.277311</td>\n",
              "    </tr>\n",
              "    <tr>\n",
              "      <th>3</th>\n",
              "      <td>875.25</td>\n",
              "      <td>53.792017</td>\n",
              "    </tr>\n",
              "    <tr>\n",
              "      <th>4</th>\n",
              "      <td>881.75</td>\n",
              "      <td>55.421053</td>\n",
              "    </tr>\n",
              "  </tbody>\n",
              "</table>\n",
              "</div>"
            ],
            "text/plain": [
              "   Settle    avgtemp\n",
              "0  875.50  42.717573\n",
              "1  870.00  42.352201\n",
              "2  865.00  43.277311\n",
              "3  875.25  53.792017\n",
              "4  881.75  55.421053"
            ]
          },
          "metadata": {
            "tags": []
          },
          "execution_count": 14
        }
      ]
    },
    {
      "metadata": {
        "id": "ME-IARkdTIZn",
        "colab_type": "text"
      },
      "cell_type": "markdown",
      "source": [
        "The time-shifted data-frame has the same length as the original data-frame, but the last observations are `NaN` (not a number) because the data has been shifted backwards so we are trying to shift data that does not exist in the original data-frame."
      ]
    },
    {
      "metadata": {
        "id": "G6830EcRTIZy",
        "colab_type": "code",
        "colab": {
          "base_uri": "https://localhost:8080/",
          "height": 204
        },
        "outputId": "852be3f8-ec87-4cc9-e09f-58f9d17d6a6a"
      },
      "cell_type": "code",
      "source": [
        "df_targets.tail()"
      ],
      "execution_count": 15,
      "outputs": [
        {
          "output_type": "execute_result",
          "data": {
            "text/html": [
              "<div>\n",
              "<style scoped>\n",
              "    .dataframe tbody tr th:only-of-type {\n",
              "        vertical-align: middle;\n",
              "    }\n",
              "\n",
              "    .dataframe tbody tr th {\n",
              "        vertical-align: top;\n",
              "    }\n",
              "\n",
              "    .dataframe thead th {\n",
              "        text-align: right;\n",
              "    }\n",
              "</style>\n",
              "<table border=\"1\" class=\"dataframe\">\n",
              "  <thead>\n",
              "    <tr style=\"text-align: right;\">\n",
              "      <th></th>\n",
              "      <th>Settle</th>\n",
              "      <th>avgtemp</th>\n",
              "    </tr>\n",
              "  </thead>\n",
              "  <tbody>\n",
              "    <tr>\n",
              "      <th>247</th>\n",
              "      <td>1052.5</td>\n",
              "      <td>23.234177</td>\n",
              "    </tr>\n",
              "    <tr>\n",
              "      <th>248</th>\n",
              "      <td>1051.0</td>\n",
              "      <td>29.141649</td>\n",
              "    </tr>\n",
              "    <tr>\n",
              "      <th>249</th>\n",
              "      <td>1039.5</td>\n",
              "      <td>27.235169</td>\n",
              "    </tr>\n",
              "    <tr>\n",
              "      <th>250</th>\n",
              "      <td>1002.0</td>\n",
              "      <td>37.373134</td>\n",
              "    </tr>\n",
              "    <tr>\n",
              "      <th>251</th>\n",
              "      <td>NaN</td>\n",
              "      <td>NaN</td>\n",
              "    </tr>\n",
              "  </tbody>\n",
              "</table>\n",
              "</div>"
            ],
            "text/plain": [
              "     Settle    avgtemp\n",
              "247  1052.5  23.234177\n",
              "248  1051.0  29.141649\n",
              "249  1039.5  27.235169\n",
              "250  1002.0  37.373134\n",
              "251     NaN        NaN"
            ]
          },
          "metadata": {
            "tags": []
          },
          "execution_count": 15
        }
      ]
    },
    {
      "metadata": {
        "id": "jcipmThaTIZ9",
        "colab_type": "text"
      },
      "cell_type": "markdown",
      "source": [
        "### NumPy Arrays\n",
        "\n",
        "We now convert the Pandas data-frames to NumPy arrays that can be input to the neural network. We also remove the last part of the numpy arrays, because the target-data has `NaN` for the shifted period, and we only want to have valid data and we need the same array-shapes for the input- and output-data.\n",
        "\n",
        "These are the input-signals:"
      ]
    },
    {
      "metadata": {
        "id": "qnlHhWnuTIZ_",
        "colab_type": "code",
        "colab": {}
      },
      "cell_type": "code",
      "source": [
        "x_data = datasetmarlon.values[0:-shift_steps]"
      ],
      "execution_count": 0,
      "outputs": []
    },
    {
      "metadata": {
        "id": "Nn9OIbFoTIaH",
        "colab_type": "code",
        "colab": {
          "base_uri": "https://localhost:8080/",
          "height": 51
        },
        "outputId": "086407cd-5d21-4e3d-fb21-dcef18a71229"
      },
      "cell_type": "code",
      "source": [
        "print(type(x_data))\n",
        "print(\"Shape:\", x_data.shape)"
      ],
      "execution_count": 17,
      "outputs": [
        {
          "output_type": "stream",
          "text": [
            "<class 'numpy.ndarray'>\n",
            "Shape: (251, 12)\n"
          ],
          "name": "stdout"
        }
      ]
    },
    {
      "metadata": {
        "id": "0ITUyxNYTIaT",
        "colab_type": "text"
      },
      "cell_type": "markdown",
      "source": [
        "These are the output-signals (or target-signals):"
      ]
    },
    {
      "metadata": {
        "id": "yMTAIt_vTIaU",
        "colab_type": "code",
        "colab": {}
      },
      "cell_type": "code",
      "source": [
        "y_data = df_targets.values[:-shift_steps]"
      ],
      "execution_count": 0,
      "outputs": []
    },
    {
      "metadata": {
        "scrolled": true,
        "id": "f2DCUEdNTIaX",
        "colab_type": "code",
        "colab": {
          "base_uri": "https://localhost:8080/",
          "height": 51
        },
        "outputId": "961cff05-4b8c-477e-d257-abb8487a1351"
      },
      "cell_type": "code",
      "source": [
        "print(type(y_data))\n",
        "print(\"Shape:\", y_data.shape)"
      ],
      "execution_count": 19,
      "outputs": [
        {
          "output_type": "stream",
          "text": [
            "<class 'numpy.ndarray'>\n",
            "Shape: (251, 2)\n"
          ],
          "name": "stdout"
        }
      ]
    },
    {
      "metadata": {
        "id": "6HH89xjhTIad",
        "colab_type": "text"
      },
      "cell_type": "markdown",
      "source": [
        "This is the number of observations (aka. data-points or samples) in the data-set:"
      ]
    },
    {
      "metadata": {
        "id": "PIcgMCBjTIae",
        "colab_type": "code",
        "colab": {
          "base_uri": "https://localhost:8080/",
          "height": 34
        },
        "outputId": "848b362b-2ccc-4ff7-ba8c-86c73593d460"
      },
      "cell_type": "code",
      "source": [
        "num_data = len(x_data)\n",
        "num_data"
      ],
      "execution_count": 20,
      "outputs": [
        {
          "output_type": "execute_result",
          "data": {
            "text/plain": [
              "251"
            ]
          },
          "metadata": {
            "tags": []
          },
          "execution_count": 20
        }
      ]
    },
    {
      "metadata": {
        "id": "PQ9tfyTWTIah",
        "colab_type": "text"
      },
      "cell_type": "markdown",
      "source": [
        "This is the fraction of the data-set that will be used for the training-set:"
      ]
    },
    {
      "metadata": {
        "id": "7gL_CHx3TIai",
        "colab_type": "code",
        "colab": {}
      },
      "cell_type": "code",
      "source": [
        "train_split = 0.9"
      ],
      "execution_count": 0,
      "outputs": []
    },
    {
      "metadata": {
        "id": "74R9RAS_TIal",
        "colab_type": "text"
      },
      "cell_type": "markdown",
      "source": [
        "This is the number of observations in the training-set:"
      ]
    },
    {
      "metadata": {
        "id": "yasxqw_gTIav",
        "colab_type": "code",
        "colab": {
          "base_uri": "https://localhost:8080/",
          "height": 34
        },
        "outputId": "529cb0a0-d594-467b-e236-3482d9823821"
      },
      "cell_type": "code",
      "source": [
        "num_train = int(train_split * num_data)\n",
        "num_train"
      ],
      "execution_count": 22,
      "outputs": [
        {
          "output_type": "execute_result",
          "data": {
            "text/plain": [
              "225"
            ]
          },
          "metadata": {
            "tags": []
          },
          "execution_count": 22
        }
      ]
    },
    {
      "metadata": {
        "id": "mnj85AFjTIbB",
        "colab_type": "text"
      },
      "cell_type": "markdown",
      "source": [
        "This is the number of observations in the test-set:"
      ]
    },
    {
      "metadata": {
        "id": "hrCjB5XaTIbC",
        "colab_type": "code",
        "colab": {
          "base_uri": "https://localhost:8080/",
          "height": 34
        },
        "outputId": "5247d3f7-0a49-4093-f360-1e37ce1fef85"
      },
      "cell_type": "code",
      "source": [
        "num_test = num_data - num_train\n",
        "num_test"
      ],
      "execution_count": 23,
      "outputs": [
        {
          "output_type": "execute_result",
          "data": {
            "text/plain": [
              "26"
            ]
          },
          "metadata": {
            "tags": []
          },
          "execution_count": 23
        }
      ]
    },
    {
      "metadata": {
        "id": "1f0vY-g7TIbI",
        "colab_type": "text"
      },
      "cell_type": "markdown",
      "source": [
        "These are the input-signals for the training- and test-sets:"
      ]
    },
    {
      "metadata": {
        "id": "tXCjzAfRTIbJ",
        "colab_type": "code",
        "colab": {
          "base_uri": "https://localhost:8080/",
          "height": 34
        },
        "outputId": "855b740b-45b9-4ea9-efc3-14344a9fc509"
      },
      "cell_type": "code",
      "source": [
        "x_train = x_data[0:num_train]\n",
        "x_test = x_data[num_train:]\n",
        "len(x_train) + len(x_test)"
      ],
      "execution_count": 24,
      "outputs": [
        {
          "output_type": "execute_result",
          "data": {
            "text/plain": [
              "251"
            ]
          },
          "metadata": {
            "tags": []
          },
          "execution_count": 24
        }
      ]
    },
    {
      "metadata": {
        "id": "ZYuf0HMATIbO",
        "colab_type": "text"
      },
      "cell_type": "markdown",
      "source": [
        "These are the output-signals for the training- and test-sets:"
      ]
    },
    {
      "metadata": {
        "id": "dtKuZtriTIbP",
        "colab_type": "code",
        "colab": {
          "base_uri": "https://localhost:8080/",
          "height": 34
        },
        "outputId": "ac5b54c1-499a-4521-f5cc-60cbe2a10ec6"
      },
      "cell_type": "code",
      "source": [
        "y_train = y_data[0:num_train]\n",
        "y_test = y_data[num_train:]\n",
        "len(y_train) + len(y_test)"
      ],
      "execution_count": 25,
      "outputs": [
        {
          "output_type": "execute_result",
          "data": {
            "text/plain": [
              "251"
            ]
          },
          "metadata": {
            "tags": []
          },
          "execution_count": 25
        }
      ]
    },
    {
      "metadata": {
        "id": "y2QDijtMTIbY",
        "colab_type": "text"
      },
      "cell_type": "markdown",
      "source": [
        "This is the number of input-signals:"
      ]
    },
    {
      "metadata": {
        "id": "G6-dB-_7TIbZ",
        "colab_type": "code",
        "colab": {
          "base_uri": "https://localhost:8080/",
          "height": 34
        },
        "outputId": "e1fc3455-1c7d-485e-8c15-2ad3841d1e19"
      },
      "cell_type": "code",
      "source": [
        "num_x_signals = x_data.shape[1]\n",
        "num_x_signals"
      ],
      "execution_count": 26,
      "outputs": [
        {
          "output_type": "execute_result",
          "data": {
            "text/plain": [
              "12"
            ]
          },
          "metadata": {
            "tags": []
          },
          "execution_count": 26
        }
      ]
    },
    {
      "metadata": {
        "id": "vX8EBvG1TIbe",
        "colab_type": "text"
      },
      "cell_type": "markdown",
      "source": [
        "This is the number of output-signals:"
      ]
    },
    {
      "metadata": {
        "scrolled": true,
        "id": "fzfcNCxTTIbf",
        "colab_type": "code",
        "colab": {
          "base_uri": "https://localhost:8080/",
          "height": 34
        },
        "outputId": "6f620ef5-f773-4de5-8396-5523bfc85cdc"
      },
      "cell_type": "code",
      "source": [
        "num_y_signals = y_data.shape[1]\n",
        "num_y_signals"
      ],
      "execution_count": 27,
      "outputs": [
        {
          "output_type": "execute_result",
          "data": {
            "text/plain": [
              "2"
            ]
          },
          "metadata": {
            "tags": []
          },
          "execution_count": 27
        }
      ]
    },
    {
      "metadata": {
        "id": "QSPf0GzSTIbk",
        "colab_type": "text"
      },
      "cell_type": "markdown",
      "source": [
        "### Scaled Data\n",
        "\n",
        "The data-set contains a wide range of values:"
      ]
    },
    {
      "metadata": {
        "id": "9peINxm5cN8t",
        "colab_type": "code",
        "colab": {
          "base_uri": "https://localhost:8080/",
          "height": 238
        },
        "outputId": "d2a0b2b6-baef-4d94-b137-78f486274b86"
      },
      "cell_type": "code",
      "source": [
        "print (x_train)"
      ],
      "execution_count": 28,
      "outputs": [
        {
          "output_type": "stream",
          "text": [
            "[[2.01512310e+07 8.75000000e+02 8.79250000e+02 ... 3.44602510e+01\n",
            "  4.67615063e+01 4.09644351e+01]\n",
            " [2.01512300e+07 8.70000000e+02 8.78250000e+02 ... 3.76569038e+01\n",
            "  4.85313808e+01 4.27175732e+01]\n",
            " [2.01512290e+07 8.66500000e+02 8.76250000e+02 ... 3.61614256e+01\n",
            "  4.90083857e+01 4.23522013e+01]\n",
            " ...\n",
            " [2.01502130e+07 9.82500000e+02 9.97500000e+02 ... 2.00318471e+01\n",
            "  4.34267516e+01 3.06942675e+01]\n",
            " [2.01502120e+07 9.77500000e+02 9.85000000e+02 ... 2.04216102e+01\n",
            "  4.29470339e+01 3.22245763e+01]\n",
            " [2.01502110e+07 9.70500000e+02 9.81000000e+02 ... 2.51340426e+01\n",
            "  5.03574468e+01 3.73744681e+01]]\n"
          ],
          "name": "stdout"
        }
      ]
    },
    {
      "metadata": {
        "id": "a3PioMuLTIbl",
        "colab_type": "code",
        "colab": {
          "base_uri": "https://localhost:8080/",
          "height": 51
        },
        "outputId": "2f2d704f-13ff-4f05-895f-890c0bbc7c5e"
      },
      "cell_type": "code",
      "source": [
        "print(\"Min:\", np.min(x_train))\n",
        "print(\"Max:\", np.max(x_train))"
      ],
      "execution_count": 29,
      "outputs": [
        {
          "output_type": "stream",
          "text": [
            "Min: 0.25\n",
            "Max: 20151231.0\n"
          ],
          "name": "stdout"
        }
      ]
    },
    {
      "metadata": {
        "id": "s23r2xI6TIbr",
        "colab_type": "text"
      },
      "cell_type": "markdown",
      "source": [
        "The neural network works best on values roughly between -1 and 1, so we need to scale the data before it is being input to the neural network. We can use `scikit-learn` for this.\n",
        "\n",
        "We first create a scaler-object for the input-signals."
      ]
    },
    {
      "metadata": {
        "id": "Gidy46t6TIbt",
        "colab_type": "code",
        "colab": {}
      },
      "cell_type": "code",
      "source": [
        "x_scaler = MinMaxScaler()"
      ],
      "execution_count": 0,
      "outputs": []
    },
    {
      "metadata": {
        "id": "hVY9QK5eTIbw",
        "colab_type": "text"
      },
      "cell_type": "markdown",
      "source": [
        "We then detect the range of values from the training-data and scale the training-data."
      ]
    },
    {
      "metadata": {
        "id": "IiBqHAlpTIbx",
        "colab_type": "code",
        "colab": {}
      },
      "cell_type": "code",
      "source": [
        "x_train_scaled = x_scaler.fit_transform(x_train)"
      ],
      "execution_count": 0,
      "outputs": []
    },
    {
      "metadata": {
        "id": "MSimSjpdTIbz",
        "colab_type": "text"
      },
      "cell_type": "markdown",
      "source": [
        "Apart from a small rounding-error, the data has been scaled to be between 0 and 1."
      ]
    },
    {
      "metadata": {
        "id": "fhY6Im2sTIb0",
        "colab_type": "code",
        "colab": {
          "base_uri": "https://localhost:8080/",
          "height": 51
        },
        "outputId": "aa351e0f-d7f3-452c-a5e7-8915d26f3091"
      },
      "cell_type": "code",
      "source": [
        "print(\"Min:\", np.min(x_train_scaled))\n",
        "print(\"Max:\", np.max(x_train_scaled))"
      ],
      "execution_count": 32,
      "outputs": [
        {
          "output_type": "stream",
          "text": [
            "Min: 0.0\n",
            "Max: 1.0\n"
          ],
          "name": "stdout"
        }
      ]
    },
    {
      "metadata": {
        "id": "ia0SlUTATIb5",
        "colab_type": "text"
      },
      "cell_type": "markdown",
      "source": [
        "We use the same scaler-object for the input-signals in the test-set."
      ]
    },
    {
      "metadata": {
        "id": "_GZNaBRFTIb6",
        "colab_type": "code",
        "colab": {}
      },
      "cell_type": "code",
      "source": [
        "x_test_scaled = x_scaler.transform(x_test)"
      ],
      "execution_count": 0,
      "outputs": []
    },
    {
      "metadata": {
        "id": "yaWdE2JuTIcD",
        "colab_type": "text"
      },
      "cell_type": "markdown",
      "source": [
        "The target-data comes from the same data-set as the input-signals, because it is merely time-shifted. But the target-data could be from a different source with different value-ranges, so we create a separate scaler-object for the target-data.\n"
      ]
    },
    {
      "metadata": {
        "id": "ierhfvsrTIcE",
        "colab_type": "code",
        "colab": {}
      },
      "cell_type": "code",
      "source": [
        "y_scaler = MinMaxScaler()\n",
        "y_train_scaled = y_scaler.fit_transform(y_train)\n",
        "y_test_scaled = y_scaler.transform(y_test)"
      ],
      "execution_count": 0,
      "outputs": []
    },
    {
      "metadata": {
        "id": "8RzGHJ35TIcK",
        "colab_type": "text"
      },
      "cell_type": "markdown",
      "source": [
        "## Data Generator\n",
        "\n",
        "The data-set has now been prepared as 2-dimensional numpy arrays. The training-data has 225 observations, consisting of 12 input-signals and 1 output-signals.\n",
        "\n",
        "These are the array-shapes of the input and output data:"
      ]
    },
    {
      "metadata": {
        "id": "Q-fJuUBlTIcM",
        "colab_type": "code",
        "colab": {
          "base_uri": "https://localhost:8080/",
          "height": 51
        },
        "outputId": "73328675-4035-4bd3-acb6-b95004b29d78"
      },
      "cell_type": "code",
      "source": [
        "print(x_train_scaled.shape)\n",
        "print(y_train_scaled.shape)"
      ],
      "execution_count": 35,
      "outputs": [
        {
          "output_type": "stream",
          "text": [
            "(225, 12)\n",
            "(225, 2)\n"
          ],
          "name": "stdout"
        }
      ]
    },
    {
      "metadata": {
        "id": "hG1xQxNLTIcS",
        "colab_type": "text"
      },
      "cell_type": "markdown",
      "source": [
        "Instead of training the Recurrent Neural Network on the complete sequences of 225 observations, we will use the following function to create a batch of shorter sub-sequences picked at random from the training-data."
      ]
    },
    {
      "metadata": {
        "id": "BF_kXiR6TIcT",
        "colab_type": "code",
        "colab": {}
      },
      "cell_type": "code",
      "source": [
        "def batch_generator(batch_size, sequence_length):\n",
        "    \"\"\"\n",
        "    Generator function for creating random batches of training-data.\n",
        "    \"\"\"\n",
        "\n",
        "    # Infinite loop.\n",
        "    while True:\n",
        "        # Allocate a new array for the batch of input-signals.\n",
        "        x_shape = (batch_size, sequence_length, num_x_signals)\n",
        "        x_batch = np.zeros(shape=x_shape, dtype=np.float16)\n",
        "\n",
        "        # Allocate a new array for the batch of output-signals.\n",
        "        y_shape = (batch_size, sequence_length, num_y_signals)\n",
        "        y_batch = np.zeros(shape=y_shape, dtype=np.float16)\n",
        "\n",
        "        # Fill the batch with random sequences of data.\n",
        "        for i in range(batch_size):\n",
        "            # Get a random start-index.\n",
        "            # This points somewhere into the training-data.\n",
        "            idx = np.random.randint(num_train - sequence_length)\n",
        "            \n",
        "            # Copy the sequences of data starting at this index.\n",
        "            x_batch[i] = x_train_scaled[idx:idx+sequence_length]\n",
        "            y_batch[i] = y_train_scaled[idx:idx+sequence_length]\n",
        "        \n",
        "        yield (x_batch, y_batch)"
      ],
      "execution_count": 0,
      "outputs": []
    },
    {
      "metadata": {
        "id": "gmeuq2ycTIcY",
        "colab_type": "text"
      },
      "cell_type": "markdown",
      "source": [
        "We will use a large batch-size so as to keep the GPU near 100% work-load. You may have to adjust this number depending on your GPU, its RAM and your choice of `sequence_length` below."
      ]
    },
    {
      "metadata": {
        "id": "zZDBYw2HTIca",
        "colab_type": "code",
        "colab": {}
      },
      "cell_type": "code",
      "source": [
        "batch_size = 115"
      ],
      "execution_count": 0,
      "outputs": []
    },
    {
      "metadata": {
        "id": "1AYWhvHVTIcf",
        "colab_type": "text"
      },
      "cell_type": "markdown",
      "source": [
        "We will use a sequence-length of 1, which means that each random sequence contains observations for 1 day. One time-step corresponds to one day."
      ]
    },
    {
      "metadata": {
        "id": "CWNJFK-8TIcf",
        "colab_type": "code",
        "colab": {
          "base_uri": "https://localhost:8080/",
          "height": 34
        },
        "outputId": "882f223f-a3db-4e0a-abd9-3dd50efdc094"
      },
      "cell_type": "code",
      "source": [
        "sequence_length = 1\n",
        "#sequence_length = 24 * 7 * 8\n",
        "sequence_length"
      ],
      "execution_count": 38,
      "outputs": [
        {
          "output_type": "execute_result",
          "data": {
            "text/plain": [
              "1"
            ]
          },
          "metadata": {
            "tags": []
          },
          "execution_count": 38
        }
      ]
    },
    {
      "metadata": {
        "id": "xFEv2DvdTIcj",
        "colab_type": "text"
      },
      "cell_type": "markdown",
      "source": [
        "We then create the batch-generator."
      ]
    },
    {
      "metadata": {
        "id": "fVUGSxs-TIck",
        "colab_type": "code",
        "colab": {}
      },
      "cell_type": "code",
      "source": [
        "generator = batch_generator(batch_size=batch_size,\n",
        "                            sequence_length=sequence_length)"
      ],
      "execution_count": 0,
      "outputs": []
    },
    {
      "metadata": {
        "id": "r15hR-h5TIcm",
        "colab_type": "text"
      },
      "cell_type": "markdown",
      "source": [
        "We can then test the batch-generator to see if it works."
      ]
    },
    {
      "metadata": {
        "id": "cx6XLlHvTIcn",
        "colab_type": "code",
        "colab": {}
      },
      "cell_type": "code",
      "source": [
        "x_batch, y_batch = next(generator)"
      ],
      "execution_count": 0,
      "outputs": []
    },
    {
      "metadata": {
        "id": "YQNh8tffTIct",
        "colab_type": "text"
      },
      "cell_type": "markdown",
      "source": [
        "This gives us a random batch of 115 sequences, each sequence having 1 observation, and each observation having 12 input-signals and 1 output-signal."
      ]
    },
    {
      "metadata": {
        "id": "w5fuokzbTIcu",
        "colab_type": "code",
        "colab": {
          "base_uri": "https://localhost:8080/",
          "height": 51
        },
        "outputId": "ebe61f5e-2d70-4bac-c8e0-b41360009e44"
      },
      "cell_type": "code",
      "source": [
        "print(x_batch.shape)\n",
        "print(y_batch.shape)"
      ],
      "execution_count": 41,
      "outputs": [
        {
          "output_type": "stream",
          "text": [
            "(115, 1, 12)\n",
            "(115, 1, 2)\n"
          ],
          "name": "stdout"
        }
      ]
    },
    {
      "metadata": {
        "id": "bcxtcjFCTIcy",
        "colab_type": "text"
      },
      "cell_type": "markdown",
      "source": [
        "We can plot one of the 12 input-signals as an example."
      ]
    },
    {
      "metadata": {
        "id": "3SLUUT4MTIcy",
        "colab_type": "code",
        "colab": {
          "base_uri": "https://localhost:8080/",
          "height": 282
        },
        "outputId": "8829cfe8-7bbd-4239-9cd2-b9dc6b57bf84"
      },
      "cell_type": "code",
      "source": [
        "batch = 0   # First sequence in the batch.\n",
        "signal = 6  # 'Settle' signal from the 12 input-signals.\n",
        "seq = x_batch[batch, :, signal]\n",
        "plt.plot(seq)"
      ],
      "execution_count": 42,
      "outputs": [
        {
          "output_type": "execute_result",
          "data": {
            "text/plain": [
              "[<matplotlib.lines.Line2D at 0x7f2c1efca8d0>]"
            ]
          },
          "metadata": {
            "tags": []
          },
          "execution_count": 42
        },
        {
          "output_type": "display_data",
          "data": {
            "image/png": "[encoded data removed]",
            "text/plain": [
              "<Figure size 432x288 with 1 Axes>"
            ]
          },
          "metadata": {
            "tags": []
          }
        }
      ]
    },
    {
      "metadata": {
        "id": "bQ1siel-TIc2",
        "colab_type": "text"
      },
      "cell_type": "markdown",
      "source": [
        "We can also plot one of the output-signals that we want the model to learn how to predict given all those 12 input signals."
      ]
    },
    {
      "metadata": {
        "id": "89Z2MnXkTIc2",
        "colab_type": "code",
        "colab": {
          "base_uri": "https://localhost:8080/",
          "height": 282
        },
        "outputId": "72e33ea5-e861-48ca-8167-4932ca042a0f"
      },
      "cell_type": "code",
      "source": [
        "signal = 0 \n",
        "seq = y_batch[batch, :, signal]\n",
        "plt.plot(seq)"
      ],
      "execution_count": 43,
      "outputs": [
        {
          "output_type": "execute_result",
          "data": {
            "text/plain": [
              "[<matplotlib.lines.Line2D at 0x7f2c1cecff28>]"
            ]
          },
          "metadata": {
            "tags": []
          },
          "execution_count": 43
        },
        {
          "output_type": "display_data",
          "data": {
            "image/png": "[encoded data removed]",
            "text/plain": [
              "<Figure size 432x288 with 1 Axes>"
            ]
          },
          "metadata": {
            "tags": []
          }
        }
      ]
    },
    {
      "metadata": {
        "id": "znPu1taiTIc-",
        "colab_type": "text"
      },
      "cell_type": "markdown",
      "source": [
        "### Validation Set\n",
        "\n",
        "The neural network trains quickly so we can easily run many training epochs. But then there is a risk of overfitting the model to the training-set so it does not generalize well to unseen data. We will therefore monitor the model's performance on the test-set after each epoch and only save the model's weights if the performance is improved on the test-set.\n",
        "\n",
        "The batch-generator randomly selects a batch of short sequences from the training-data and uses that during training. But for the validation-data we will instead run through the entire sequence from the test-set and measure the prediction accuracy on that entire sequence."
      ]
    },
    {
      "metadata": {
        "id": "NzN9CgrWTIdD",
        "colab_type": "code",
        "colab": {}
      },
      "cell_type": "code",
      "source": [
        "validation_data = (np.expand_dims(x_test_scaled, axis=0),\n",
        "                   np.expand_dims(y_test_scaled, axis=0))"
      ],
      "execution_count": 0,
      "outputs": []
    },
    {
      "metadata": {
        "id": "ChqmLggUTIdI",
        "colab_type": "text"
      },
      "cell_type": "markdown",
      "source": [
        "## Create the Recurrent Neural Network\n",
        "\n",
        "We are now ready to create the Recurrent Neural Network (RNN). We will use the Keras API for this because of its simplicity. See Tutorial #03-C for a tutorial on Keras and Tutorial #20 for more information on Recurrent Neural Networks."
      ]
    },
    {
      "metadata": {
        "id": "FovK8CW-TIdL",
        "colab_type": "code",
        "colab": {}
      },
      "cell_type": "code",
      "source": [
        "model = Sequential()"
      ],
      "execution_count": 0,
      "outputs": []
    },
    {
      "metadata": {
        "id": "UjMTAxn3TIdW",
        "colab_type": "text"
      },
      "cell_type": "markdown",
      "source": [
        "We can now add a Gated Recurrent Unit (GRU) to the network. This will have 512 outputs for each time-step in the sequence.\n",
        "\n",
        "Note that because this is the first layer in the model, Keras needs to know the shape of its input, which is a batch of sequences of arbitrary length (indicated by `None`), where each observation has a number of input-signals (`num_x_signals`)."
      ]
    },
    {
      "metadata": {
        "id": "J0SclgB1TIdc",
        "colab_type": "code",
        "colab": {
          "base_uri": "https://localhost:8080/",
          "height": 88
        },
        "outputId": "7e4daa05-8eae-413e-aa8e-4d93ffb0cca7"
      },
      "cell_type": "code",
      "source": [
        "model.add(GRU(units=512,\n",
        "              return_sequences=True,\n",
        "              input_shape=(None, num_x_signals,)))"
      ],
      "execution_count": 46,
      "outputs": [
        {
          "output_type": "stream",
          "text": [
            "WARNING:tensorflow:From /usr/local/lib/python3.6/dist-packages/tensorflow/python/ops/resource_variable_ops.py:435: colocate_with (from tensorflow.python.framework.ops) is deprecated and will be removed in a future version.\n",
            "Instructions for updating:\n",
            "Colocations handled automatically by placer.\n"
          ],
          "name": "stdout"
        }
      ]
    },
    {
      "metadata": {
        "id": "qTQZQe66TIdl",
        "colab_type": "text"
      },
      "cell_type": "markdown",
      "source": [
        "The GRU outputs a batch of sequences of 512 values. We want to predict 3 output-signals, so we add a fully-connected (or dense) layer which maps 512 values down to only 3 values.\n",
        "\n",
        "The output-signals in the data-set have been limited to be between 0 and 1 using a scaler-object. So we also limit the output of the neural network using the Sigmoid activation function, which squashes the output to be between 0 and 1."
      ]
    },
    {
      "metadata": {
        "id": "ePkbksh0TIdm",
        "colab_type": "code",
        "colab": {}
      },
      "cell_type": "code",
      "source": [
        "model.add(Dense(num_y_signals, activation='sigmoid'))"
      ],
      "execution_count": 0,
      "outputs": []
    },
    {
      "metadata": {
        "id": "CasTvdGnTIdp",
        "colab_type": "text"
      },
      "cell_type": "markdown",
      "source": [
        "A problem with using the Sigmoid activation function, is that we can now only output values in the same range as the training-data.\n",
        "\n",
        "For example, if the training-data only has temperatures between -20 and +30 degrees, then the scaler-object will map -20 to 0 and +30 to 1. So if we limit the output of the neural network to be between 0 and 1 using the Sigmoid function, this can only be mapped back to temperature values between -20 and +30.\n",
        "\n",
        "We can use a linear activation function on the output instead. This allows for the output to take on arbitrary values. It might work with the standard initialization for a simple network architecture, but for more complicated network architectures e.g. with more layers, it might be necessary to initialize the weights with smaller values to avoid `NaN` values during training. You may need to experiment with this to get it working."
      ]
    },
    {
      "metadata": {
        "id": "X-2_yirOTIdq",
        "colab_type": "code",
        "colab": {}
      },
      "cell_type": "code",
      "source": [
        "if False:\n",
        "    from tensorflow.python.keras.initializers import RandomUniform\n",
        "\n",
        "    # Maybe use lower init-ranges.\n",
        "    init = RandomUniform(minval=-0.05, maxval=0.05)\n",
        "\n",
        "    model.add(Dense(num_y_signals,\n",
        "                    activation='linear',\n",
        "                    kernel_initializer=init))"
      ],
      "execution_count": 0,
      "outputs": []
    },
    {
      "metadata": {
        "id": "FTQ45lRKTIds",
        "colab_type": "text"
      },
      "cell_type": "markdown",
      "source": [
        "### Loss Function\n",
        "\n",
        "We will use Mean Squared Error (MSE) as the loss-function that will be minimized. This measures how closely the model's output matches the true output signals.\n",
        "\n",
        "However, at the beginning of a sequence, the model has only seen input-signals for a few time-steps, so its generated output may be very inaccurate. Using the loss-value for the early time-steps may cause the model to distort its later output. We therefore give the model a \"warmup-period\" of 27 time-steps where we don't use its accuracy in the loss-function, in hope of improving the accuracy for later time-steps."
      ]
    },
    {
      "metadata": {
        "id": "CoHN4TwcTIdt",
        "colab_type": "code",
        "colab": {}
      },
      "cell_type": "code",
      "source": [
        "warmup_steps = 100"
      ],
      "execution_count": 0,
      "outputs": []
    },
    {
      "metadata": {
        "id": "a6MjcbppTIdx",
        "colab_type": "code",
        "colab": {}
      },
      "cell_type": "code",
      "source": [
        "def loss_mse_warmup(y_true, y_pred):\n",
        "    \"\"\"\n",
        "    Calculate the Mean Squared Error between y_true and y_pred,\n",
        "    but ignore the beginning \"warmup\" part of the sequences.\n",
        "    \n",
        "    y_true is the desired output.\n",
        "    y_pred is the model's output.\n",
        "    \"\"\"\n",
        "\n",
        "    # The shape of both input tensors are:\n",
        "    # [batch_size, sequence_length, num_y_signals].\n",
        "\n",
        "    # Ignore the \"warmup\" parts of the sequences\n",
        "    # by taking slices of the tensors.\n",
        "    y_true_slice = y_true[:, warmup_steps:, :]\n",
        "    y_pred_slice = y_pred[:, warmup_steps:, :]\n",
        "\n",
        "    # These sliced tensors both have this shape:\n",
        "    # [batch_size, sequence_length - warmup_steps, num_y_signals]\n",
        "\n",
        "    # Calculate the MSE loss for each value in these tensors.\n",
        "    # This outputs a 3-rank tensor of the same shape.\n",
        "    loss = tf.losses.mean_squared_error(labels=y_true_slice,\n",
        "                                        predictions=y_pred_slice)\n",
        "\n",
        "    # Keras may reduce this across the first axis (the batch)\n",
        "    # but the semantics are unclear, so to be sure we use\n",
        "    # the loss across the entire tensor, we reduce it to a\n",
        "    # single scalar with the mean function.\n",
        "    loss_mean = tf.reduce_mean(loss)\n",
        "    \n",
        "    #return loss_mean\n",
        "    return tf.sqrt(tf.reduce_mean(tf.square(tf.subtract(y_true, y_pred))))"
      ],
      "execution_count": 0,
      "outputs": []
    },
    {
      "metadata": {
        "id": "6JP9nloHTId0",
        "colab_type": "text"
      },
      "cell_type": "markdown",
      "source": [
        "### Compile Model\n",
        "\n",
        "This is the optimizer and the beginning learning-rate that we will use."
      ]
    },
    {
      "metadata": {
        "id": "qtuihe0lTId1",
        "colab_type": "code",
        "colab": {}
      },
      "cell_type": "code",
      "source": [
        "optimizer = RMSprop(lr=1e-3)"
      ],
      "execution_count": 0,
      "outputs": []
    },
    {
      "metadata": {
        "id": "1MoSsLgKTId3",
        "colab_type": "text"
      },
      "cell_type": "markdown",
      "source": [
        "We then compile the Keras model so it is ready for training."
      ]
    },
    {
      "metadata": {
        "id": "fOQ3AJx9TId4",
        "colab_type": "code",
        "colab": {}
      },
      "cell_type": "code",
      "source": [
        "model.compile(loss=loss_mse_warmup, optimizer=optimizer)"
      ],
      "execution_count": 0,
      "outputs": []
    },
    {
      "metadata": {
        "id": "EGf0_eAyTId7",
        "colab_type": "text"
      },
      "cell_type": "markdown",
      "source": [
        "This is a very small model with only two layers. The output shape of `(None, None, 3)` means that the model will output a batch with an arbitrary number of sequences, each of which has an arbitrary number of observations, and each observation has 1 signal. This corresponds to the 1 target signal we want to predict."
      ]
    },
    {
      "metadata": {
        "id": "NOoVc3gcTId7",
        "colab_type": "code",
        "colab": {
          "base_uri": "https://localhost:8080/",
          "height": 204
        },
        "outputId": "1ac74ba1-0b7c-4449-b688-b8b0513878fc"
      },
      "cell_type": "code",
      "source": [
        "model.summary()"
      ],
      "execution_count": 53,
      "outputs": [
        {
          "output_type": "stream",
          "text": [
            "_________________________________________________________________\n",
            "Layer (type)                 Output Shape              Param #   \n",
            "=================================================================\n",
            "gru (GRU)                    (None, None, 512)         806400    \n",
            "_________________________________________________________________\n",
            "dense (Dense)                (None, None, 2)           1026      \n",
            "=================================================================\n",
            "Total params: 807,426\n",
            "Trainable params: 807,426\n",
            "Non-trainable params: 0\n",
            "_________________________________________________________________\n"
          ],
          "name": "stdout"
        }
      ]
    },
    {
      "metadata": {
        "id": "UNOt_z7QTId-",
        "colab_type": "text"
      },
      "cell_type": "markdown",
      "source": [
        "### Callback Functions\n",
        "\n",
        "During training we want to save checkpoints and log the progress to TensorBoard so we create the appropriate callbacks for Keras.\n",
        "\n",
        "This is the callback for writing checkpoints during training."
      ]
    },
    {
      "metadata": {
        "id": "MG9kFzdaTId_",
        "colab_type": "code",
        "colab": {}
      },
      "cell_type": "code",
      "source": [
        "path_checkpoint = '23_checkpoint.keras'\n",
        "callback_checkpoint = ModelCheckpoint(filepath=path_checkpoint,\n",
        "                                      monitor='val_loss',\n",
        "                                      verbose=1,\n",
        "                                      save_weights_only=True,\n",
        "                                      save_best_only=True)"
      ],
      "execution_count": 0,
      "outputs": []
    },
    {
      "metadata": {
        "id": "HsRdTom_TIeC",
        "colab_type": "text"
      },
      "cell_type": "markdown",
      "source": [
        "This is the callback for stopping the optimization when performance worsens on the validation-set."
      ]
    },
    {
      "metadata": {
        "id": "JVMNR0pnTIeD",
        "colab_type": "code",
        "colab": {}
      },
      "cell_type": "code",
      "source": [
        "callback_early_stopping = EarlyStopping(monitor='val_loss',\n",
        "                                        patience=7, verbose=1)"
      ],
      "execution_count": 0,
      "outputs": []
    },
    {
      "metadata": {
        "id": "Fg4YP4S3TIeF",
        "colab_type": "text"
      },
      "cell_type": "markdown",
      "source": [
        "This is the callback for writing the TensorBoard log during training."
      ]
    },
    {
      "metadata": {
        "id": "yYZzOqpVTIeJ",
        "colab_type": "code",
        "colab": {}
      },
      "cell_type": "code",
      "source": [
        "callback_tensorboard = TensorBoard(log_dir='./23_logs/',\n",
        "                                   histogram_freq=0,\n",
        "                                   write_graph=False)"
      ],
      "execution_count": 0,
      "outputs": []
    },
    {
      "metadata": {
        "id": "Jev-2YAQTIeL",
        "colab_type": "text"
      },
      "cell_type": "markdown",
      "source": [
        "This callback reduces the learning-rate for the optimizer if the validation-loss has not improved since the last epoch (as indicated by `patience=0`). The learning-rate will be reduced by multiplying it with the given factor. We set a start learning-rate of 1e-3 above, so multiplying it by 0.1 gives a learning-rate of 1e-4. We don't want the learning-rate to go any lower than this."
      ]
    },
    {
      "metadata": {
        "id": "419Ri_mnTIeM",
        "colab_type": "code",
        "colab": {}
      },
      "cell_type": "code",
      "source": [
        "callback_reduce_lr = ReduceLROnPlateau(monitor='val_loss',\n",
        "                                       factor=0.1,\n",
        "                                       min_lr=1e-4,\n",
        "                                       patience=0,\n",
        "                                       verbose=1)"
      ],
      "execution_count": 0,
      "outputs": []
    },
    {
      "metadata": {
        "id": "WYP491P9TIeO",
        "colab_type": "code",
        "colab": {}
      },
      "cell_type": "code",
      "source": [
        "callbacks = [callback_early_stopping,\n",
        "             callback_checkpoint,\n",
        "             callback_tensorboard,\n",
        "             callback_reduce_lr]"
      ],
      "execution_count": 0,
      "outputs": []
    },
    {
      "metadata": {
        "id": "cPGNFg5vTIeQ",
        "colab_type": "text"
      },
      "cell_type": "markdown",
      "source": [
        "## Train the Recurrent Neural Network\n",
        "\n",
        "We can now train the neural network.\n",
        "\n",
        "Note that a single \"epoch\" does not correspond to a single processing of the training-set, because of how the batch-generator randomly selects sub-sequences from the training-set. Instead we have selected `steps_per_epoch` so that one \"epoch\" is processed in a few minutes.\n",
        "\n",
        "Also note that the loss sometimes becomes `NaN` (not-a-number). This is often resolved by restarting and running the Notebook again. But it may also be caused by your neural network architecture, learning-rate, batch-size, sequence-length, etc. in which case you may have to modify those settings."
      ]
    },
    {
      "metadata": {
        "id": "PVBCG5tgTIeS",
        "colab_type": "code",
        "colab": {
          "base_uri": "https://localhost:8080/",
          "height": 1768
        },
        "outputId": "bdfc2758-1476-4740-cb3b-2a4dac290363"
      },
      "cell_type": "code",
      "source": [
        "%%time\n",
        "model.fit_generator(generator=generator,\n",
        "                    epochs=20,\n",
        "                    steps_per_epoch=100,\n",
        "                    validation_data=validation_data,\n",
        "                    callbacks=callbacks)"
      ],
      "execution_count": 75,
      "outputs": [
        {
          "output_type": "stream",
          "text": [
            "Epoch 1/20\n",
            "1/1 [==============================] - 0s 150ms/sample - loss: 0.3820\n",
            "\n",
            "Epoch 00001: val_loss did not improve from 0.00000\n",
            "100/100 [==============================] - 5s 53ms/step - loss: 0.2419 - val_loss: 0.3820\n",
            "Epoch 2/20\n",
            "1/1 [==============================] - 0s 33ms/sample - loss: 0.3264\n",
            "\n",
            "Epoch 00002: val_loss did not improve from 0.00000\n",
            "100/100 [==============================] - 4s 42ms/step - loss: 0.1883 - val_loss: 0.3264\n",
            "Epoch 3/20\n",
            "1/1 [==============================] - 0s 35ms/sample - loss: 0.2212\n",
            "\n",
            "Epoch 00003: val_loss did not improve from 0.00000\n",
            "100/100 [==============================] - 4s 42ms/step - loss: 0.1471 - val_loss: 0.2212\n",
            "Epoch 4/20\n",
            "1/1 [==============================] - 0s 33ms/sample - loss: 0.1633\n",
            "\n",
            "Epoch 00004: val_loss did not improve from 0.00000\n",
            "100/100 [==============================] - 4s 41ms/step - loss: 0.1177 - val_loss: 0.1633\n",
            "Epoch 5/20\n",
            "1/1 [==============================] - 0s 32ms/sample - loss: 0.1397\n",
            "\n",
            "Epoch 00005: val_loss did not improve from 0.00000\n",
            "100/100 [==============================] - 4s 42ms/step - loss: 0.0979 - val_loss: 0.1397\n",
            "Epoch 6/20\n",
            "1/1 [==============================] - 0s 35ms/sample - loss: 0.1297\n",
            "\n",
            "Epoch 00006: val_loss did not improve from 0.00000\n",
            "100/100 [==============================] - 4s 43ms/step - loss: 0.0839 - val_loss: 0.1297\n",
            "Epoch 7/20\n",
            "1/1 [==============================] - 0s 32ms/sample - loss: 0.1187\n",
            "\n",
            "Epoch 00007: val_loss did not improve from 0.00000\n",
            "100/100 [==============================] - 4s 42ms/step - loss: 0.0731 - val_loss: 0.1187\n",
            "Epoch 8/20\n",
            "1/1 [==============================] - 0s 34ms/sample - loss: 0.1185\n",
            "\n",
            "Epoch 00008: val_loss did not improve from 0.00000\n",
            "100/100 [==============================] - 4s 42ms/step - loss: 0.0655 - val_loss: 0.1185\n",
            "Epoch 9/20\n",
            "1/1 [==============================] - 0s 33ms/sample - loss: 0.1146\n",
            "\n",
            "Epoch 00009: val_loss did not improve from 0.00000\n",
            "100/100 [==============================] - 4s 41ms/step - loss: 0.0629 - val_loss: 0.1146\n",
            "Epoch 10/20\n",
            "1/1 [==============================] - 0s 33ms/sample - loss: 0.1136\n",
            "\n",
            "Epoch 00010: val_loss did not improve from 0.00000\n",
            "100/100 [==============================] - 4s 41ms/step - loss: 0.0600 - val_loss: 0.1136\n",
            "Epoch 11/20\n",
            "1/1 [==============================] - 0s 33ms/sample - loss: 0.1143\n",
            "\n",
            "Epoch 00011: val_loss did not improve from 0.00000\n",
            "100/100 [==============================] - 4s 41ms/step - loss: 0.0570 - val_loss: 0.1143\n",
            "Epoch 12/20\n",
            "1/1 [==============================] - 0s 33ms/sample - loss: 0.1139\n",
            "\n",
            "Epoch 00012: val_loss did not improve from 0.00000\n",
            "100/100 [==============================] - 4s 42ms/step - loss: 0.0556 - val_loss: 0.1139\n",
            "Epoch 13/20\n",
            "1/1 [==============================] - 0s 35ms/sample - loss: 0.1139\n",
            "\n",
            "Epoch 00013: val_loss did not improve from 0.00000\n",
            "100/100 [==============================] - 4s 42ms/step - loss: 0.0543 - val_loss: 0.1139\n",
            "Epoch 14/20\n",
            "1/1 [==============================] - 0s 32ms/sample - loss: 0.1125\n",
            "\n",
            "Epoch 00014: val_loss did not improve from 0.00000\n",
            "100/100 [==============================] - 4s 42ms/step - loss: 0.0533 - val_loss: 0.1125\n",
            "Epoch 15/20\n",
            "1/1 [==============================] - 0s 33ms/sample - loss: 0.1133\n",
            "\n",
            "Epoch 00015: val_loss did not improve from 0.00000\n",
            "100/100 [==============================] - 4s 42ms/step - loss: 0.0525 - val_loss: 0.1133\n",
            "Epoch 16/20\n",
            "1/1 [==============================] - 0s 32ms/sample - loss: 0.1104\n",
            "\n",
            "Epoch 00016: val_loss did not improve from 0.00000\n",
            "100/100 [==============================] - 4s 41ms/step - loss: 0.0516 - val_loss: 0.1104\n",
            "Epoch 17/20\n",
            "1/1 [==============================] - 0s 34ms/sample - loss: 0.1111\n",
            "\n",
            "Epoch 00017: val_loss did not improve from 0.00000\n",
            "100/100 [==============================] - 4s 42ms/step - loss: 0.0515 - val_loss: 0.1111\n",
            "Epoch 18/20\n",
            "1/1 [==============================] - 0s 37ms/sample - loss: 0.1128\n",
            "\n",
            "Epoch 00018: val_loss did not improve from 0.00000\n",
            "100/100 [==============================] - 4s 42ms/step - loss: 0.0499 - val_loss: 0.1128\n",
            "Epoch 19/20\n",
            "1/1 [==============================] - 0s 32ms/sample - loss: 0.1096\n",
            "\n",
            "Epoch 00019: val_loss did not improve from 0.00000\n",
            "100/100 [==============================] - 4s 42ms/step - loss: 0.0496 - val_loss: 0.1096\n",
            "Epoch 20/20\n",
            "1/1 [==============================] - 0s 33ms/sample - loss: 0.1110\n",
            "\n",
            "Epoch 00020: val_loss did not improve from 0.00000\n",
            "100/100 [==============================] - 4s 43ms/step - loss: 0.0498 - val_loss: 0.1110\n",
            "CPU times: user 2min 19s, sys: 6.54 s, total: 2min 26s\n",
            "Wall time: 1min 25s\n"
          ],
          "name": "stdout"
        },
        {
          "output_type": "execute_result",
          "data": {
            "text/plain": [
              "<tensorflow.python.keras.callbacks.History at 0x7f2c19bdef98>"
            ]
          },
          "metadata": {
            "tags": []
          },
          "execution_count": 75
        }
      ]
    },
    {
      "metadata": {
        "id": "LcqagtRyTIeY",
        "colab_type": "text"
      },
      "cell_type": "markdown",
      "source": [
        "### Load Checkpoint\n",
        "\n",
        "Because we use early-stopping when training the model, it is possible that the model's performance has worsened on the test-set for several epochs before training was stopped. We therefore reload the last saved checkpoint, which should have the best performance on the test-set."
      ]
    },
    {
      "metadata": {
        "id": "jfbjc0QoTIeY",
        "colab_type": "code",
        "colab": {}
      },
      "cell_type": "code",
      "source": [
        "try:\n",
        "    model.load_weights(path_checkpoint)\n",
        "except Exception as error:\n",
        "    print(\"Error trying to load checkpoint.\")\n",
        "    print(error)"
      ],
      "execution_count": 0,
      "outputs": []
    },
    {
      "metadata": {
        "id": "lDG3kDHMTIea",
        "colab_type": "text"
      },
      "cell_type": "markdown",
      "source": [
        "## Performance on Test-Set\n",
        "\n",
        "We can now evaluate the model's performance on the test-set. This function expects a batch of data, but we will just use one long time-series for the test-set, so we just expand the array-dimensionality to create a batch with that one sequence."
      ]
    },
    {
      "metadata": {
        "id": "HK_2mF91TIeb",
        "colab_type": "code",
        "colab": {
          "base_uri": "https://localhost:8080/",
          "height": 34
        },
        "outputId": "55c567e3-865b-4731-f7f7-618d470b7172"
      },
      "cell_type": "code",
      "source": [
        "result = model.evaluate(x=np.expand_dims(x_test_scaled, axis=0),\n",
        "                        y=np.expand_dims(y_test_scaled, axis=0))"
      ],
      "execution_count": 76,
      "outputs": [
        {
          "output_type": "stream",
          "text": [
            "\r1/1 [==============================] - 0s 45ms/sample - loss: 0.1110\n"
          ],
          "name": "stdout"
        }
      ]
    },
    {
      "metadata": {
        "id": "7PzUm-vLTIed",
        "colab_type": "code",
        "colab": {
          "base_uri": "https://localhost:8080/",
          "height": 34
        },
        "outputId": "ba6a0b56-53ea-44a3-e9cd-c0ebf99572e7"
      },
      "cell_type": "code",
      "source": [
        "print(\"loss (test-set):\", result)"
      ],
      "execution_count": 79,
      "outputs": [
        {
          "output_type": "stream",
          "text": [
            "loss (test-set): 0.1109999492764473\n"
          ],
          "name": "stdout"
        }
      ]
    },
    {
      "metadata": {
        "id": "V-OlYIXHTIei",
        "colab_type": "code",
        "colab": {}
      },
      "cell_type": "code",
      "source": [
        "# If you have several metrics you can use this instead.\n",
        "if False:\n",
        "    for res, metric in zip(result, model.metrics_names):\n",
        "        print(\"{0}: {1:.3e}\".format(metric, res))"
      ],
      "execution_count": 0,
      "outputs": []
    },
    {
      "metadata": {
        "id": "xYNPF-EMTIel",
        "colab_type": "text"
      },
      "cell_type": "markdown",
      "source": [
        "## Generate Predictions\n",
        "\n",
        "This helper-function plots the predicted and true output-signals."
      ]
    },
    {
      "metadata": {
        "id": "FFGsjTgfTIel",
        "colab_type": "code",
        "colab": {}
      },
      "cell_type": "code",
      "source": [
        "def plot_comparison(start_idx, length=100, train=True):\n",
        "    \"\"\"\n",
        "    Plot the predicted and true output-signals.\n",
        "    \n",
        "    :param start_idx: Start-index for the time-series.\n",
        "    :param length: Sequence-length to process and plot.\n",
        "    :param train: Boolean whether to use training- or test-set.\n",
        "    \"\"\"\n",
        "    \n",
        "    if train:\n",
        "        # Use training-data.\n",
        "        x = x_train_scaled\n",
        "        y_true = y_train\n",
        "    else:\n",
        "        # Use test-data.\n",
        "        x = x_test_scaled\n",
        "        y_true = y_test\n",
        "    \n",
        "    # End-index for the sequences.\n",
        "    end_idx = start_idx + length\n",
        "    \n",
        "    # Select the sequences from the given start-index and\n",
        "    # of the given length.\n",
        "    x = x[start_idx:end_idx]\n",
        "    y_true = y_true[start_idx:end_idx]\n",
        "    \n",
        "    # Input-signals for the model.\n",
        "    x = np.expand_dims(x, axis=0)\n",
        "\n",
        "    # Use the model to predict the output-signals.\n",
        "    y_pred = model.predict(x)\n",
        "    \n",
        "    # The output of the model is between 0 and 1.\n",
        "    # Do an inverse map to get it back to the scale\n",
        "    # of the original data-set.\n",
        "    y_pred_rescaled = y_scaler.inverse_transform(y_pred[0])\n",
        "    \n",
        "    # For each output-signal.\n",
        "    for signal in range(len(target_names)):\n",
        "        # Get the output-signal predicted by the model.\n",
        "        signal_pred = y_pred_rescaled[:, signal]\n",
        "        \n",
        "        # Get the true output-signal from the data-set.\n",
        "        signal_true = y_true[:, signal]\n",
        "\n",
        "        # Make the plotting-canvas bigger.\n",
        "        plt.figure(figsize=(15,5))\n",
        "        \n",
        "        # Plot and compare the two signals.\n",
        "        plt.plot(signal_true, label='true')\n",
        "        plt.plot(signal_pred, label='pred')\n",
        "        \n",
        "        # Plot grey box for warmup-period.\n",
        "        p = plt.axvspan(0, warmup_steps, facecolor='black', alpha=0.15)\n",
        "        \n",
        "        # Plot labels etc.\n",
        "        plt.ylabel(target_names[signal])\n",
        "        plt.legend()\n",
        "        plt.show()"
      ],
      "execution_count": 0,
      "outputs": []
    },
    {
      "metadata": {
        "id": "Ep4VOPtjTIen",
        "colab_type": "text"
      },
      "cell_type": "markdown",
      "source": [
        "We can now plot an example of predicted output-signals. It is important to understand what these plots show, as they are actually a bit more complicated than you might think.\n",
        "\n",
        "These plots only show the output-signals and not the 20 input-signals used to predict the output-signals. The time-shift between the input-signals and the output-signals is held fixed in these plots. The model **always** predicts the output-signals e.g. 24 hours into the future (as defined in the `shift_steps` variable above). So the plot's x-axis merely shows how many time-steps of the input-signals have been seen by the predictive model so far.\n",
        "\n",
        "The prediction is not very accurate for the first 30-50 time-steps because the model has seen very little input-data at this point.\n",
        "The model generates a single time-step of output data for each time-step of the input-data, so when the model has only run for a few time-steps, it knows very little of the history of the input-signals and cannot make an accurate prediction. The model needs to \"warm up\" by processing perhaps 30-50 time-steps before its predicted output-signals can be used.\n",
        "\n",
        "That is why we ignore this \"warmup-period\" of 50 time-steps when calculating the mean-squared-error in the loss-function. The \"warmup-period\" is shown as a grey box in these plots.\n",
        "\n",
        "Let us start with an example from the training-data. This is data that the model has seen during training so it should perform reasonably well on this data."
      ]
    },
    {
      "metadata": {
        "scrolled": true,
        "id": "pDBxclLCTIeo",
        "colab_type": "code",
        "colab": {
          "base_uri": "https://localhost:8080/",
          "height": 643
        },
        "outputId": "52ef2b07-80f2-4a2b-befd-997fff14a688"
      },
      "cell_type": "code",
      "source": [
        "plot_comparison(start_idx=START_IDX, length=LENGHT, train=True)"
      ],
      "execution_count": 81,
      "outputs": [
        {
          "output_type": "display_data",
          "data": {
            "image/png": "[encoded data removed]",
            "text/plain": [
              "<Figure size 1080x360 with 1 Axes>"
            ]
          },
          "metadata": {
            "tags": []
          }
        },
        {
          "output_type": "display_data",
          "data": {
            "image/png": "[encoded data removed]",
            "text/plain": [
              "<Figure size 1080x360 with 1 Axes>"
            ]
          },
          "metadata": {
            "tags": []
          }
        }
      ]
    },
    {
      "metadata": {
        "id": "I9rwR5mgTIeq",
        "colab_type": "text"
      },
      "cell_type": "markdown",
      "source": [
        "The model was able to predict the overall oscillations of the temperature quite well but the peaks were sometimes inaccurate. For the wind-speed, the overall oscillations are predicted reasonably well but the peaks are quite inaccurate. For the atmospheric pressure, the overall curve-shape has been predicted although there seems to be a slight lag and the predicted curve has a lot of noise compared to the smoothness of the original signal."
      ]
    },
    {
      "metadata": {
        "id": "WW0tXClMTIer",
        "colab_type": "text"
      },
      "cell_type": "markdown",
      "source": [
        "### Strange Example\n",
        "\n",
        "The following is another example from the training-set.\n",
        "\n",
        "Note how the temperature does not oscillate very much within each day (this plot shows almost 42 days). The temperature normally oscillates within each day, see e.g. the plot above where the daily temperature-oscillation is very clear. It is unclear whether this period had unusually stable temperature, or if perhaps there's a data-error."
      ]
    },
    {
      "metadata": {
        "id": "JcuGMhpeTIes",
        "colab_type": "code",
        "colab": {
          "base_uri": "https://localhost:8080/",
          "height": 643
        },
        "outputId": "21d9ced6-b550-40e9-d5d0-c15a91116c66"
      },
      "cell_type": "code",
      "source": [
        "plot_comparison(start_idx=START_IDX, length=LENGHT, train=True)"
      ],
      "execution_count": 82,
      "outputs": [
        {
          "output_type": "display_data",
          "data": {
            "image/png": "[encoded data removed]",
            "text/plain": [
              "<Figure size 1080x360 with 1 Axes>"
            ]
          },
          "metadata": {
            "tags": []
          }
        },
        {
          "output_type": "display_data",
          "data": {
            "image/png": "[encoded data removed]",
            "text/plain": [
              "<Figure size 1080x360 with 1 Axes>"
            ]
          },
          "metadata": {
            "tags": []
          }
        }
      ]
    },
    {
      "metadata": {
        "id": "HHTRMEyPTIeu",
        "colab_type": "text"
      },
      "cell_type": "markdown",
      "source": [
        "As a check, we can plot this signal directly from the resampled data-set, which looks similar."
      ]
    },
    {
      "metadata": {
        "id": "wBCTrigNTIe5",
        "colab_type": "text"
      },
      "cell_type": "markdown",
      "source": [
        "### Example from Test-Set\n",
        "\n",
        "Now consider an example from the test-set. The model has not seen this data during training.\n",
        "\n",
        "The temperature is predicted reasonably well, although the peaks are sometimes inaccurate.\n",
        "\n",
        "The wind-speed has not been predicted so well. The daily oscillation-frequency seems to match, but the center-level and the peaks are quite inaccurate. A guess would be that the wind-speed is difficult to predict from the given input data, so the model has merely learnt to output sinusoidal oscillations in the daily frequency and approximately at the right center-level.\n",
        "\n",
        "The atmospheric pressure is predicted reasonably well, except for a lag and a more noisy signal than the true time-series."
      ]
    },
    {
      "metadata": {
        "scrolled": false,
        "id": "uOTlzxqoTIe6",
        "colab_type": "code",
        "colab": {
          "base_uri": "https://localhost:8080/",
          "height": 643
        },
        "outputId": "5550f807-ab3d-4dd9-ac6b-02345269e4ab"
      },
      "cell_type": "code",
      "source": [
        "plot_comparison(start_idx=START_IDX, length=LENGHT, train=False)"
      ],
      "execution_count": 83,
      "outputs": [
        {
          "output_type": "display_data",
          "data": {
            "image/png": "[encoded data removed]",
            "text/plain": [
              "<Figure size 1080x360 with 1 Axes>"
            ]
          },
          "metadata": {
            "tags": []
          }
        },
        {
          "output_type": "display_data",
          "data": {
            "image/png": "[encoded data removed]",
            "text/plain": [
              "<Figure size 1080x360 with 1 Axes>"
            ]
          },
          "metadata": {
            "tags": []
          }
        }
      ]
    },
    {
      "metadata": {
        "id": "7GByiqB5TIe-",
        "colab_type": "text"
      },
      "cell_type": "markdown",
      "source": [
        "## Conclusion\n",
        "\n",
        "This tutorial showed how to use a Recurrent Neural Network to predict several time-series from a number of input-signals. We used weather-data for 5 cities to predict tomorrow's weather for one of the cities.\n",
        "\n",
        "It worked reasonably well for predicting the temperature where the daily oscillations were predicted well, but the peaks were sometimes not predicted so accurately. The atmospheric pressure was also predicted reasonably well, although the predicted signal was more noisy and had a short lag. The wind-speed could not be predicted very well.\n",
        "\n",
        "You can use this method with different time-series but you should be careful to distinguish between *causation and correlation* in the data. The neural network may easily discover patterns in the data that are only temporary correlations which do not generalize well to unseen data.\n",
        "\n",
        "You should select input- and output-data where a *causal* relationship probably exists. You should have a lot of data available for training, and you should try and reduce the risk of over-fitting the model to the training-data, e.g. using early-stopping as we did in this tutorial."
      ]
    },
    {
      "metadata": {
        "id": "WHtL9XX-TIfA",
        "colab_type": "text"
      },
      "cell_type": "markdown",
      "source": [
        "## Exercises\n",
        "\n",
        "These are a few suggestions for exercises that may help improve your skills with TensorFlow. It is important to get hands-on experience with TensorFlow in order to learn how to use it properly.\n",
        "\n",
        "You may want to backup this Notebook before making any changes.\n",
        "\n",
        "* Remove the wind-speed from the target-data. Does it improve prediction for the temperature and pressure?\n",
        "* Train for more epochs, possibly with a lower learning-rate. Does it improve the performance on the test-set?\n",
        "* Try a different architecture for the neural network, e.g. higher or lower state-size for the GRU layer, more GRU layers, dense layers before and after the GRU layers, etc.\n",
        "* Use hyper-parameter optimization from Tutorial #19.\n",
        "* Try using longer and shorter sequences for the batch-generator.\n",
        "* Try and remove the city \"Odense\" from the input-signals.\n",
        "* Try and add last year's weather-data to the input-signals.\n",
        "* How good is the model at predicting the weather 3 or 7 days into the future?\n",
        "* Can you train a single model with the output-signals for multiple time-shifts, so that a single model predicts the weather in e.g. 1, 3 and 7 days.\n",
        "* Explain to a friend how the program works."
      ]
    },
    {
      "metadata": {
        "id": "e4STNFJvTIfB",
        "colab_type": "text"
      },
      "cell_type": "markdown",
      "source": [
        "## License (MIT)\n",
        "\n",
        "Copyright (c) 2018 by [Magnus Erik Hvass Pedersen](http://www.hvass-labs.org/)\n",
        "\n",
        "Permission is hereby granted, free of charge, to any person obtaining a copy of this software and associated documentation files (the \"Software\"), to deal in the Software without restriction, including without limitation the rights to use, copy, modify, merge, publish, distribute, sublicense, and/or sell copies of the Software, and to permit persons to whom the Software is furnished to do so, subject to the following conditions:\n",
        "\n",
        "The above copyright notice and this permission notice shall be included in all copies or substantial portions of the Software.\n",
        "\n",
        "THE SOFTWARE IS PROVIDED \"AS IS\", WITHOUT WARRANTY OF ANY KIND, EXPRESS OR IMPLIED, INCLUDING BUT NOT LIMITED TO THE WARRANTIES OF MERCHANTABILITY, FITNESS FOR A PARTICULAR PURPOSE AND NONINFRINGEMENT. IN NO EVENT SHALL THE AUTHORS OR COPYRIGHT HOLDERS BE LIABLE FOR ANY CLAIM, DAMAGES OR OTHER LIABILITY, WHETHER IN AN ACTION OF CONTRACT, TORT OR OTHERWISE, ARISING FROM, OUT OF OR IN CONNECTION WITH THE SOFTWARE OR THE USE OR OTHER DEALINGS IN THE SOFTWARE."
      ]
    }
  ]
}