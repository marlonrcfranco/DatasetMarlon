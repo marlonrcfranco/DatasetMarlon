{
  "nbformat": 4,
  "nbformat_minor": 0,
  "metadata": {
    "colab": {
      "name": "soyforecast.ipynb",
      "version": "0.3.2",
      "provenance": [],
      "collapsed_sections": [
        "e4STNFJvTIfB"
      ],
      "toc_visible": true,
      "include_colab_link": true
    },
    "kernelspec": {
      "name": "python3",
      "display_name": "Python 3"
    },
    "accelerator": "GPU"
  },
  "cells": [
    {
      "cell_type": "markdown",
      "metadata": {
        "id": "view-in-github",
        "colab_type": "text"
      },
      "source": [
        "<a href=\"https://colab.research.google.com/github/marlonrcfranco/soyforecast/blob/master/soyforecast.ipynb\" target=\"_parent\"><img src=\"https://colab.research.google.com/assets/colab-badge.svg\" alt=\"Open In Colab\"/></a>"
      ]
    },
    {
      "cell_type": "markdown",
      "metadata": {
        "id": "a9hjvEuBTIS_",
        "colab_type": "text"
      },
      "source": [
        "# Soyforecast\n",
        "By [Marlon Franco]()\n",
        "/ [GitHub](https://github.com/marlonrcfranco/soyforecast.git)\n",
        "\n",
        "####Prediction of future soybeans stock prices on the Chicago Stock Exchange (CBOT) using a LSTM model and relating climatic data from the most productive regions of the USA.\n",
        "\n",
        "![alt text](https://github.com/marlonrcfranco/soyforecast/blob/master/Selection_244.png?raw=true)\n",
        "\n",
        "\n",
        "## Soybean, CBOT Soybean Futures + ( Global Historical Climatology Network (GHCN) filtered by USDA-NASS-soybeans-production_bushels-2015)\n",
        "\n",
        "### Soybean, CBOT Soybean Futures\n",
        "- *https://blog.quandl.com/api-for-commodity-data*\n",
        "- *http://www.quandl.com/api/v3/datasets/CHRIS/CME_S1/*\n",
        "\n",
        "### Global Historical Climatology Network (GHCN)\n",
        "- *https://www.ncdc.noaa.gov/data-access/land-based-station-data/land-based-datasets/global-historical-climatology-network-ghcn*\n",
        "- *FTP: ftp://ftp.ncdc.noaa.gov/pub/data/ghcn/daily/by_year/*\n",
        "\n",
        "\n",
        "- **TMAX** = Maximum temperature (tenths of degrees C)\n",
        "- **TMIN** = Minimum temperature (tenths of degrees C)\n",
        "- **TAVG** = Average temperature (tenths of degrees C)\n",
        "```\n",
        "(Note that TAVG from source 'S' corresponds to an average for the period ending at 2400 UTC rather than local midnight )\n",
        "```\n",
        "- **PRCP** = Precipitation (tenths of mm)\n",
        "\n",
        "### USDA-NASS-soybeans-production_bushels-2015\n",
        "- *https://usda-reports.nautilytics.com/?crop=soybeans&statistic=production_dollars&year=2007*\n",
        "- *https://www.nass.usda.gov/Data_Visualization/index.php*\n",
        "\n",
        "\n",
        "****\n",
        "\n",
        "*Based on the tutorial: https://machinelearningmastery.com/multivariate-time-series-forecasting-lstms-keras/*\n"
      ]
    },
    {
      "cell_type": "markdown",
      "metadata": {
        "id": "y1pbHZNeTITl",
        "colab_type": "text"
      },
      "source": [
        "## Imports"
      ]
    },
    {
      "cell_type": "code",
      "metadata": {
        "id": "aXFIQTW4TITp",
        "colab_type": "code",
        "colab": {
          "base_uri": "https://localhost:8080/",
          "height": 54
        },
        "outputId": "19475089-2c33-4160-cde7-5c14a4cf0fc7"
      },
      "source": [
        "%matplotlib inline\n",
        "import os\n",
        "from six.moves import urllib\n",
        "\n",
        "from math import sqrt\n",
        "import numpy as np\n",
        "from numpy import concatenate\n",
        "from matplotlib import pyplot\n",
        "from pandas import read_csv\n",
        "from pandas import DataFrame\n",
        "from pandas import concat\n",
        "from sklearn.preprocessing import MinMaxScaler\n",
        "from sklearn.preprocessing import LabelEncoder\n",
        "from sklearn.metrics import mean_squared_error\n",
        "from keras.models import Sequential\n",
        "from keras.layers import Dense\n",
        "from keras.layers import LSTM\n",
        "\n",
        "from tensorflow.python.keras.callbacks import EarlyStopping, ModelCheckpoint, TensorBoard, ReduceLROnPlateau\n",
        "\n",
        "import matplotlib.pyplot as plt\n",
        "\n",
        "'''\n",
        "\n",
        "import matplotlib.ticker as mticker\n",
        "\n",
        "\n",
        "\n",
        "import tensorflow as tf\n",
        "from sklearn.preprocessing import MinMaxScaler\n",
        "from tensorflow.python.keras.models import Sequential\n",
        "from tensorflow.python.keras.layers import Input, Dense, GRU, Embedding\n",
        "from tensorflow.python.keras.optimizers import RMSprop\n",
        "from tensorflow.python.keras.callbacks import EarlyStopping, ModelCheckpoint, TensorBoard, ReduceLROnPlateau\n",
        "\n",
        "'''\n",
        "\n"
      ],
      "execution_count": 625,
      "outputs": [
        {
          "output_type": "execute_result",
          "data": {
            "text/plain": [
              "'\\n\\nimport matplotlib.ticker as mticker\\n\\n\\n\\nimport tensorflow as tf\\nfrom sklearn.preprocessing import MinMaxScaler\\nfrom tensorflow.python.keras.models import Sequential\\nfrom tensorflow.python.keras.layers import Input, Dense, GRU, Embedding\\nfrom tensorflow.python.keras.optimizers import RMSprop\\nfrom tensorflow.python.keras.callbacks import EarlyStopping, ModelCheckpoint, TensorBoard, ReduceLROnPlateau\\n\\n'"
            ]
          },
          "metadata": {
            "tags": []
          },
          "execution_count": 625
        }
      ]
    },
    {
      "cell_type": "code",
      "metadata": {
        "scrolled": false,
        "id": "p-SE_XjtTIUV",
        "colab_type": "code",
        "outputId": "6ff69192-a3ba-44aa-8cc5-06a918e446a0",
        "colab": {
          "base_uri": "https://localhost:8080/",
          "height": 34
        }
      },
      "source": [
        "tf.__version__"
      ],
      "execution_count": 582,
      "outputs": [
        {
          "output_type": "execute_result",
          "data": {
            "text/plain": [
              "'1.14.0-rc1'"
            ]
          },
          "metadata": {
            "tags": []
          },
          "execution_count": 582
        }
      ]
    },
    {
      "cell_type": "code",
      "metadata": {
        "scrolled": true,
        "id": "A4NPZ75nTIUk",
        "colab_type": "code",
        "outputId": "4ee05a5e-1e6b-413b-a305-3ca05c753a48",
        "colab": {
          "base_uri": "https://localhost:8080/",
          "height": 34
        }
      },
      "source": [
        "tf.keras.__version__"
      ],
      "execution_count": 583,
      "outputs": [
        {
          "output_type": "execute_result",
          "data": {
            "text/plain": [
              "'2.2.4-tf'"
            ]
          },
          "metadata": {
            "tags": []
          },
          "execution_count": 583
        }
      ]
    },
    {
      "cell_type": "markdown",
      "metadata": {
        "id": "BLrvLkEUUx9P",
        "colab_type": "text"
      },
      "source": [
        "## Defines"
      ]
    },
    {
      "cell_type": "code",
      "metadata": {
        "id": "1zk5u8eJTIUE",
        "colab_type": "code",
        "colab": {}
      },
      "source": [
        "DATASETMARLON_URL = \"https://raw.githubusercontent.com/marlonrcfranco/soyforecast/master/datasets/DatasetMarlon/datasetMarlon.csv\"\n",
        "DATASETMARLON_PATH = \"datasets/DatasetMarlon/\"\n",
        "SETTLE_id = 5\n",
        "TARGET_NAME = 'Settle'\n",
        "\n",
        "START_IDX=0 #Start-index for the time-series.\n",
        "LENGHT=100000 #Sequence-length to process and plot.\n",
        "\n",
        "#plt.rcParams[\"figure.figsize\"] = [19,15]\n",
        "#plt.rcParams.update({'font.size': 27})"
      ],
      "execution_count": 0,
      "outputs": []
    },
    {
      "cell_type": "markdown",
      "metadata": {
        "id": "hLtIadn5TIUS",
        "colab_type": "text"
      },
      "source": [
        "## Fetch Data\n",
        "\n"
      ]
    },
    {
      "cell_type": "code",
      "metadata": {
        "id": "iaE8DnIJU7et",
        "colab_type": "code",
        "colab": {}
      },
      "source": [
        "def fetch_datasetMarlon_data(datasetmarlon_url=DATASETMARLON_URL, datasetmarlon_path=DATASETMARLON_PATH):\n",
        "    if not os.path.isdir(datasetmarlon_path):\n",
        "        os.makedirs(datasetmarlon_path)\n",
        "    csv_path = os.path.join(datasetmarlon_path, \"datasetMarlon.csv\")\n",
        "    urllib.request.urlretrieve(datasetmarlon_url, csv_path)\n",
        "\n",
        "    "
      ],
      "execution_count": 0,
      "outputs": []
    },
    {
      "cell_type": "code",
      "metadata": {
        "id": "K_C7xcUxVATZ",
        "colab_type": "code",
        "colab": {}
      },
      "source": [
        "fetch_datasetMarlon_data()"
      ],
      "execution_count": 0,
      "outputs": []
    },
    {
      "cell_type": "markdown",
      "metadata": {
        "id": "y2i8i2ogF4e2",
        "colab_type": "text"
      },
      "source": [
        "## Convert series to supervised learning\n"
      ]
    },
    {
      "cell_type": "code",
      "metadata": {
        "id": "yRqe54jBGxAS",
        "colab_type": "code",
        "colab": {}
      },
      "source": [
        "# convert series to supervised learning\n",
        "def series_to_supervised(data, n_in=1, n_out=1, dropnan=True):\n",
        "\tn_vars = 1 if type(data) is list else data.shape[1]\n",
        "\tdf = DataFrame(data)\n",
        "\tcols, names = list(), list()\n",
        "\t# input sequence (t-n, ... t-1)\n",
        "\tfor i in range(n_in, 0, -1):\n",
        "\t\tcols.append(df.shift(i))\n",
        "\t\tnames += [('var%d(t-%d)' % (j+1, i)) for j in range(n_vars)]\n",
        "\t# forecast sequence (t, t+1, ... t+n)\n",
        "\tfor i in range(0, n_out):\n",
        "\t\tcols.append(df.shift(-i))\n",
        "\t\tif i == 0:\n",
        "\t\t\tnames += [('var%d(t)' % (j+1)) for j in range(n_vars)]\n",
        "\t\telse:\n",
        "\t\t\tnames += [('var%d(t+%d)' % (j+1, i)) for j in range(n_vars)]\n",
        "\t# put it all together\n",
        "\tagg = concat(cols, axis=1)\n",
        "\tagg.columns = names\n",
        "\t# drop rows with NaN values\n",
        "\tif dropnan:\n",
        "\t\tagg.dropna(inplace=True)\n",
        "\treturn agg\n"
      ],
      "execution_count": 0,
      "outputs": []
    },
    {
      "cell_type": "markdown",
      "metadata": {
        "id": "H7cFH2YzVFpL",
        "colab_type": "text"
      },
      "source": [
        "## Load Data\n"
      ]
    },
    {
      "cell_type": "code",
      "metadata": {
        "id": "QC7ctxkoVFH3",
        "colab_type": "code",
        "colab": {}
      },
      "source": [
        "def load_datasetMarlon_data(datasetmarlon_path=DATASETMARLON_PATH):\n",
        "    csv_path = os.path.join(datasetmarlon_path, \"datasetMarlon.csv\")\n",
        "    print(csv_path)\n",
        "    return read_csv(csv_path,index_col=['Date','YEAR','MONTH','DAY'])\n",
        " "
      ],
      "execution_count": 0,
      "outputs": []
    },
    {
      "cell_type": "code",
      "metadata": {
        "id": "rbZf-qpWVNJv",
        "colab_type": "code",
        "outputId": "1326e793-7b7b-4c9c-8a62-73c1bb7d3673",
        "colab": {
          "base_uri": "https://localhost:8080/",
          "height": 245
        }
      },
      "source": [
        "dataset = load_datasetMarlon_data()\n",
        "values = dataset.values\n",
        "print(dataset.shape)\n",
        "dataset.head(1)"
      ],
      "execution_count": 589,
      "outputs": [
        {
          "output_type": "stream",
          "text": [
            "datasets/DatasetMarlon/datasetMarlon.csv\n",
            "(15062, 256)\n"
          ],
          "name": "stdout"
        },
        {
          "output_type": "execute_result",
          "data": {
            "text/html": [
              "<div>\n",
              "<style scoped>\n",
              "    .dataframe tbody tr th:only-of-type {\n",
              "        vertical-align: middle;\n",
              "    }\n",
              "\n",
              "    .dataframe tbody tr th {\n",
              "        vertical-align: top;\n",
              "    }\n",
              "\n",
              "    .dataframe thead th {\n",
              "        text-align: right;\n",
              "    }\n",
              "</style>\n",
              "<table border=\"1\" class=\"dataframe\">\n",
              "  <thead>\n",
              "    <tr style=\"text-align: right;\">\n",
              "      <th></th>\n",
              "      <th></th>\n",
              "      <th></th>\n",
              "      <th></th>\n",
              "      <th>Open</th>\n",
              "      <th>High</th>\n",
              "      <th>Low</th>\n",
              "      <th>Last</th>\n",
              "      <th>Change</th>\n",
              "      <th>Settle</th>\n",
              "      <th>Volume</th>\n",
              "      <th>Previous Day Open Interest</th>\n",
              "      <th>TX_TMAX_MEAN</th>\n",
              "      <th>TX_TMAX_STD</th>\n",
              "      <th>TX_TMIN_MEAN</th>\n",
              "      <th>TX_TMIN_STD</th>\n",
              "      <th>TX_TAVG_MEAN</th>\n",
              "      <th>TX_TAVG_STD</th>\n",
              "      <th>TX_PRCP_MEAN</th>\n",
              "      <th>TX_PRCP_STD</th>\n",
              "      <th>NC_TMAX_MEAN</th>\n",
              "      <th>NC_TMAX_STD</th>\n",
              "      <th>NC_TMIN_MEAN</th>\n",
              "      <th>NC_TMIN_STD</th>\n",
              "      <th>NC_TAVG_MEAN</th>\n",
              "      <th>NC_TAVG_STD</th>\n",
              "      <th>NC_PRCP_MEAN</th>\n",
              "      <th>NC_PRCP_STD</th>\n",
              "      <th>NE_TMAX_MEAN</th>\n",
              "      <th>NE_TMAX_STD</th>\n",
              "      <th>NE_TMIN_MEAN</th>\n",
              "      <th>NE_TMIN_STD</th>\n",
              "      <th>NE_TAVG_MEAN</th>\n",
              "      <th>NE_TAVG_STD</th>\n",
              "      <th>NE_PRCP_MEAN</th>\n",
              "      <th>NE_PRCP_STD</th>\n",
              "      <th>KS_TMAX_MEAN</th>\n",
              "      <th>KS_TMAX_STD</th>\n",
              "      <th>KS_TMIN_MEAN</th>\n",
              "      <th>KS_TMIN_STD</th>\n",
              "      <th>KS_TAVG_MEAN</th>\n",
              "      <th>KS_TAVG_STD</th>\n",
              "      <th>KS_PRCP_MEAN</th>\n",
              "      <th>KS_PRCP_STD</th>\n",
              "      <th>...</th>\n",
              "      <th>MS_TMAX_MEAN</th>\n",
              "      <th>MS_TMAX_STD</th>\n",
              "      <th>MS_TMIN_MEAN</th>\n",
              "      <th>MS_TMIN_STD</th>\n",
              "      <th>MS_TAVG_MEAN</th>\n",
              "      <th>MS_TAVG_STD</th>\n",
              "      <th>MS_PRCP_MEAN</th>\n",
              "      <th>MS_PRCP_STD</th>\n",
              "      <th>ND_TMAX_MEAN</th>\n",
              "      <th>ND_TMAX_STD</th>\n",
              "      <th>ND_TMIN_MEAN</th>\n",
              "      <th>ND_TMIN_STD</th>\n",
              "      <th>ND_TAVG_MEAN</th>\n",
              "      <th>ND_TAVG_STD</th>\n",
              "      <th>ND_PRCP_MEAN</th>\n",
              "      <th>ND_PRCP_STD</th>\n",
              "      <th>WV_TMAX_MEAN</th>\n",
              "      <th>WV_TMAX_STD</th>\n",
              "      <th>WV_TMIN_MEAN</th>\n",
              "      <th>WV_TMIN_STD</th>\n",
              "      <th>WV_TAVG_MEAN</th>\n",
              "      <th>WV_TAVG_STD</th>\n",
              "      <th>WV_PRCP_MEAN</th>\n",
              "      <th>WV_PRCP_STD</th>\n",
              "      <th>DE_TMAX_MEAN</th>\n",
              "      <th>DE_TMAX_STD</th>\n",
              "      <th>DE_TMIN_MEAN</th>\n",
              "      <th>DE_TMIN_STD</th>\n",
              "      <th>DE_TAVG_MEAN</th>\n",
              "      <th>DE_TAVG_STD</th>\n",
              "      <th>DE_PRCP_MEAN</th>\n",
              "      <th>DE_PRCP_STD</th>\n",
              "      <th>IA_TMAX_MEAN</th>\n",
              "      <th>IA_TMAX_STD</th>\n",
              "      <th>IA_TMIN_MEAN</th>\n",
              "      <th>IA_TMIN_STD</th>\n",
              "      <th>IA_TAVG_MEAN</th>\n",
              "      <th>IA_TAVG_STD</th>\n",
              "      <th>IA_PRCP_MEAN</th>\n",
              "      <th>IA_PRCP_STD</th>\n",
              "    </tr>\n",
              "    <tr>\n",
              "      <th>Date</th>\n",
              "      <th>YEAR</th>\n",
              "      <th>MONTH</th>\n",
              "      <th>DAY</th>\n",
              "      <th></th>\n",
              "      <th></th>\n",
              "      <th></th>\n",
              "      <th></th>\n",
              "      <th></th>\n",
              "      <th></th>\n",
              "      <th></th>\n",
              "      <th></th>\n",
              "      <th></th>\n",
              "      <th></th>\n",
              "      <th></th>\n",
              "      <th></th>\n",
              "      <th></th>\n",
              "      <th></th>\n",
              "      <th></th>\n",
              "      <th></th>\n",
              "      <th></th>\n",
              "      <th></th>\n",
              "      <th></th>\n",
              "      <th></th>\n",
              "      <th></th>\n",
              "      <th></th>\n",
              "      <th></th>\n",
              "      <th></th>\n",
              "      <th></th>\n",
              "      <th></th>\n",
              "      <th></th>\n",
              "      <th></th>\n",
              "      <th></th>\n",
              "      <th></th>\n",
              "      <th></th>\n",
              "      <th></th>\n",
              "      <th></th>\n",
              "      <th></th>\n",
              "      <th></th>\n",
              "      <th></th>\n",
              "      <th></th>\n",
              "      <th></th>\n",
              "      <th></th>\n",
              "      <th></th>\n",
              "      <th></th>\n",
              "      <th></th>\n",
              "      <th></th>\n",
              "      <th></th>\n",
              "      <th></th>\n",
              "      <th></th>\n",
              "      <th></th>\n",
              "      <th></th>\n",
              "      <th></th>\n",
              "      <th></th>\n",
              "      <th></th>\n",
              "      <th></th>\n",
              "      <th></th>\n",
              "      <th></th>\n",
              "      <th></th>\n",
              "      <th></th>\n",
              "      <th></th>\n",
              "      <th></th>\n",
              "      <th></th>\n",
              "      <th></th>\n",
              "      <th></th>\n",
              "      <th></th>\n",
              "      <th></th>\n",
              "      <th></th>\n",
              "      <th></th>\n",
              "      <th></th>\n",
              "      <th></th>\n",
              "      <th></th>\n",
              "      <th></th>\n",
              "      <th></th>\n",
              "      <th></th>\n",
              "      <th></th>\n",
              "      <th></th>\n",
              "      <th></th>\n",
              "      <th></th>\n",
              "      <th></th>\n",
              "      <th></th>\n",
              "      <th></th>\n",
              "      <th></th>\n",
              "      <th></th>\n",
              "      <th></th>\n",
              "    </tr>\n",
              "  </thead>\n",
              "  <tbody>\n",
              "    <tr>\n",
              "      <th>2019-04-22</th>\n",
              "      <th>2019</th>\n",
              "      <th>4</th>\n",
              "      <th>22</th>\n",
              "      <td>881.5</td>\n",
              "      <td>883.25</td>\n",
              "      <td>876.25</td>\n",
              "      <td>876.75</td>\n",
              "      <td>3.5</td>\n",
              "      <td>877.0</td>\n",
              "      <td>62527.0</td>\n",
              "      <td>205572.0</td>\n",
              "      <td>72.62779</td>\n",
              "      <td>566.42426</td>\n",
              "      <td>44.583332</td>\n",
              "      <td>354.48105</td>\n",
              "      <td>18.318048</td>\n",
              "      <td>317.19855</td>\n",
              "      <td>0.0</td>\n",
              "      <td>0.0</td>\n",
              "      <td>NaN</td>\n",
              "      <td>NaN</td>\n",
              "      <td>NaN</td>\n",
              "      <td>NaN</td>\n",
              "      <td>NaN</td>\n",
              "      <td>NaN</td>\n",
              "      <td>NaN</td>\n",
              "      <td>NaN</td>\n",
              "      <td>NaN</td>\n",
              "      <td>NaN</td>\n",
              "      <td>NaN</td>\n",
              "      <td>NaN</td>\n",
              "      <td>NaN</td>\n",
              "      <td>NaN</td>\n",
              "      <td>NaN</td>\n",
              "      <td>NaN</td>\n",
              "      <td>NaN</td>\n",
              "      <td>NaN</td>\n",
              "      <td>NaN</td>\n",
              "      <td>NaN</td>\n",
              "      <td>NaN</td>\n",
              "      <td>NaN</td>\n",
              "      <td>NaN</td>\n",
              "      <td>NaN</td>\n",
              "      <td>...</td>\n",
              "      <td>NaN</td>\n",
              "      <td>NaN</td>\n",
              "      <td>NaN</td>\n",
              "      <td>NaN</td>\n",
              "      <td>NaN</td>\n",
              "      <td>NaN</td>\n",
              "      <td>NaN</td>\n",
              "      <td>NaN</td>\n",
              "      <td>NaN</td>\n",
              "      <td>NaN</td>\n",
              "      <td>NaN</td>\n",
              "      <td>NaN</td>\n",
              "      <td>NaN</td>\n",
              "      <td>NaN</td>\n",
              "      <td>NaN</td>\n",
              "      <td>NaN</td>\n",
              "      <td>NaN</td>\n",
              "      <td>NaN</td>\n",
              "      <td>NaN</td>\n",
              "      <td>NaN</td>\n",
              "      <td>NaN</td>\n",
              "      <td>NaN</td>\n",
              "      <td>NaN</td>\n",
              "      <td>NaN</td>\n",
              "      <td>NaN</td>\n",
              "      <td>NaN</td>\n",
              "      <td>NaN</td>\n",
              "      <td>NaN</td>\n",
              "      <td>NaN</td>\n",
              "      <td>NaN</td>\n",
              "      <td>NaN</td>\n",
              "      <td>NaN</td>\n",
              "      <td>NaN</td>\n",
              "      <td>NaN</td>\n",
              "      <td>NaN</td>\n",
              "      <td>NaN</td>\n",
              "      <td>NaN</td>\n",
              "      <td>NaN</td>\n",
              "      <td>NaN</td>\n",
              "      <td>NaN</td>\n",
              "    </tr>\n",
              "  </tbody>\n",
              "</table>\n",
              "<p>1 rows × 256 columns</p>\n",
              "</div>"
            ],
            "text/plain": [
              "                            Open    High  ...  IA_PRCP_MEAN  IA_PRCP_STD\n",
              "Date       YEAR MONTH DAY                 ...                           \n",
              "2019-04-22 2019 4     22   881.5  883.25  ...           NaN          NaN\n",
              "\n",
              "[1 rows x 256 columns]"
            ]
          },
          "metadata": {
            "tags": []
          },
          "execution_count": 589
        }
      ]
    },
    {
      "cell_type": "markdown",
      "metadata": {
        "id": "97JhZk5EMQYV",
        "colab_type": "text"
      },
      "source": [
        "## Plot each column"
      ]
    },
    {
      "cell_type": "code",
      "metadata": {
        "id": "KJcnCYwfMV5n",
        "colab_type": "code",
        "colab": {
          "base_uri": "https://localhost:8080/",
          "height": 269
        },
        "outputId": "7cc4664e-25dd-4ce1-a86b-46c916c7673a"
      },
      "source": [
        "# specify columns to plot\n",
        "groups = [0, 1, 2, 3, 4, 5, 6]\n",
        "i = 1\n",
        "# plot each column\n",
        "pyplot.figure()\n",
        "for group in groups:\n",
        "\tpyplot.subplot(len(groups), 1, i)\n",
        "\tpyplot.plot(values[:, group])\n",
        "\tpyplot.title(dataset.columns[group], y=0.5, loc='right')\n",
        "\ti += 1\n",
        "pyplot.show()"
      ],
      "execution_count": 590,
      "outputs": [
        {
          "output_type": "display_data",
          "data": {
            "image/png": "[encoded data removed]",
            "text/plain": [
              "<Figure size 432x288 with 7 Axes>"
            ]
          },
          "metadata": {
            "tags": []
          }
        }
      ]
    },
    {
      "cell_type": "markdown",
      "metadata": {
        "id": "EY6ofb_5G4jb",
        "colab_type": "text"
      },
      "source": [
        "## Integer encode direction"
      ]
    },
    {
      "cell_type": "code",
      "metadata": {
        "id": "Z0Ac1I9EHW2a",
        "colab_type": "code",
        "colab": {}
      },
      "source": [
        "encoder = LabelEncoder()\n",
        "values[:,4] = encoder.fit_transform(values[:,4])"
      ],
      "execution_count": 0,
      "outputs": []
    },
    {
      "cell_type": "markdown",
      "metadata": {
        "id": "r_S92IP9HbiM",
        "colab_type": "text"
      },
      "source": [
        "## Ensure all data is float\n"
      ]
    },
    {
      "cell_type": "code",
      "metadata": {
        "id": "HgD61EgpHddz",
        "colab_type": "code",
        "colab": {}
      },
      "source": [
        "values = values.astype('float32')"
      ],
      "execution_count": 0,
      "outputs": []
    },
    {
      "cell_type": "markdown",
      "metadata": {
        "id": "LcngVhupHjnq",
        "colab_type": "text"
      },
      "source": [
        "## Normalize features"
      ]
    },
    {
      "cell_type": "code",
      "metadata": {
        "id": "njORF0_uHj9z",
        "colab_type": "code",
        "colab": {}
      },
      "source": [
        "scaler = MinMaxScaler(feature_range=(0, 1))\n",
        "scaled = scaler.fit_transform(values)"
      ],
      "execution_count": 0,
      "outputs": []
    },
    {
      "cell_type": "markdown",
      "metadata": {
        "id": "vYGQ-TLOHtMu",
        "colab_type": "text"
      },
      "source": [
        "## Specify the number of lag hours"
      ]
    },
    {
      "cell_type": "code",
      "metadata": {
        "id": "zk3q5RmzHtjA",
        "colab_type": "code",
        "colab": {}
      },
      "source": [
        "n_days = 4\n",
        "n_features = 256"
      ],
      "execution_count": 0,
      "outputs": []
    },
    {
      "cell_type": "markdown",
      "metadata": {
        "id": "2l3s1TxWH0Fo",
        "colab_type": "text"
      },
      "source": [
        "## Frame as supervised learning"
      ]
    },
    {
      "cell_type": "code",
      "metadata": {
        "id": "CNTDBCL7H0uR",
        "colab_type": "code",
        "colab": {
          "base_uri": "https://localhost:8080/",
          "height": 34
        },
        "outputId": "6c91d629-3220-4314-874a-f4e8d3c5b292"
      },
      "source": [
        "reframed = series_to_supervised(scaled, n_days, 1)\n",
        "print(reframed.shape)\n"
      ],
      "execution_count": 595,
      "outputs": [
        {
          "output_type": "stream",
          "text": [
            "(12244, 1280)\n"
          ],
          "name": "stdout"
        }
      ]
    },
    {
      "cell_type": "markdown",
      "metadata": {
        "id": "K_K1my4wNBon",
        "colab_type": "text"
      },
      "source": [
        "## Drop columns we don't want to predict"
      ]
    },
    {
      "cell_type": "code",
      "metadata": {
        "id": "nUXtuD1dNEvR",
        "colab_type": "code",
        "colab": {
          "base_uri": "https://localhost:8080/",
          "height": 153
        },
        "outputId": "fb5945ba-ea9d-493e-8257-e9f25cdcf1a8"
      },
      "source": [
        "cols = [reframed.columns.get_loc(col) for col in reframed.columns if reframed.columns.get_loc(col)>=n_days*n_features and reframed.columns.get_loc(col)!=(n_days*n_features+SETTLE_id)]\n",
        "reframed.drop(reframed.columns[cols], axis=1, inplace=True)\n",
        "print(reframed.head())"
      ],
      "execution_count": 596,
      "outputs": [
        {
          "output_type": "stream",
          "text": [
            "   var1(t-4)  var2(t-4)  var3(t-4)  ...  var255(t-1)  var256(t-1)   var6(t)\n",
            "5   0.430163   0.431369   0.429128  ...     0.000151     0.002751  0.440987\n",
            "6   0.435911   0.436790   0.430404  ...     0.024914     0.111334  0.440987\n",
            "7   0.442617   0.442212   0.435350  ...     0.071050     0.248798  0.445296\n",
            "8   0.440542   0.444126   0.440775  ...     0.037625     0.254125  0.443221\n",
            "9   0.440542   0.441893   0.440137  ...     0.000550     0.006923  0.443221\n",
            "\n",
            "[5 rows x 1025 columns]\n"
          ],
          "name": "stdout"
        }
      ]
    },
    {
      "cell_type": "markdown",
      "metadata": {
        "id": "Uw1xhWMYH69j",
        "colab_type": "text"
      },
      "source": [
        "## Split into train and test sets"
      ]
    },
    {
      "cell_type": "code",
      "metadata": {
        "id": "YegC1VHvTcr5",
        "colab_type": "code",
        "colab": {}
      },
      "source": [
        "train_split = 0.87"
      ],
      "execution_count": 0,
      "outputs": []
    },
    {
      "cell_type": "code",
      "metadata": {
        "id": "L1kkhGPsTFOe",
        "colab_type": "code",
        "colab": {
          "base_uri": "https://localhost:8080/",
          "height": 34
        },
        "outputId": "c7b34bde-88db-4dfc-fbc7-0520d1aa3f1a"
      },
      "source": [
        "values = reframed.values\n",
        "num_data = len(values)\n",
        "num_data"
      ],
      "execution_count": 598,
      "outputs": [
        {
          "output_type": "execute_result",
          "data": {
            "text/plain": [
              "12244"
            ]
          },
          "metadata": {
            "tags": []
          },
          "execution_count": 598
        }
      ]
    },
    {
      "cell_type": "code",
      "metadata": {
        "id": "WZPvLDA-H7VB",
        "colab_type": "code",
        "colab": {
          "base_uri": "https://localhost:8080/",
          "height": 34
        },
        "outputId": "13d89e3e-2f32-4fb9-d510-b21810703053"
      },
      "source": [
        "num_train = int(train_split * num_data)\n",
        "num_train"
      ],
      "execution_count": 599,
      "outputs": [
        {
          "output_type": "execute_result",
          "data": {
            "text/plain": [
              "10652"
            ]
          },
          "metadata": {
            "tags": []
          },
          "execution_count": 599
        }
      ]
    },
    {
      "cell_type": "code",
      "metadata": {
        "id": "vUlhbObsTjO0",
        "colab_type": "code",
        "colab": {
          "base_uri": "https://localhost:8080/",
          "height": 34
        },
        "outputId": "7daa45ab-bb78-41d7-f20b-296b9c926022"
      },
      "source": [
        "num_test = num_data - num_train\n",
        "num_test"
      ],
      "execution_count": 600,
      "outputs": [
        {
          "output_type": "execute_result",
          "data": {
            "text/plain": [
              "1592"
            ]
          },
          "metadata": {
            "tags": []
          },
          "execution_count": 600
        }
      ]
    },
    {
      "cell_type": "code",
      "metadata": {
        "id": "MPPvZt1ITVPD",
        "colab_type": "code",
        "colab": {
          "base_uri": "https://localhost:8080/",
          "height": 34
        },
        "outputId": "16956460-3aad-41f5-e65a-9d77bae1f566"
      },
      "source": [
        "train = values[:num_train, :]\n",
        "test = values[num_train:, :]\n",
        "len(train) + len(test)"
      ],
      "execution_count": 601,
      "outputs": [
        {
          "output_type": "execute_result",
          "data": {
            "text/plain": [
              "12244"
            ]
          },
          "metadata": {
            "tags": []
          },
          "execution_count": 601
        }
      ]
    },
    {
      "cell_type": "markdown",
      "metadata": {
        "id": "WCmJvFINIB1W",
        "colab_type": "text"
      },
      "source": [
        "## Split into input and outputs"
      ]
    },
    {
      "cell_type": "code",
      "metadata": {
        "id": "0cnBlB2fICWY",
        "colab_type": "code",
        "colab": {
          "base_uri": "https://localhost:8080/",
          "height": 34
        },
        "outputId": "24695388-e817-4138-b2ba-6018561450dc"
      },
      "source": [
        "n_obs = n_days * n_features\n",
        "train_X, train_y = train[:, :n_obs], train[:, -n_features]\n",
        "test_X, test_y = test[:, :n_obs], test[:, -n_features]\n",
        "\n",
        "y_train = train_y\n",
        "y_test = test_y\n",
        "x_train = train_X\n",
        "x_test = test_X\n",
        "\n",
        "print(train_X.shape, len(train_X), train_y.shape)"
      ],
      "execution_count": 602,
      "outputs": [
        {
          "output_type": "stream",
          "text": [
            "(10652, 1024) 10652 (10652,)\n"
          ],
          "name": "stdout"
        }
      ]
    },
    {
      "cell_type": "markdown",
      "metadata": {
        "id": "qkJk-L9EIHtB",
        "colab_type": "text"
      },
      "source": [
        "## Reshape input to be 3D [samples, timesteps, features]"
      ]
    },
    {
      "cell_type": "code",
      "metadata": {
        "id": "M4VB7gGhIIHn",
        "colab_type": "code",
        "colab": {
          "base_uri": "https://localhost:8080/",
          "height": 34
        },
        "outputId": "9a877fe6-55ee-4325-f2dc-3b3f5cd36eaf"
      },
      "source": [
        "train_X = train_X.reshape((train_X.shape[0], n_days, n_features))\n",
        "test_X = test_X.reshape((test_X.shape[0], n_days, n_features))\n",
        "\n",
        "y_train_scaled = train_y\n",
        "x_train_scaled = train_X\n",
        "\n",
        "print(train_X.shape, train_y.shape, test_X.shape, test_y.shape)"
      ],
      "execution_count": 603,
      "outputs": [
        {
          "output_type": "stream",
          "text": [
            "(10652, 4, 256) (10652,) (1592, 4, 256) (1592,)\n"
          ],
          "name": "stdout"
        }
      ]
    },
    {
      "cell_type": "markdown",
      "metadata": {
        "id": "5a9dpfMfIdgt",
        "colab_type": "text"
      },
      "source": [
        "## Design network"
      ]
    },
    {
      "cell_type": "code",
      "metadata": {
        "id": "-m1vYwHjIeaa",
        "colab_type": "code",
        "colab": {}
      },
      "source": [
        "model = Sequential()\n",
        "model.add(LSTM(50, input_shape=(train_X.shape[1], train_X.shape[2])))\n",
        "model.add(Dense(1))\n",
        "model.add(Dense(1, activation='linear'))\n",
        "#model.compile(loss='mae', optimizer='adam')\n",
        "model.compile(loss='mse', optimizer='adam')"
      ],
      "execution_count": 0,
      "outputs": []
    },
    {
      "cell_type": "markdown",
      "metadata": {
        "id": "toPbJTRQIkAq",
        "colab_type": "text"
      },
      "source": [
        "## Fit network\n"
      ]
    },
    {
      "cell_type": "code",
      "metadata": {
        "id": "3O5ZOucUIkZI",
        "colab_type": "code",
        "colab": {
          "base_uri": "https://localhost:8080/",
          "height": 1768
        },
        "outputId": "fb06195a-73da-438d-c1c9-9608bea9855f"
      },
      "source": [
        "%%time\n",
        "history = model.fit(\n",
        "    train_X, \n",
        "    train_y, \n",
        "    epochs=50, \n",
        "    batch_size=100, \n",
        "    validation_data=(test_X, test_y), \n",
        "    verbose=2, \n",
        "    shuffle=False)"
      ],
      "execution_count": 605,
      "outputs": [
        {
          "output_type": "stream",
          "text": [
            "Train on 10652 samples, validate on 1592 samples\n",
            "Epoch 1/50\n",
            " - 4s - loss: 0.0262 - val_loss: 0.0236\n",
            "Epoch 2/50\n",
            " - 1s - loss: 0.0414 - val_loss: 0.0394\n",
            "Epoch 3/50\n",
            " - 1s - loss: 0.0355 - val_loss: 0.0317\n",
            "Epoch 4/50\n",
            " - 1s - loss: 0.0272 - val_loss: 0.0304\n",
            "Epoch 5/50\n",
            " - 1s - loss: 0.0178 - val_loss: 0.0196\n",
            "Epoch 6/50\n",
            " - 1s - loss: 0.0127 - val_loss: 0.0089\n",
            "Epoch 7/50\n",
            " - 1s - loss: 0.0131 - val_loss: 0.0097\n",
            "Epoch 8/50\n",
            " - 1s - loss: 0.0124 - val_loss: 0.0038\n",
            "Epoch 9/50\n",
            " - 1s - loss: 0.0126 - val_loss: 0.0024\n",
            "Epoch 10/50\n",
            " - 1s - loss: 0.0124 - val_loss: 0.0033\n",
            "Epoch 11/50\n",
            " - 1s - loss: 0.0113 - val_loss: 0.0029\n",
            "Epoch 12/50\n",
            " - 1s - loss: 0.0118 - val_loss: 0.0032\n",
            "Epoch 13/50\n",
            " - 1s - loss: 0.0114 - val_loss: 0.0035\n",
            "Epoch 14/50\n",
            " - 1s - loss: 0.0105 - val_loss: 0.0023\n",
            "Epoch 15/50\n",
            " - 1s - loss: 0.0090 - val_loss: 0.0025\n",
            "Epoch 16/50\n",
            " - 1s - loss: 0.0091 - val_loss: 0.0023\n",
            "Epoch 17/50\n",
            " - 1s - loss: 0.0080 - val_loss: 0.0021\n",
            "Epoch 18/50\n",
            " - 1s - loss: 0.0074 - val_loss: 0.0019\n",
            "Epoch 19/50\n",
            " - 1s - loss: 0.0069 - val_loss: 0.0017\n",
            "Epoch 20/50\n",
            " - 1s - loss: 0.0065 - val_loss: 0.0016\n",
            "Epoch 21/50\n",
            " - 1s - loss: 0.0060 - val_loss: 0.0016\n",
            "Epoch 22/50\n",
            " - 1s - loss: 0.0056 - val_loss: 0.0015\n",
            "Epoch 23/50\n",
            " - 1s - loss: 0.0052 - val_loss: 0.0015\n",
            "Epoch 24/50\n",
            " - 1s - loss: 0.0049 - val_loss: 0.0013\n",
            "Epoch 25/50\n",
            " - 1s - loss: 0.0041 - val_loss: 0.0013\n",
            "Epoch 26/50\n",
            " - 1s - loss: 0.0035 - val_loss: 0.0011\n",
            "Epoch 27/50\n",
            " - 1s - loss: 0.0029 - val_loss: 0.0010\n",
            "Epoch 28/50\n",
            " - 1s - loss: 0.0025 - val_loss: 9.1563e-04\n",
            "Epoch 29/50\n",
            " - 1s - loss: 0.0022 - val_loss: 8.3764e-04\n",
            "Epoch 30/50\n",
            " - 1s - loss: 0.0019 - val_loss: 7.7811e-04\n",
            "Epoch 31/50\n",
            " - 1s - loss: 0.0018 - val_loss: 7.3638e-04\n",
            "Epoch 32/50\n",
            " - 1s - loss: 0.0017 - val_loss: 6.5884e-04\n",
            "Epoch 33/50\n",
            " - 1s - loss: 0.0016 - val_loss: 6.2942e-04\n",
            "Epoch 34/50\n",
            " - 1s - loss: 0.0014 - val_loss: 5.8784e-04\n",
            "Epoch 35/50\n",
            " - 1s - loss: 0.0012 - val_loss: 5.4622e-04\n",
            "Epoch 36/50\n",
            " - 1s - loss: 0.0011 - val_loss: 5.1345e-04\n",
            "Epoch 37/50\n",
            " - 1s - loss: 8.8274e-04 - val_loss: 4.7718e-04\n",
            "Epoch 38/50\n",
            " - 1s - loss: 7.0719e-04 - val_loss: 5.0254e-04\n",
            "Epoch 39/50\n",
            " - 1s - loss: 5.6009e-04 - val_loss: 5.4823e-04\n",
            "Epoch 40/50\n",
            " - 1s - loss: 4.5078e-04 - val_loss: 5.7394e-04\n",
            "Epoch 41/50\n",
            " - 1s - loss: 3.9404e-04 - val_loss: 5.7356e-04\n",
            "Epoch 42/50\n",
            " - 1s - loss: 3.8053e-04 - val_loss: 5.3537e-04\n",
            "Epoch 43/50\n",
            " - 1s - loss: 4.0019e-04 - val_loss: 4.9805e-04\n",
            "Epoch 44/50\n",
            " - 1s - loss: 4.4919e-04 - val_loss: 5.0340e-04\n",
            "Epoch 45/50\n",
            " - 1s - loss: 5.8471e-04 - val_loss: 5.2919e-04\n",
            "Epoch 46/50\n",
            " - 1s - loss: 8.7407e-04 - val_loss: 6.1757e-04\n",
            "Epoch 47/50\n",
            " - 1s - loss: 0.0012 - val_loss: 4.7668e-04\n",
            "Epoch 48/50\n",
            " - 1s - loss: 0.0013 - val_loss: 3.8089e-04\n",
            "Epoch 49/50\n",
            " - 1s - loss: 0.0011 - val_loss: 3.2944e-04\n",
            "Epoch 50/50\n",
            " - 1s - loss: 7.7643e-04 - val_loss: 3.0013e-04\n",
            "CPU times: user 1min 16s, sys: 4.25 s, total: 1min 20s\n",
            "Wall time: 59.4 s\n"
          ],
          "name": "stdout"
        }
      ]
    },
    {
      "cell_type": "markdown",
      "metadata": {
        "id": "7BFBxpWTIzfo",
        "colab_type": "text"
      },
      "source": [
        "## Plot history"
      ]
    },
    {
      "cell_type": "code",
      "metadata": {
        "id": "olVM4PlfI0aT",
        "colab_type": "code",
        "colab": {
          "base_uri": "https://localhost:8080/",
          "height": 269
        },
        "outputId": "d847bd34-0ac4-48b7-d19b-f3e3b8e630f1"
      },
      "source": [
        "pyplot.plot(history.history['loss'], label='train')\n",
        "pyplot.plot(history.history['val_loss'], label='test')\n",
        "pyplot.legend()\n",
        "pyplot.show()"
      ],
      "execution_count": 606,
      "outputs": [
        {
          "output_type": "display_data",
          "data": {
            "image/png": "[encoded data removed]",
            "text/plain": [
              "<Figure size 432x288 with 1 Axes>"
            ]
          },
          "metadata": {
            "tags": []
          }
        }
      ]
    },
    {
      "cell_type": "markdown",
      "metadata": {
        "id": "uUlsH46MI45n",
        "colab_type": "text"
      },
      "source": [
        "## Make a prediction"
      ]
    },
    {
      "cell_type": "code",
      "metadata": {
        "id": "LsMo4oRZI5ch",
        "colab_type": "code",
        "colab": {}
      },
      "source": [
        "yhat = model.predict(test_X)\n",
        "test_X = test_X.reshape((test_X.shape[0], n_days*n_features))"
      ],
      "execution_count": 0,
      "outputs": []
    },
    {
      "cell_type": "markdown",
      "metadata": {
        "id": "PPCc-7kkI_Hp",
        "colab_type": "text"
      },
      "source": [
        "## Invert scaling for forecast"
      ]
    },
    {
      "cell_type": "code",
      "metadata": {
        "id": "bQZz0lCtI_ij",
        "colab_type": "code",
        "colab": {}
      },
      "source": [
        "#inv_yhat = concatenate((yhat, test_X[:, -7:]), axis=1)\n",
        "inv_yhat = concatenate((yhat, test_X[:, -(n_features-1):]), axis=1)\n",
        "inv_yhat = scaler.inverse_transform(inv_yhat)\n",
        "inv_yhat = inv_yhat[:,0]\n"
      ],
      "execution_count": 0,
      "outputs": []
    },
    {
      "cell_type": "markdown",
      "metadata": {
        "id": "RhnbjBhfJE_C",
        "colab_type": "text"
      },
      "source": [
        "## Invert scaling for actual"
      ]
    },
    {
      "cell_type": "code",
      "metadata": {
        "id": "KCHHP2JlJF78",
        "colab_type": "code",
        "colab": {}
      },
      "source": [
        "test_y = test_y.reshape((len(test_y), 1))\n",
        "#inv_y = concatenate((test_y, test_X[:, -7:]), axis=1)\n",
        "inv_y = concatenate((test_y, test_X[:, -(n_features-1):]), axis=1)\n",
        "inv_y = scaler.inverse_transform(inv_y)\n",
        "inv_y = inv_y[:,0]"
      ],
      "execution_count": 0,
      "outputs": []
    },
    {
      "cell_type": "markdown",
      "metadata": {
        "id": "9U_dE3WMJK9z",
        "colab_type": "text"
      },
      "source": [
        "## Calculate RMSE"
      ]
    },
    {
      "cell_type": "code",
      "metadata": {
        "id": "4Sm3rLU3JLf1",
        "colab_type": "code",
        "colab": {
          "base_uri": "https://localhost:8080/",
          "height": 34
        },
        "outputId": "e4ab7c13-3504-4564-f532-948ae215fd26"
      },
      "source": [
        "rmse = sqrt(mean_squared_error(inv_y, inv_yhat))\n",
        "print('Test RMSE: %.3f' % rmse)"
      ],
      "execution_count": 641,
      "outputs": [
        {
          "output_type": "stream",
          "text": [
            "Test RMSE: 27.127\n"
          ],
          "name": "stdout"
        }
      ]
    },
    {
      "cell_type": "markdown",
      "metadata": {
        "id": "Ow7xwT45imqk",
        "colab_type": "text"
      },
      "source": [
        "## Plot prediction"
      ]
    },
    {
      "cell_type": "code",
      "metadata": {
        "id": "2k_F5OWwiokB",
        "colab_type": "code",
        "colab": {
          "base_uri": "https://localhost:8080/",
          "height": 343
        },
        "outputId": "59c9bce9-60f7-42b2-d059-49dd1107e853"
      },
      "source": [
        "  # Get the output-signal predicted by the model.\n",
        "  signal_pred = inv_yhat\n",
        "\n",
        "  # Get the true output-signal from the data-set.\n",
        "  signal_true = inv_y\n",
        "\n",
        "  # Make the plotting-canvas bigger.\n",
        "  plt.figure(figsize=(15,5))\n",
        "\n",
        "  # Plot and compare the two signals.\n",
        "  plt.plot(signal_true, label='true')\n",
        "  plt.plot(signal_pred, label='pred')\n",
        "\n",
        "  # Plot grey box for warmup-period.\n",
        "  #p = plt.axvspan(0, warmup_steps, facecolor='black', alpha=0.15)\n",
        "\n",
        "  # Plot labels etc.\n",
        "  plt.ylabel(TARGET_NAME)\n",
        "  plt.legend()\n",
        "  plt.show()"
      ],
      "execution_count": 642,
      "outputs": [
        {
          "output_type": "display_data",
          "data": {
            "image/png": "[encoded data removed]",
            "text/plain": [
              "<Figure size 1080x360 with 1 Axes>"
            ]
          },
          "metadata": {
            "tags": []
          }
        }
      ]
    },
    {
      "cell_type": "markdown",
      "metadata": {
        "id": "e4STNFJvTIfB",
        "colab_type": "text"
      },
      "source": [
        "## License (MIT)\n",
        "\n",
        "Copyright (c) 2018 by [Marlon Franco]()\n",
        "\n",
        "Permission is hereby granted, free of charge, to any person obtaining a copy of this software and associated documentation files (the \"Software\"), to deal in the Software without restriction, including without limitation the rights to use, copy, modify, merge, publish, distribute, sublicense, and/or sell copies of the Software, and to permit persons to whom the Software is furnished to do so, subject to the following conditions:\n",
        "\n",
        "The above copyright notice and this permission notice shall be included in all copies or substantial portions of the Software.\n",
        "\n",
        "THE SOFTWARE IS PROVIDED \"AS IS\", WITHOUT WARRANTY OF ANY KIND, EXPRESS OR IMPLIED, INCLUDING BUT NOT LIMITED TO THE WARRANTIES OF MERCHANTABILITY, FITNESS FOR A PARTICULAR PURPOSE AND NONINFRINGEMENT. IN NO EVENT SHALL THE AUTHORS OR COPYRIGHT HOLDERS BE LIABLE FOR ANY CLAIM, DAMAGES OR OTHER LIABILITY, WHETHER IN AN ACTION OF CONTRACT, TORT OR OTHERWISE, ARISING FROM, OUT OF OR IN CONNECTION WITH THE SOFTWARE OR THE USE OR OTHER DEALINGS IN THE SOFTWARE."
      ]
    }
  ]
}