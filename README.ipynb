{
  "nbformat": 4,
  "nbformat_minor": 0,
  "metadata": {
    "colab": {
      "name": "soyforecast.ipynb",
      "version": "0.3.2",
      "provenance": [],
      "collapsed_sections": [
        "e4STNFJvTIfB"
      ],
      "include_colab_link": true
    },
    "kernelspec": {
      "name": "python3",
      "display_name": "Python 3"
    },
    "accelerator": "GPU"
  },
  "cells": [
    {
      "cell_type": "markdown",
      "metadata": {
        "id": "view-in-github",
        "colab_type": "text"
      },
      "source": [
        "<a href=\"https://colab.research.google.com/github/marlonrcfranco/soyforecast/blob/master/soyforecast.ipynb\" target=\"_parent\"><img src=\"https://colab.research.google.com/assets/colab-badge.svg\" alt=\"Open In Colab\"/></a>"
      ]
    },
    {
      "cell_type": "markdown",
      "metadata": {
        "id": "a9hjvEuBTIS_",
        "colab_type": "text"
      },
      "source": [
        "# Soyforecast\n",
        "By [Marlon Franco]()\n",
        "/ [GitHub](https://github.com/marlonrcfranco/soyforecast.git)\n",
        "\n",
        "####Prediction of future soybeans stock prices on the Chicago Stock Exchange (CBOT) using a LSTM model and relating climatic data from the most productive regions of the USA.\n",
        "\n",
        "![alt text](https://github.com/marlonrcfranco/soyforecast/blob/master/Selection_244.png?raw=true)\n",
        "\n",
        "\n",
        "## Soybean, CBOT Soybean Futures + ( Global Historical Climatology Network (GHCN) filtered by USDA-NASS-soybeans-production_bushels-2015)\n",
        "\n",
        "### Soybean, CBOT Soybean Futures\n",
        "- *https://blog.quandl.com/api-for-commodity-data*\n",
        "- *http://www.quandl.com/api/v3/datasets/CHRIS/CME_S1/*\n",
        "\n",
        "### Global Historical Climatology Network (GHCN)\n",
        "- *https://www.ncdc.noaa.gov/data-access/land-based-station-data/land-based-datasets/global-historical-climatology-network-ghcn*\n",
        "- *FTP: ftp://ftp.ncdc.noaa.gov/pub/data/ghcn/daily/by_year/*\n",
        "\n",
        "\n",
        "- **TMAX** = Maximum temperature (tenths of degrees C)\n",
        "- **TMIN** = Minimum temperature (tenths of degrees C)\n",
        "- **TAVG** = Average temperature (tenths of degrees C)\n",
        "```\n",
        "(Note that TAVG from source 'S' corresponds to an average for the period ending at 2400 UTC rather than local midnight )\n",
        "```\n",
        "- **PRCP** = Precipitation (tenths of mm)\n",
        "\n",
        "### USDA-NASS-soybeans-production_bushels-2015\n",
        "- *https://usda-reports.nautilytics.com/?crop=soybeans&statistic=production_dollars&year=2007*\n",
        "- *https://www.nass.usda.gov/Data_Visualization/index.php*\n",
        "\n",
        "\n",
        "****\n",
        "\n",
        "*Based on the tutorial: https://machinelearningmastery.com/multivariate-time-series-forecasting-lstms-keras/*\n"
      ]
    },
    {
      "cell_type": "markdown",
      "metadata": {
        "id": "y1pbHZNeTITl",
        "colab_type": "text"
      },
      "source": [
        "## Imports"
      ]
    },
    {
      "cell_type": "code",
      "metadata": {
        "id": "aXFIQTW4TITp",
        "colab_type": "code",
        "colab": {
          "base_uri": "https://localhost:8080/",
          "height": 34
        },
        "outputId": "46c7dfb0-2e49-4c8d-e369-986f12b910d8"
      },
      "source": [
        "%matplotlib inline\n",
        "import os\n",
        "from six.moves import urllib\n",
        "\n",
        "from math import sqrt\n",
        "import numpy as np\n",
        "from numpy import concatenate\n",
        "from matplotlib import pyplot as plt\n",
        "import pandas as pd\n",
        "from pandas import read_csv\n",
        "from pandas import DataFrame\n",
        "from pandas import concat\n",
        "from sklearn.preprocessing import MinMaxScaler\n",
        "from sklearn.preprocessing import LabelEncoder\n",
        "from sklearn.metrics import mean_squared_error, accuracy_score\n",
        "from sklearn import svm\n",
        "from sklearn.linear_model import LinearRegression\n",
        "from keras.layers import LSTM, Dense, Input, TimeDistributed, Masking\n",
        "from keras.models import Model, Sequential, model_from_json\n",
        "from keras.optimizers import Adam, RMSprop\n",
        "from keras.utils import plot_model\n",
        "\n",
        "from tensorflow.python.keras.callbacks import EarlyStopping, ModelCheckpoint, TensorBoard, ReduceLROnPlateau\n",
        "\n"
      ],
      "execution_count": 1,
      "outputs": [
        {
          "output_type": "stream",
          "text": [
            "Using TensorFlow backend.\n"
          ],
          "name": "stderr"
        }
      ]
    },
    {
      "cell_type": "markdown",
      "metadata": {
        "id": "BLrvLkEUUx9P",
        "colab_type": "text"
      },
      "source": [
        "## Defines"
      ]
    },
    {
      "cell_type": "code",
      "metadata": {
        "id": "1zk5u8eJTIUE",
        "colab_type": "code",
        "colab": {}
      },
      "source": [
        "DATASETMARLON_URL = \"https://raw.githubusercontent.com/marlonrcfranco/soyforecast/master/datasets/DatasetMarlon/datasetMarlon.csv\"\n",
        "DATASETMARLON_PATH = \"datasets/DatasetMarlon/\"\n",
        "MODEL_PATH = \"model/\"\n",
        "SETTLE_id = 5\n",
        "TARGET_NAME = 'Settle'\n",
        "\n",
        "EPOCHS = 100\n",
        "BATCH_SIZE = 77\n",
        "TRAIN_SPLIT = 0.87\n",
        "LOSS_FUNCTION = 'mse' # 'mse': Mean Square Error, 'mae': Mean Absolute Error, 'binary_crossentropy'\n",
        "LEARNING_RATE = 0.001 #0.001\n",
        "NEURONS = 128\n",
        "\n",
        "default = plt.rcParams[\"figure.figsize\"]"
      ],
      "execution_count": 0,
      "outputs": []
    },
    {
      "cell_type": "markdown",
      "metadata": {
        "id": "hLtIadn5TIUS",
        "colab_type": "text"
      },
      "source": [
        "## Fetch Data\n",
        "\n"
      ]
    },
    {
      "cell_type": "code",
      "metadata": {
        "id": "iaE8DnIJU7et",
        "colab_type": "code",
        "colab": {}
      },
      "source": [
        "def fetch_datasetMarlon_data(datasetmarlon_url=DATASETMARLON_URL, datasetmarlon_path=DATASETMARLON_PATH):\n",
        "    if not os.path.isdir(datasetmarlon_path):\n",
        "        os.makedirs(datasetmarlon_path)\n",
        "    csv_path = os.path.join(datasetmarlon_path, \"datasetMarlon.csv\")\n",
        "    urllib.request.urlretrieve(datasetmarlon_url, csv_path)"
      ],
      "execution_count": 0,
      "outputs": []
    },
    {
      "cell_type": "code",
      "metadata": {
        "id": "K_C7xcUxVATZ",
        "colab_type": "code",
        "colab": {}
      },
      "source": [
        "fetch_datasetMarlon_data()"
      ],
      "execution_count": 0,
      "outputs": []
    },
    {
      "cell_type": "markdown",
      "metadata": {
        "id": "y2i8i2ogF4e2",
        "colab_type": "text"
      },
      "source": [
        "## Convert series to supervised learning\n"
      ]
    },
    {
      "cell_type": "code",
      "metadata": {
        "id": "yRqe54jBGxAS",
        "colab_type": "code",
        "colab": {}
      },
      "source": [
        "# convert series to supervised learning\n",
        "def series_to_supervised(data, n_in=1, n_out=1, dropnan=True):\n",
        "\tn_vars = 1 if type(data) is list else data.shape[1]\n",
        "\tdf = DataFrame(data)\n",
        "\tcols, names = list(), list()\n",
        "\t# input sequence (t-n, ... t-1)\n",
        "\tfor i in range(n_in, 0, -1):\n",
        "\t\tcols.append(df.shift(i))\n",
        "\t\tnames += [('var%d(t-%d)' % (j+1, i)) for j in range(n_vars)]\n",
        "\t# forecast sequence (t, t+1, ... t+n)\n",
        "\tfor i in range(0, n_out):\n",
        "\t\tcols.append(df.shift(-i))\n",
        "\t\tif i == 0:\n",
        "\t\t\tnames += [('var%d(t)' % (j+1)) for j in range(n_vars)]\n",
        "\t\telse:\n",
        "\t\t\tnames += [('var%d(t+%d)' % (j+1, i)) for j in range(n_vars)]\n",
        "\t# put it all together\n",
        "\tagg = concat(cols, axis=1)\n",
        "\tagg.columns = names\n",
        "\t# drop rows with NaN values\n",
        "\tif dropnan:\n",
        "\t\tagg.dropna(inplace=True)\n",
        "\treturn agg\n"
      ],
      "execution_count": 0,
      "outputs": []
    },
    {
      "cell_type": "markdown",
      "metadata": {
        "id": "H7cFH2YzVFpL",
        "colab_type": "text"
      },
      "source": [
        "## Load Data\n"
      ]
    },
    {
      "cell_type": "code",
      "metadata": {
        "id": "QC7ctxkoVFH3",
        "colab_type": "code",
        "colab": {}
      },
      "source": [
        "def load_datasetMarlon_data(datasetmarlon_path=DATASETMARLON_PATH):\n",
        "    csv_path = os.path.join(datasetmarlon_path, \"datasetMarlon.csv\")\n",
        "    #print(csv_path)\n",
        "    return read_csv(csv_path,index_col=['Date','YEAR','MONTH','DAY'])\n",
        " "
      ],
      "execution_count": 0,
      "outputs": []
    },
    {
      "cell_type": "code",
      "metadata": {
        "id": "rbZf-qpWVNJv",
        "colab_type": "code",
        "outputId": "0f9773e4-669b-41b5-b371-dc3747cb54a4",
        "colab": {
          "base_uri": "https://localhost:8080/",
          "height": 228
        }
      },
      "source": [
        "dataset = load_datasetMarlon_data()\n",
        "values = dataset.values\n",
        "print(dataset.shape)\n",
        "dataset.head(1)"
      ],
      "execution_count": 7,
      "outputs": [
        {
          "output_type": "stream",
          "text": [
            "(15062, 256)\n"
          ],
          "name": "stdout"
        },
        {
          "output_type": "execute_result",
          "data": {
            "text/html": [
              "<div>\n",
              "<style scoped>\n",
              "    .dataframe tbody tr th:only-of-type {\n",
              "        vertical-align: middle;\n",
              "    }\n",
              "\n",
              "    .dataframe tbody tr th {\n",
              "        vertical-align: top;\n",
              "    }\n",
              "\n",
              "    .dataframe thead th {\n",
              "        text-align: right;\n",
              "    }\n",
              "</style>\n",
              "<table border=\"1\" class=\"dataframe\">\n",
              "  <thead>\n",
              "    <tr style=\"text-align: right;\">\n",
              "      <th></th>\n",
              "      <th></th>\n",
              "      <th></th>\n",
              "      <th></th>\n",
              "      <th>Open</th>\n",
              "      <th>High</th>\n",
              "      <th>Low</th>\n",
              "      <th>Last</th>\n",
              "      <th>Change</th>\n",
              "      <th>Settle</th>\n",
              "      <th>Volume</th>\n",
              "      <th>Previous Day Open Interest</th>\n",
              "      <th>TX_TMAX_MEAN</th>\n",
              "      <th>TX_TMAX_STD</th>\n",
              "      <th>TX_TMIN_MEAN</th>\n",
              "      <th>TX_TMIN_STD</th>\n",
              "      <th>TX_TAVG_MEAN</th>\n",
              "      <th>TX_TAVG_STD</th>\n",
              "      <th>TX_PRCP_MEAN</th>\n",
              "      <th>TX_PRCP_STD</th>\n",
              "      <th>NC_TMAX_MEAN</th>\n",
              "      <th>NC_TMAX_STD</th>\n",
              "      <th>NC_TMIN_MEAN</th>\n",
              "      <th>NC_TMIN_STD</th>\n",
              "      <th>NC_TAVG_MEAN</th>\n",
              "      <th>NC_TAVG_STD</th>\n",
              "      <th>NC_PRCP_MEAN</th>\n",
              "      <th>NC_PRCP_STD</th>\n",
              "      <th>NE_TMAX_MEAN</th>\n",
              "      <th>NE_TMAX_STD</th>\n",
              "      <th>NE_TMIN_MEAN</th>\n",
              "      <th>NE_TMIN_STD</th>\n",
              "      <th>NE_TAVG_MEAN</th>\n",
              "      <th>NE_TAVG_STD</th>\n",
              "      <th>NE_PRCP_MEAN</th>\n",
              "      <th>NE_PRCP_STD</th>\n",
              "      <th>KS_TMAX_MEAN</th>\n",
              "      <th>KS_TMAX_STD</th>\n",
              "      <th>KS_TMIN_MEAN</th>\n",
              "      <th>KS_TMIN_STD</th>\n",
              "      <th>KS_TAVG_MEAN</th>\n",
              "      <th>KS_TAVG_STD</th>\n",
              "      <th>KS_PRCP_MEAN</th>\n",
              "      <th>KS_PRCP_STD</th>\n",
              "      <th>...</th>\n",
              "      <th>MS_TMAX_MEAN</th>\n",
              "      <th>MS_TMAX_STD</th>\n",
              "      <th>MS_TMIN_MEAN</th>\n",
              "      <th>MS_TMIN_STD</th>\n",
              "      <th>MS_TAVG_MEAN</th>\n",
              "      <th>MS_TAVG_STD</th>\n",
              "      <th>MS_PRCP_MEAN</th>\n",
              "      <th>MS_PRCP_STD</th>\n",
              "      <th>ND_TMAX_MEAN</th>\n",
              "      <th>ND_TMAX_STD</th>\n",
              "      <th>ND_TMIN_MEAN</th>\n",
              "      <th>ND_TMIN_STD</th>\n",
              "      <th>ND_TAVG_MEAN</th>\n",
              "      <th>ND_TAVG_STD</th>\n",
              "      <th>ND_PRCP_MEAN</th>\n",
              "      <th>ND_PRCP_STD</th>\n",
              "      <th>WV_TMAX_MEAN</th>\n",
              "      <th>WV_TMAX_STD</th>\n",
              "      <th>WV_TMIN_MEAN</th>\n",
              "      <th>WV_TMIN_STD</th>\n",
              "      <th>WV_TAVG_MEAN</th>\n",
              "      <th>WV_TAVG_STD</th>\n",
              "      <th>WV_PRCP_MEAN</th>\n",
              "      <th>WV_PRCP_STD</th>\n",
              "      <th>DE_TMAX_MEAN</th>\n",
              "      <th>DE_TMAX_STD</th>\n",
              "      <th>DE_TMIN_MEAN</th>\n",
              "      <th>DE_TMIN_STD</th>\n",
              "      <th>DE_TAVG_MEAN</th>\n",
              "      <th>DE_TAVG_STD</th>\n",
              "      <th>DE_PRCP_MEAN</th>\n",
              "      <th>DE_PRCP_STD</th>\n",
              "      <th>IA_TMAX_MEAN</th>\n",
              "      <th>IA_TMAX_STD</th>\n",
              "      <th>IA_TMIN_MEAN</th>\n",
              "      <th>IA_TMIN_STD</th>\n",
              "      <th>IA_TAVG_MEAN</th>\n",
              "      <th>IA_TAVG_STD</th>\n",
              "      <th>IA_PRCP_MEAN</th>\n",
              "      <th>IA_PRCP_STD</th>\n",
              "    </tr>\n",
              "    <tr>\n",
              "      <th>Date</th>\n",
              "      <th>YEAR</th>\n",
              "      <th>MONTH</th>\n",
              "      <th>DAY</th>\n",
              "      <th></th>\n",
              "      <th></th>\n",
              "      <th></th>\n",
              "      <th></th>\n",
              "      <th></th>\n",
              "      <th></th>\n",
              "      <th></th>\n",
              "      <th></th>\n",
              "      <th></th>\n",
              "      <th></th>\n",
              "      <th></th>\n",
              "      <th></th>\n",
              "      <th></th>\n",
              "      <th></th>\n",
              "      <th></th>\n",
              "      <th></th>\n",
              "      <th></th>\n",
              "      <th></th>\n",
              "      <th></th>\n",
              "      <th></th>\n",
              "      <th></th>\n",
              "      <th></th>\n",
              "      <th></th>\n",
              "      <th></th>\n",
              "      <th></th>\n",
              "      <th></th>\n",
              "      <th></th>\n",
              "      <th></th>\n",
              "      <th></th>\n",
              "      <th></th>\n",
              "      <th></th>\n",
              "      <th></th>\n",
              "      <th></th>\n",
              "      <th></th>\n",
              "      <th></th>\n",
              "      <th></th>\n",
              "      <th></th>\n",
              "      <th></th>\n",
              "      <th></th>\n",
              "      <th></th>\n",
              "      <th></th>\n",
              "      <th></th>\n",
              "      <th></th>\n",
              "      <th></th>\n",
              "      <th></th>\n",
              "      <th></th>\n",
              "      <th></th>\n",
              "      <th></th>\n",
              "      <th></th>\n",
              "      <th></th>\n",
              "      <th></th>\n",
              "      <th></th>\n",
              "      <th></th>\n",
              "      <th></th>\n",
              "      <th></th>\n",
              "      <th></th>\n",
              "      <th></th>\n",
              "      <th></th>\n",
              "      <th></th>\n",
              "      <th></th>\n",
              "      <th></th>\n",
              "      <th></th>\n",
              "      <th></th>\n",
              "      <th></th>\n",
              "      <th></th>\n",
              "      <th></th>\n",
              "      <th></th>\n",
              "      <th></th>\n",
              "      <th></th>\n",
              "      <th></th>\n",
              "      <th></th>\n",
              "      <th></th>\n",
              "      <th></th>\n",
              "      <th></th>\n",
              "      <th></th>\n",
              "      <th></th>\n",
              "      <th></th>\n",
              "      <th></th>\n",
              "      <th></th>\n",
              "      <th></th>\n",
              "      <th></th>\n",
              "    </tr>\n",
              "  </thead>\n",
              "  <tbody>\n",
              "    <tr>\n",
              "      <th>2019-04-22</th>\n",
              "      <th>2019</th>\n",
              "      <th>4</th>\n",
              "      <th>22</th>\n",
              "      <td>881.5</td>\n",
              "      <td>883.25</td>\n",
              "      <td>876.25</td>\n",
              "      <td>876.75</td>\n",
              "      <td>3.5</td>\n",
              "      <td>877.0</td>\n",
              "      <td>62527.0</td>\n",
              "      <td>205572.0</td>\n",
              "      <td>72.62779</td>\n",
              "      <td>566.42426</td>\n",
              "      <td>44.583332</td>\n",
              "      <td>354.48105</td>\n",
              "      <td>18.318048</td>\n",
              "      <td>317.19855</td>\n",
              "      <td>0.0</td>\n",
              "      <td>0.0</td>\n",
              "      <td>NaN</td>\n",
              "      <td>NaN</td>\n",
              "      <td>NaN</td>\n",
              "      <td>NaN</td>\n",
              "      <td>NaN</td>\n",
              "      <td>NaN</td>\n",
              "      <td>NaN</td>\n",
              "      <td>NaN</td>\n",
              "      <td>NaN</td>\n",
              "      <td>NaN</td>\n",
              "      <td>NaN</td>\n",
              "      <td>NaN</td>\n",
              "      <td>NaN</td>\n",
              "      <td>NaN</td>\n",
              "      <td>NaN</td>\n",
              "      <td>NaN</td>\n",
              "      <td>NaN</td>\n",
              "      <td>NaN</td>\n",
              "      <td>NaN</td>\n",
              "      <td>NaN</td>\n",
              "      <td>NaN</td>\n",
              "      <td>NaN</td>\n",
              "      <td>NaN</td>\n",
              "      <td>NaN</td>\n",
              "      <td>...</td>\n",
              "      <td>NaN</td>\n",
              "      <td>NaN</td>\n",
              "      <td>NaN</td>\n",
              "      <td>NaN</td>\n",
              "      <td>NaN</td>\n",
              "      <td>NaN</td>\n",
              "      <td>NaN</td>\n",
              "      <td>NaN</td>\n",
              "      <td>NaN</td>\n",
              "      <td>NaN</td>\n",
              "      <td>NaN</td>\n",
              "      <td>NaN</td>\n",
              "      <td>NaN</td>\n",
              "      <td>NaN</td>\n",
              "      <td>NaN</td>\n",
              "      <td>NaN</td>\n",
              "      <td>NaN</td>\n",
              "      <td>NaN</td>\n",
              "      <td>NaN</td>\n",
              "      <td>NaN</td>\n",
              "      <td>NaN</td>\n",
              "      <td>NaN</td>\n",
              "      <td>NaN</td>\n",
              "      <td>NaN</td>\n",
              "      <td>NaN</td>\n",
              "      <td>NaN</td>\n",
              "      <td>NaN</td>\n",
              "      <td>NaN</td>\n",
              "      <td>NaN</td>\n",
              "      <td>NaN</td>\n",
              "      <td>NaN</td>\n",
              "      <td>NaN</td>\n",
              "      <td>NaN</td>\n",
              "      <td>NaN</td>\n",
              "      <td>NaN</td>\n",
              "      <td>NaN</td>\n",
              "      <td>NaN</td>\n",
              "      <td>NaN</td>\n",
              "      <td>NaN</td>\n",
              "      <td>NaN</td>\n",
              "    </tr>\n",
              "  </tbody>\n",
              "</table>\n",
              "<p>1 rows × 256 columns</p>\n",
              "</div>"
            ],
            "text/plain": [
              "                            Open    High  ...  IA_PRCP_MEAN  IA_PRCP_STD\n",
              "Date       YEAR MONTH DAY                 ...                           \n",
              "2019-04-22 2019 4     22   881.5  883.25  ...           NaN          NaN\n",
              "\n",
              "[1 rows x 256 columns]"
            ]
          },
          "metadata": {
            "tags": []
          },
          "execution_count": 7
        }
      ]
    },
    {
      "cell_type": "markdown",
      "metadata": {
        "id": "3nM-9w6ciZIH",
        "colab_type": "text"
      },
      "source": [
        "## Plot heatmap for correlation"
      ]
    },
    {
      "cell_type": "code",
      "metadata": {
        "id": "mkMbQkiRhmlm",
        "colab_type": "code",
        "colab": {}
      },
      "source": [
        "# This can take some time\n",
        "\n",
        "#corr = dataset.corr()\n",
        "#corr.style.background_gradient(cmap='coolwarm').set_precision(2)"
      ],
      "execution_count": 0,
      "outputs": []
    },
    {
      "cell_type": "markdown",
      "metadata": {
        "id": "97JhZk5EMQYV",
        "colab_type": "text"
      },
      "source": [
        "## Plot columns from CBOT dataset"
      ]
    },
    {
      "cell_type": "code",
      "metadata": {
        "id": "KJcnCYwfMV5n",
        "colab_type": "code",
        "outputId": "7e8e4c02-e7d0-4b25-c925-756de06c58d0",
        "colab": {
          "base_uri": "https://localhost:8080/",
          "height": 867
        }
      },
      "source": [
        "# specify columns to plot\n",
        "groups = [0, 1, 2, 3, 4, 5, 6, 7]\n",
        "i = 1\n",
        "# plot each column\n",
        "plt.figure(figsize=(10,15))\n",
        "for group in groups:\n",
        "\tplt.subplot(len(groups), 1, i)\n",
        "\tplt.plot(values[:, group])\n",
        "\tplt.title(dataset.columns[group], y=0.5, loc='right')\n",
        "\ti += 1\n",
        "plt.show()"
      ],
      "execution_count": 9,
      "outputs": [
        {
          "output_type": "display_data",
          "data": {
            "image/png": "[encoded data removed]",
            "text/plain": [
              "<Figure size 720x1080 with 8 Axes>"
            ]
          },
          "metadata": {
            "tags": []
          }
        }
      ]
    },
    {
      "cell_type": "markdown",
      "metadata": {
        "id": "P0XApEK_oIVn",
        "colab_type": "text"
      },
      "source": [
        "## Plot columns from GHCN dataset (filtered by the state of Texas)\n",
        "\n"
      ]
    },
    {
      "cell_type": "code",
      "metadata": {
        "id": "ETJcEzrboIxz",
        "colab_type": "code",
        "outputId": "3464f0c8-2559-4215-d1a0-74b337d50bad",
        "colab": {
          "base_uri": "https://localhost:8080/",
          "height": 867
        }
      },
      "source": [
        "# specify columns to plot\n",
        "groups = [8,9,10,11,12,13,14,15]\n",
        "i = 1\n",
        "# plot each column\n",
        "plt.figure(figsize=(10,15))\n",
        "for group in groups:\n",
        "\tplt.subplot(len(groups), 1, i)\n",
        "\tplt.plot(values[:, group])\n",
        "\tplt.title(dataset.columns[group], y=0.5, loc='left')\n",
        "\ti += 1\n",
        "plt.show()"
      ],
      "execution_count": 10,
      "outputs": [
        {
          "output_type": "display_data",
          "data": {
            "image/png": "[encoded data removed]",
            "text/plain": [
              "<Figure size 720x1080 with 8 Axes>"
            ]
          },
          "metadata": {
            "tags": []
          }
        }
      ]
    },
    {
      "cell_type": "markdown",
      "metadata": {
        "id": "EY6ofb_5G4jb",
        "colab_type": "text"
      },
      "source": [
        "## Integer encode direction"
      ]
    },
    {
      "cell_type": "code",
      "metadata": {
        "id": "Z0Ac1I9EHW2a",
        "colab_type": "code",
        "colab": {}
      },
      "source": [
        "encoder = LabelEncoder()\n",
        "values[:,4] = encoder.fit_transform(values[:,4])"
      ],
      "execution_count": 0,
      "outputs": []
    },
    {
      "cell_type": "markdown",
      "metadata": {
        "id": "r_S92IP9HbiM",
        "colab_type": "text"
      },
      "source": [
        "## Ensure all data is float\n"
      ]
    },
    {
      "cell_type": "code",
      "metadata": {
        "id": "HgD61EgpHddz",
        "colab_type": "code",
        "colab": {}
      },
      "source": [
        "values = values.astype('float32')"
      ],
      "execution_count": 0,
      "outputs": []
    },
    {
      "cell_type": "markdown",
      "metadata": {
        "id": "LcngVhupHjnq",
        "colab_type": "text"
      },
      "source": [
        "## Normalize features"
      ]
    },
    {
      "cell_type": "code",
      "metadata": {
        "id": "njORF0_uHj9z",
        "colab_type": "code",
        "colab": {}
      },
      "source": [
        "scaler = MinMaxScaler(feature_range=(0, 1))\n",
        "scaled = scaler.fit_transform(values)"
      ],
      "execution_count": 0,
      "outputs": []
    },
    {
      "cell_type": "markdown",
      "metadata": {
        "id": "vYGQ-TLOHtMu",
        "colab_type": "text"
      },
      "source": [
        "## Specify the number of lag hours"
      ]
    },
    {
      "cell_type": "code",
      "metadata": {
        "id": "zk3q5RmzHtjA",
        "colab_type": "code",
        "colab": {}
      },
      "source": [
        "n_days = 7 # A month before\n",
        "n_features = 256"
      ],
      "execution_count": 0,
      "outputs": []
    },
    {
      "cell_type": "markdown",
      "metadata": {
        "id": "2l3s1TxWH0Fo",
        "colab_type": "text"
      },
      "source": [
        "## Frame as supervised learning"
      ]
    },
    {
      "cell_type": "code",
      "metadata": {
        "id": "CNTDBCL7H0uR",
        "colab_type": "code",
        "outputId": "a6e7d3c2-777e-43db-ffda-4f95b76e5169",
        "colab": {
          "base_uri": "https://localhost:8080/",
          "height": 287
        }
      },
      "source": [
        "reframed = series_to_supervised(scaled, n_days, 1)\n",
        "print(reframed.shape)\n",
        "reframed.head()\n"
      ],
      "execution_count": 15,
      "outputs": [
        {
          "output_type": "stream",
          "text": [
            "(10991, 2048)\n"
          ],
          "name": "stdout"
        },
        {
          "output_type": "execute_result",
          "data": {
            "text/html": [
              "<div>\n",
              "<style scoped>\n",
              "    .dataframe tbody tr th:only-of-type {\n",
              "        vertical-align: middle;\n",
              "    }\n",
              "\n",
              "    .dataframe tbody tr th {\n",
              "        vertical-align: top;\n",
              "    }\n",
              "\n",
              "    .dataframe thead th {\n",
              "        text-align: right;\n",
              "    }\n",
              "</style>\n",
              "<table border=\"1\" class=\"dataframe\">\n",
              "  <thead>\n",
              "    <tr style=\"text-align: right;\">\n",
              "      <th></th>\n",
              "      <th>var1(t-7)</th>\n",
              "      <th>var2(t-7)</th>\n",
              "      <th>var3(t-7)</th>\n",
              "      <th>var4(t-7)</th>\n",
              "      <th>var5(t-7)</th>\n",
              "      <th>var6(t-7)</th>\n",
              "      <th>var7(t-7)</th>\n",
              "      <th>var8(t-7)</th>\n",
              "      <th>var9(t-7)</th>\n",
              "      <th>var10(t-7)</th>\n",
              "      <th>var11(t-7)</th>\n",
              "      <th>var12(t-7)</th>\n",
              "      <th>var13(t-7)</th>\n",
              "      <th>var14(t-7)</th>\n",
              "      <th>var15(t-7)</th>\n",
              "      <th>var16(t-7)</th>\n",
              "      <th>var17(t-7)</th>\n",
              "      <th>var18(t-7)</th>\n",
              "      <th>var19(t-7)</th>\n",
              "      <th>var20(t-7)</th>\n",
              "      <th>var21(t-7)</th>\n",
              "      <th>var22(t-7)</th>\n",
              "      <th>var23(t-7)</th>\n",
              "      <th>var24(t-7)</th>\n",
              "      <th>var25(t-7)</th>\n",
              "      <th>var26(t-7)</th>\n",
              "      <th>var27(t-7)</th>\n",
              "      <th>var28(t-7)</th>\n",
              "      <th>var29(t-7)</th>\n",
              "      <th>var30(t-7)</th>\n",
              "      <th>var31(t-7)</th>\n",
              "      <th>var32(t-7)</th>\n",
              "      <th>var33(t-7)</th>\n",
              "      <th>var34(t-7)</th>\n",
              "      <th>var35(t-7)</th>\n",
              "      <th>var36(t-7)</th>\n",
              "      <th>var37(t-7)</th>\n",
              "      <th>var38(t-7)</th>\n",
              "      <th>var39(t-7)</th>\n",
              "      <th>var40(t-7)</th>\n",
              "      <th>...</th>\n",
              "      <th>var217(t)</th>\n",
              "      <th>var218(t)</th>\n",
              "      <th>var219(t)</th>\n",
              "      <th>var220(t)</th>\n",
              "      <th>var221(t)</th>\n",
              "      <th>var222(t)</th>\n",
              "      <th>var223(t)</th>\n",
              "      <th>var224(t)</th>\n",
              "      <th>var225(t)</th>\n",
              "      <th>var226(t)</th>\n",
              "      <th>var227(t)</th>\n",
              "      <th>var228(t)</th>\n",
              "      <th>var229(t)</th>\n",
              "      <th>var230(t)</th>\n",
              "      <th>var231(t)</th>\n",
              "      <th>var232(t)</th>\n",
              "      <th>var233(t)</th>\n",
              "      <th>var234(t)</th>\n",
              "      <th>var235(t)</th>\n",
              "      <th>var236(t)</th>\n",
              "      <th>var237(t)</th>\n",
              "      <th>var238(t)</th>\n",
              "      <th>var239(t)</th>\n",
              "      <th>var240(t)</th>\n",
              "      <th>var241(t)</th>\n",
              "      <th>var242(t)</th>\n",
              "      <th>var243(t)</th>\n",
              "      <th>var244(t)</th>\n",
              "      <th>var245(t)</th>\n",
              "      <th>var246(t)</th>\n",
              "      <th>var247(t)</th>\n",
              "      <th>var248(t)</th>\n",
              "      <th>var249(t)</th>\n",
              "      <th>var250(t)</th>\n",
              "      <th>var251(t)</th>\n",
              "      <th>var252(t)</th>\n",
              "      <th>var253(t)</th>\n",
              "      <th>var254(t)</th>\n",
              "      <th>var255(t)</th>\n",
              "      <th>var256(t)</th>\n",
              "    </tr>\n",
              "  </thead>\n",
              "  <tbody>\n",
              "    <tr>\n",
              "      <th>8</th>\n",
              "      <td>0.430163</td>\n",
              "      <td>0.431369</td>\n",
              "      <td>0.429128</td>\n",
              "      <td>0.431731</td>\n",
              "      <td>0.000359</td>\n",
              "      <td>0.431572</td>\n",
              "      <td>0.171927</td>\n",
              "      <td>0.353242</td>\n",
              "      <td>0.201763</td>\n",
              "      <td>0.431541</td>\n",
              "      <td>0.456176</td>\n",
              "      <td>0.300841</td>\n",
              "      <td>0.169949</td>\n",
              "      <td>0.328450</td>\n",
              "      <td>0.896115</td>\n",
              "      <td>0.851300</td>\n",
              "      <td>0.229714</td>\n",
              "      <td>0.547190</td>\n",
              "      <td>0.458680</td>\n",
              "      <td>0.379904</td>\n",
              "      <td>0.277167</td>\n",
              "      <td>0.401238</td>\n",
              "      <td>0.000586</td>\n",
              "      <td>0.015170</td>\n",
              "      <td>0.404762</td>\n",
              "      <td>0.356728</td>\n",
              "      <td>0.569178</td>\n",
              "      <td>0.090203</td>\n",
              "      <td>0.401204</td>\n",
              "      <td>0.168394</td>\n",
              "      <td>0.019776</td>\n",
              "      <td>0.150741</td>\n",
              "      <td>0.363888</td>\n",
              "      <td>0.365142</td>\n",
              "      <td>0.557153</td>\n",
              "      <td>0.075924</td>\n",
              "      <td>0.360311</td>\n",
              "      <td>0.185684</td>\n",
              "      <td>0.062892</td>\n",
              "      <td>0.409582</td>\n",
              "      <td>...</td>\n",
              "      <td>0.371910</td>\n",
              "      <td>0.524527</td>\n",
              "      <td>0.588045</td>\n",
              "      <td>0.493318</td>\n",
              "      <td>0.460136</td>\n",
              "      <td>0.560212</td>\n",
              "      <td>0.317801</td>\n",
              "      <td>0.402935</td>\n",
              "      <td>0.487779</td>\n",
              "      <td>0.293198</td>\n",
              "      <td>0.585826</td>\n",
              "      <td>0.106894</td>\n",
              "      <td>0.511277</td>\n",
              "      <td>0.111702</td>\n",
              "      <td>0.000727</td>\n",
              "      <td>0.004247</td>\n",
              "      <td>0.532091</td>\n",
              "      <td>0.444306</td>\n",
              "      <td>0.648556</td>\n",
              "      <td>0.320789</td>\n",
              "      <td>0.617937</td>\n",
              "      <td>0.500162</td>\n",
              "      <td>0.244014</td>\n",
              "      <td>0.333859</td>\n",
              "      <td>0.250646</td>\n",
              "      <td>0.281392</td>\n",
              "      <td>0.446682</td>\n",
              "      <td>0.271970</td>\n",
              "      <td>0.247504</td>\n",
              "      <td>0.203999</td>\n",
              "      <td>0.055373</td>\n",
              "      <td>0.176851</td>\n",
              "      <td>0.512180</td>\n",
              "      <td>0.490143</td>\n",
              "      <td>0.616917</td>\n",
              "      <td>0.128333</td>\n",
              "      <td>0.470187</td>\n",
              "      <td>0.265425</td>\n",
              "      <td>0.000550</td>\n",
              "      <td>0.006923</td>\n",
              "    </tr>\n",
              "    <tr>\n",
              "      <th>9</th>\n",
              "      <td>0.435911</td>\n",
              "      <td>0.436790</td>\n",
              "      <td>0.430404</td>\n",
              "      <td>0.430614</td>\n",
              "      <td>0.002942</td>\n",
              "      <td>0.430614</td>\n",
              "      <td>0.242938</td>\n",
              "      <td>0.361835</td>\n",
              "      <td>0.230660</td>\n",
              "      <td>0.479189</td>\n",
              "      <td>0.494639</td>\n",
              "      <td>0.463921</td>\n",
              "      <td>0.226693</td>\n",
              "      <td>0.421765</td>\n",
              "      <td>0.006275</td>\n",
              "      <td>0.031552</td>\n",
              "      <td>0.214966</td>\n",
              "      <td>0.502637</td>\n",
              "      <td>0.431140</td>\n",
              "      <td>0.209312</td>\n",
              "      <td>0.265397</td>\n",
              "      <td>0.359200</td>\n",
              "      <td>0.000099</td>\n",
              "      <td>0.001789</td>\n",
              "      <td>0.423053</td>\n",
              "      <td>0.431792</td>\n",
              "      <td>0.582858</td>\n",
              "      <td>0.157163</td>\n",
              "      <td>0.432913</td>\n",
              "      <td>0.283714</td>\n",
              "      <td>0.013212</td>\n",
              "      <td>0.098600</td>\n",
              "      <td>0.396977</td>\n",
              "      <td>0.440580</td>\n",
              "      <td>0.590694</td>\n",
              "      <td>0.143208</td>\n",
              "      <td>0.396221</td>\n",
              "      <td>0.309503</td>\n",
              "      <td>0.000522</td>\n",
              "      <td>0.024596</td>\n",
              "      <td>...</td>\n",
              "      <td>0.355455</td>\n",
              "      <td>0.528713</td>\n",
              "      <td>0.596836</td>\n",
              "      <td>0.557724</td>\n",
              "      <td>0.453071</td>\n",
              "      <td>0.551214</td>\n",
              "      <td>0.820306</td>\n",
              "      <td>0.644928</td>\n",
              "      <td>0.544200</td>\n",
              "      <td>0.412315</td>\n",
              "      <td>0.642775</td>\n",
              "      <td>0.096670</td>\n",
              "      <td>0.558766</td>\n",
              "      <td>0.337722</td>\n",
              "      <td>0.007512</td>\n",
              "      <td>0.018592</td>\n",
              "      <td>0.572613</td>\n",
              "      <td>0.546953</td>\n",
              "      <td>0.606333</td>\n",
              "      <td>0.295206</td>\n",
              "      <td>0.634065</td>\n",
              "      <td>0.533847</td>\n",
              "      <td>0.324920</td>\n",
              "      <td>0.375600</td>\n",
              "      <td>0.253182</td>\n",
              "      <td>0.353047</td>\n",
              "      <td>0.445714</td>\n",
              "      <td>0.250457</td>\n",
              "      <td>0.246859</td>\n",
              "      <td>0.204921</td>\n",
              "      <td>0.017327</td>\n",
              "      <td>0.068066</td>\n",
              "      <td>0.502198</td>\n",
              "      <td>0.469681</td>\n",
              "      <td>0.620976</td>\n",
              "      <td>0.137802</td>\n",
              "      <td>0.477043</td>\n",
              "      <td>0.300327</td>\n",
              "      <td>0.036553</td>\n",
              "      <td>0.085632</td>\n",
              "    </tr>\n",
              "    <tr>\n",
              "      <th>10</th>\n",
              "      <td>0.442617</td>\n",
              "      <td>0.442212</td>\n",
              "      <td>0.435350</td>\n",
              "      <td>0.436359</td>\n",
              "      <td>0.003516</td>\n",
              "      <td>0.436359</td>\n",
              "      <td>0.251458</td>\n",
              "      <td>0.365132</td>\n",
              "      <td>0.242662</td>\n",
              "      <td>0.496247</td>\n",
              "      <td>0.468674</td>\n",
              "      <td>0.358339</td>\n",
              "      <td>0.222838</td>\n",
              "      <td>0.404125</td>\n",
              "      <td>0.000110</td>\n",
              "      <td>0.001702</td>\n",
              "      <td>0.190328</td>\n",
              "      <td>0.414317</td>\n",
              "      <td>0.415874</td>\n",
              "      <td>0.125339</td>\n",
              "      <td>0.238111</td>\n",
              "      <td>0.262694</td>\n",
              "      <td>0.002535</td>\n",
              "      <td>0.016891</td>\n",
              "      <td>0.453810</td>\n",
              "      <td>0.505408</td>\n",
              "      <td>0.574211</td>\n",
              "      <td>0.109289</td>\n",
              "      <td>0.443341</td>\n",
              "      <td>0.286492</td>\n",
              "      <td>0.000728</td>\n",
              "      <td>0.006846</td>\n",
              "      <td>0.395761</td>\n",
              "      <td>0.444830</td>\n",
              "      <td>0.570300</td>\n",
              "      <td>0.113684</td>\n",
              "      <td>0.396403</td>\n",
              "      <td>0.309299</td>\n",
              "      <td>0.000000</td>\n",
              "      <td>0.000000</td>\n",
              "      <td>...</td>\n",
              "      <td>0.302206</td>\n",
              "      <td>0.446837</td>\n",
              "      <td>0.550406</td>\n",
              "      <td>0.448382</td>\n",
              "      <td>0.412175</td>\n",
              "      <td>0.482795</td>\n",
              "      <td>0.605323</td>\n",
              "      <td>0.635286</td>\n",
              "      <td>0.483573</td>\n",
              "      <td>0.311606</td>\n",
              "      <td>0.614646</td>\n",
              "      <td>0.060367</td>\n",
              "      <td>0.531559</td>\n",
              "      <td>0.190482</td>\n",
              "      <td>0.004040</td>\n",
              "      <td>0.011751</td>\n",
              "      <td>0.513266</td>\n",
              "      <td>0.440836</td>\n",
              "      <td>0.539564</td>\n",
              "      <td>0.174681</td>\n",
              "      <td>0.607398</td>\n",
              "      <td>0.449416</td>\n",
              "      <td>0.101524</td>\n",
              "      <td>0.159672</td>\n",
              "      <td>0.244949</td>\n",
              "      <td>0.153596</td>\n",
              "      <td>0.441872</td>\n",
              "      <td>0.119184</td>\n",
              "      <td>0.238309</td>\n",
              "      <td>0.096205</td>\n",
              "      <td>0.001507</td>\n",
              "      <td>0.026990</td>\n",
              "      <td>0.425961</td>\n",
              "      <td>0.281899</td>\n",
              "      <td>0.615545</td>\n",
              "      <td>0.133919</td>\n",
              "      <td>0.452272</td>\n",
              "      <td>0.191550</td>\n",
              "      <td>0.024786</td>\n",
              "      <td>0.053430</td>\n",
              "    </tr>\n",
              "    <tr>\n",
              "      <th>11</th>\n",
              "      <td>0.440542</td>\n",
              "      <td>0.444126</td>\n",
              "      <td>0.440775</td>\n",
              "      <td>0.443221</td>\n",
              "      <td>0.001148</td>\n",
              "      <td>0.443221</td>\n",
              "      <td>0.246762</td>\n",
              "      <td>0.382209</td>\n",
              "      <td>0.219540</td>\n",
              "      <td>0.455343</td>\n",
              "      <td>0.418607</td>\n",
              "      <td>0.180602</td>\n",
              "      <td>0.205872</td>\n",
              "      <td>0.364898</td>\n",
              "      <td>0.000488</td>\n",
              "      <td>0.003224</td>\n",
              "      <td>0.195655</td>\n",
              "      <td>0.436074</td>\n",
              "      <td>0.447489</td>\n",
              "      <td>0.354754</td>\n",
              "      <td>0.239016</td>\n",
              "      <td>0.299704</td>\n",
              "      <td>0.209493</td>\n",
              "      <td>0.329362</td>\n",
              "      <td>0.424834</td>\n",
              "      <td>0.395336</td>\n",
              "      <td>0.552077</td>\n",
              "      <td>0.108095</td>\n",
              "      <td>0.437964</td>\n",
              "      <td>0.277871</td>\n",
              "      <td>0.000249</td>\n",
              "      <td>0.003263</td>\n",
              "      <td>0.363192</td>\n",
              "      <td>0.358510</td>\n",
              "      <td>0.531583</td>\n",
              "      <td>0.050569</td>\n",
              "      <td>0.383882</td>\n",
              "      <td>0.260925</td>\n",
              "      <td>0.000385</td>\n",
              "      <td>0.016370</td>\n",
              "      <td>...</td>\n",
              "      <td>0.308864</td>\n",
              "      <td>0.406368</td>\n",
              "      <td>0.482938</td>\n",
              "      <td>0.349272</td>\n",
              "      <td>0.389979</td>\n",
              "      <td>0.398535</td>\n",
              "      <td>0.051966</td>\n",
              "      <td>0.127961</td>\n",
              "      <td>0.478306</td>\n",
              "      <td>0.342071</td>\n",
              "      <td>0.583938</td>\n",
              "      <td>0.132277</td>\n",
              "      <td>0.532925</td>\n",
              "      <td>0.222117</td>\n",
              "      <td>0.001670</td>\n",
              "      <td>0.006387</td>\n",
              "      <td>0.504641</td>\n",
              "      <td>0.396672</td>\n",
              "      <td>0.482767</td>\n",
              "      <td>0.095158</td>\n",
              "      <td>0.572430</td>\n",
              "      <td>0.422047</td>\n",
              "      <td>0.000000</td>\n",
              "      <td>0.000000</td>\n",
              "      <td>0.249714</td>\n",
              "      <td>0.256804</td>\n",
              "      <td>0.441274</td>\n",
              "      <td>0.099619</td>\n",
              "      <td>0.243130</td>\n",
              "      <td>0.150464</td>\n",
              "      <td>0.000000</td>\n",
              "      <td>0.000000</td>\n",
              "      <td>0.420924</td>\n",
              "      <td>0.232492</td>\n",
              "      <td>0.589131</td>\n",
              "      <td>0.153001</td>\n",
              "      <td>0.443218</td>\n",
              "      <td>0.145499</td>\n",
              "      <td>0.070249</td>\n",
              "      <td>0.187655</td>\n",
              "    </tr>\n",
              "    <tr>\n",
              "      <th>12</th>\n",
              "      <td>0.440542</td>\n",
              "      <td>0.441893</td>\n",
              "      <td>0.440137</td>\n",
              "      <td>0.440508</td>\n",
              "      <td>0.669824</td>\n",
              "      <td>0.440987</td>\n",
              "      <td>0.187976</td>\n",
              "      <td>0.398964</td>\n",
              "      <td>0.202366</td>\n",
              "      <td>0.434235</td>\n",
              "      <td>0.425404</td>\n",
              "      <td>0.267301</td>\n",
              "      <td>0.176228</td>\n",
              "      <td>0.318783</td>\n",
              "      <td>0.004867</td>\n",
              "      <td>0.024482</td>\n",
              "      <td>0.206077</td>\n",
              "      <td>0.475031</td>\n",
              "      <td>0.462841</td>\n",
              "      <td>0.424089</td>\n",
              "      <td>0.261478</td>\n",
              "      <td>0.368925</td>\n",
              "      <td>0.063191</td>\n",
              "      <td>0.131305</td>\n",
              "      <td>0.325204</td>\n",
              "      <td>0.083416</td>\n",
              "      <td>0.515858</td>\n",
              "      <td>0.168162</td>\n",
              "      <td>0.352007</td>\n",
              "      <td>0.054233</td>\n",
              "      <td>0.025444</td>\n",
              "      <td>0.143774</td>\n",
              "      <td>0.291209</td>\n",
              "      <td>0.168674</td>\n",
              "      <td>0.497531</td>\n",
              "      <td>0.027886</td>\n",
              "      <td>0.332575</td>\n",
              "      <td>0.072814</td>\n",
              "      <td>0.000722</td>\n",
              "      <td>0.021278</td>\n",
              "      <td>...</td>\n",
              "      <td>0.351615</td>\n",
              "      <td>0.449122</td>\n",
              "      <td>0.416758</td>\n",
              "      <td>0.137755</td>\n",
              "      <td>0.394112</td>\n",
              "      <td>0.405500</td>\n",
              "      <td>0.000000</td>\n",
              "      <td>0.000000</td>\n",
              "      <td>0.456633</td>\n",
              "      <td>0.193639</td>\n",
              "      <td>0.544582</td>\n",
              "      <td>0.168995</td>\n",
              "      <td>0.508103</td>\n",
              "      <td>0.062449</td>\n",
              "      <td>0.003539</td>\n",
              "      <td>0.010885</td>\n",
              "      <td>0.457189</td>\n",
              "      <td>0.299672</td>\n",
              "      <td>0.460608</td>\n",
              "      <td>0.105253</td>\n",
              "      <td>0.517366</td>\n",
              "      <td>0.331736</td>\n",
              "      <td>0.000000</td>\n",
              "      <td>0.000000</td>\n",
              "      <td>0.249232</td>\n",
              "      <td>0.256895</td>\n",
              "      <td>0.439774</td>\n",
              "      <td>0.060329</td>\n",
              "      <td>0.239830</td>\n",
              "      <td>0.117333</td>\n",
              "      <td>0.002638</td>\n",
              "      <td>0.021441</td>\n",
              "      <td>0.427566</td>\n",
              "      <td>0.225106</td>\n",
              "      <td>0.564925</td>\n",
              "      <td>0.079126</td>\n",
              "      <td>0.437787</td>\n",
              "      <td>0.116188</td>\n",
              "      <td>0.008915</td>\n",
              "      <td>0.031045</td>\n",
              "    </tr>\n",
              "  </tbody>\n",
              "</table>\n",
              "<p>5 rows × 2048 columns</p>\n",
              "</div>"
            ],
            "text/plain": [
              "    var1(t-7)  var2(t-7)  var3(t-7)  ...  var254(t)  var255(t)  var256(t)\n",
              "8    0.430163   0.431369   0.429128  ...   0.265425   0.000550   0.006923\n",
              "9    0.435911   0.436790   0.430404  ...   0.300327   0.036553   0.085632\n",
              "10   0.442617   0.442212   0.435350  ...   0.191550   0.024786   0.053430\n",
              "11   0.440542   0.444126   0.440775  ...   0.145499   0.070249   0.187655\n",
              "12   0.440542   0.441893   0.440137  ...   0.116188   0.008915   0.031045\n",
              "\n",
              "[5 rows x 2048 columns]"
            ]
          },
          "metadata": {
            "tags": []
          },
          "execution_count": 15
        }
      ]
    },
    {
      "cell_type": "markdown",
      "metadata": {
        "id": "K_K1my4wNBon",
        "colab_type": "text"
      },
      "source": [
        "## Drop columns we don't want to predict"
      ]
    },
    {
      "cell_type": "code",
      "metadata": {
        "id": "nUXtuD1dNEvR",
        "colab_type": "code",
        "outputId": "b60de0f1-3362-4d25-c1ab-9c0849478289",
        "colab": {
          "base_uri": "https://localhost:8080/",
          "height": 287
        }
      },
      "source": [
        "cols = [reframed.columns.get_loc(col) for col in reframed.columns if reframed.columns.get_loc(col)>=n_days*n_features and reframed.columns.get_loc(col)!=(n_days*n_features+SETTLE_id)]\n",
        "reframed.drop(reframed.columns[cols], axis=1, inplace=True)\n",
        "print(reframed.shape)\n",
        "reframed.head()"
      ],
      "execution_count": 16,
      "outputs": [
        {
          "output_type": "stream",
          "text": [
            "(10991, 1793)\n"
          ],
          "name": "stdout"
        },
        {
          "output_type": "execute_result",
          "data": {
            "text/html": [
              "<div>\n",
              "<style scoped>\n",
              "    .dataframe tbody tr th:only-of-type {\n",
              "        vertical-align: middle;\n",
              "    }\n",
              "\n",
              "    .dataframe tbody tr th {\n",
              "        vertical-align: top;\n",
              "    }\n",
              "\n",
              "    .dataframe thead th {\n",
              "        text-align: right;\n",
              "    }\n",
              "</style>\n",
              "<table border=\"1\" class=\"dataframe\">\n",
              "  <thead>\n",
              "    <tr style=\"text-align: right;\">\n",
              "      <th></th>\n",
              "      <th>var1(t-7)</th>\n",
              "      <th>var2(t-7)</th>\n",
              "      <th>var3(t-7)</th>\n",
              "      <th>var4(t-7)</th>\n",
              "      <th>var5(t-7)</th>\n",
              "      <th>var6(t-7)</th>\n",
              "      <th>var7(t-7)</th>\n",
              "      <th>var8(t-7)</th>\n",
              "      <th>var9(t-7)</th>\n",
              "      <th>var10(t-7)</th>\n",
              "      <th>var11(t-7)</th>\n",
              "      <th>var12(t-7)</th>\n",
              "      <th>var13(t-7)</th>\n",
              "      <th>var14(t-7)</th>\n",
              "      <th>var15(t-7)</th>\n",
              "      <th>var16(t-7)</th>\n",
              "      <th>var17(t-7)</th>\n",
              "      <th>var18(t-7)</th>\n",
              "      <th>var19(t-7)</th>\n",
              "      <th>var20(t-7)</th>\n",
              "      <th>var21(t-7)</th>\n",
              "      <th>var22(t-7)</th>\n",
              "      <th>var23(t-7)</th>\n",
              "      <th>var24(t-7)</th>\n",
              "      <th>var25(t-7)</th>\n",
              "      <th>var26(t-7)</th>\n",
              "      <th>var27(t-7)</th>\n",
              "      <th>var28(t-7)</th>\n",
              "      <th>var29(t-7)</th>\n",
              "      <th>var30(t-7)</th>\n",
              "      <th>var31(t-7)</th>\n",
              "      <th>var32(t-7)</th>\n",
              "      <th>var33(t-7)</th>\n",
              "      <th>var34(t-7)</th>\n",
              "      <th>var35(t-7)</th>\n",
              "      <th>var36(t-7)</th>\n",
              "      <th>var37(t-7)</th>\n",
              "      <th>var38(t-7)</th>\n",
              "      <th>var39(t-7)</th>\n",
              "      <th>var40(t-7)</th>\n",
              "      <th>...</th>\n",
              "      <th>var218(t-1)</th>\n",
              "      <th>var219(t-1)</th>\n",
              "      <th>var220(t-1)</th>\n",
              "      <th>var221(t-1)</th>\n",
              "      <th>var222(t-1)</th>\n",
              "      <th>var223(t-1)</th>\n",
              "      <th>var224(t-1)</th>\n",
              "      <th>var225(t-1)</th>\n",
              "      <th>var226(t-1)</th>\n",
              "      <th>var227(t-1)</th>\n",
              "      <th>var228(t-1)</th>\n",
              "      <th>var229(t-1)</th>\n",
              "      <th>var230(t-1)</th>\n",
              "      <th>var231(t-1)</th>\n",
              "      <th>var232(t-1)</th>\n",
              "      <th>var233(t-1)</th>\n",
              "      <th>var234(t-1)</th>\n",
              "      <th>var235(t-1)</th>\n",
              "      <th>var236(t-1)</th>\n",
              "      <th>var237(t-1)</th>\n",
              "      <th>var238(t-1)</th>\n",
              "      <th>var239(t-1)</th>\n",
              "      <th>var240(t-1)</th>\n",
              "      <th>var241(t-1)</th>\n",
              "      <th>var242(t-1)</th>\n",
              "      <th>var243(t-1)</th>\n",
              "      <th>var244(t-1)</th>\n",
              "      <th>var245(t-1)</th>\n",
              "      <th>var246(t-1)</th>\n",
              "      <th>var247(t-1)</th>\n",
              "      <th>var248(t-1)</th>\n",
              "      <th>var249(t-1)</th>\n",
              "      <th>var250(t-1)</th>\n",
              "      <th>var251(t-1)</th>\n",
              "      <th>var252(t-1)</th>\n",
              "      <th>var253(t-1)</th>\n",
              "      <th>var254(t-1)</th>\n",
              "      <th>var255(t-1)</th>\n",
              "      <th>var256(t-1)</th>\n",
              "      <th>var6(t)</th>\n",
              "    </tr>\n",
              "  </thead>\n",
              "  <tbody>\n",
              "    <tr>\n",
              "      <th>8</th>\n",
              "      <td>0.430163</td>\n",
              "      <td>0.431369</td>\n",
              "      <td>0.429128</td>\n",
              "      <td>0.431731</td>\n",
              "      <td>0.000359</td>\n",
              "      <td>0.431572</td>\n",
              "      <td>0.171927</td>\n",
              "      <td>0.353242</td>\n",
              "      <td>0.201763</td>\n",
              "      <td>0.431541</td>\n",
              "      <td>0.456176</td>\n",
              "      <td>0.300841</td>\n",
              "      <td>0.169949</td>\n",
              "      <td>0.328450</td>\n",
              "      <td>0.896115</td>\n",
              "      <td>0.851300</td>\n",
              "      <td>0.229714</td>\n",
              "      <td>0.547190</td>\n",
              "      <td>0.458680</td>\n",
              "      <td>0.379904</td>\n",
              "      <td>0.277167</td>\n",
              "      <td>0.401238</td>\n",
              "      <td>0.000586</td>\n",
              "      <td>0.015170</td>\n",
              "      <td>0.404762</td>\n",
              "      <td>0.356728</td>\n",
              "      <td>0.569178</td>\n",
              "      <td>0.090203</td>\n",
              "      <td>0.401204</td>\n",
              "      <td>0.168394</td>\n",
              "      <td>0.019776</td>\n",
              "      <td>0.150741</td>\n",
              "      <td>0.363888</td>\n",
              "      <td>0.365142</td>\n",
              "      <td>0.557153</td>\n",
              "      <td>0.075924</td>\n",
              "      <td>0.360311</td>\n",
              "      <td>0.185684</td>\n",
              "      <td>0.062892</td>\n",
              "      <td>0.409582</td>\n",
              "      <td>...</td>\n",
              "      <td>0.577949</td>\n",
              "      <td>0.554269</td>\n",
              "      <td>0.395771</td>\n",
              "      <td>0.503953</td>\n",
              "      <td>0.607306</td>\n",
              "      <td>0.040479</td>\n",
              "      <td>0.193762</td>\n",
              "      <td>0.415522</td>\n",
              "      <td>0.139545</td>\n",
              "      <td>0.553601</td>\n",
              "      <td>0.140833</td>\n",
              "      <td>0.489100</td>\n",
              "      <td>0.095630</td>\n",
              "      <td>0.014085</td>\n",
              "      <td>0.083460</td>\n",
              "      <td>0.558218</td>\n",
              "      <td>0.494523</td>\n",
              "      <td>0.533181</td>\n",
              "      <td>0.096990</td>\n",
              "      <td>0.608214</td>\n",
              "      <td>0.463769</td>\n",
              "      <td>0.001140</td>\n",
              "      <td>0.028621</td>\n",
              "      <td>0.250913</td>\n",
              "      <td>0.275345</td>\n",
              "      <td>0.442415</td>\n",
              "      <td>0.128911</td>\n",
              "      <td>0.245567</td>\n",
              "      <td>0.173112</td>\n",
              "      <td>0.000214</td>\n",
              "      <td>0.004264</td>\n",
              "      <td>0.462003</td>\n",
              "      <td>0.397564</td>\n",
              "      <td>0.608633</td>\n",
              "      <td>0.127016</td>\n",
              "      <td>0.442540</td>\n",
              "      <td>0.142258</td>\n",
              "      <td>0.037625</td>\n",
              "      <td>0.254125</td>\n",
              "      <td>0.443221</td>\n",
              "    </tr>\n",
              "    <tr>\n",
              "      <th>9</th>\n",
              "      <td>0.435911</td>\n",
              "      <td>0.436790</td>\n",
              "      <td>0.430404</td>\n",
              "      <td>0.430614</td>\n",
              "      <td>0.002942</td>\n",
              "      <td>0.430614</td>\n",
              "      <td>0.242938</td>\n",
              "      <td>0.361835</td>\n",
              "      <td>0.230660</td>\n",
              "      <td>0.479189</td>\n",
              "      <td>0.494639</td>\n",
              "      <td>0.463921</td>\n",
              "      <td>0.226693</td>\n",
              "      <td>0.421765</td>\n",
              "      <td>0.006275</td>\n",
              "      <td>0.031552</td>\n",
              "      <td>0.214966</td>\n",
              "      <td>0.502637</td>\n",
              "      <td>0.431140</td>\n",
              "      <td>0.209312</td>\n",
              "      <td>0.265397</td>\n",
              "      <td>0.359200</td>\n",
              "      <td>0.000099</td>\n",
              "      <td>0.001789</td>\n",
              "      <td>0.423053</td>\n",
              "      <td>0.431792</td>\n",
              "      <td>0.582858</td>\n",
              "      <td>0.157163</td>\n",
              "      <td>0.432913</td>\n",
              "      <td>0.283714</td>\n",
              "      <td>0.013212</td>\n",
              "      <td>0.098600</td>\n",
              "      <td>0.396977</td>\n",
              "      <td>0.440580</td>\n",
              "      <td>0.590694</td>\n",
              "      <td>0.143208</td>\n",
              "      <td>0.396221</td>\n",
              "      <td>0.309503</td>\n",
              "      <td>0.000522</td>\n",
              "      <td>0.024596</td>\n",
              "      <td>...</td>\n",
              "      <td>0.524527</td>\n",
              "      <td>0.588045</td>\n",
              "      <td>0.493318</td>\n",
              "      <td>0.460136</td>\n",
              "      <td>0.560212</td>\n",
              "      <td>0.317801</td>\n",
              "      <td>0.402935</td>\n",
              "      <td>0.487779</td>\n",
              "      <td>0.293198</td>\n",
              "      <td>0.585826</td>\n",
              "      <td>0.106894</td>\n",
              "      <td>0.511277</td>\n",
              "      <td>0.111702</td>\n",
              "      <td>0.000727</td>\n",
              "      <td>0.004247</td>\n",
              "      <td>0.532091</td>\n",
              "      <td>0.444306</td>\n",
              "      <td>0.648556</td>\n",
              "      <td>0.320789</td>\n",
              "      <td>0.617937</td>\n",
              "      <td>0.500162</td>\n",
              "      <td>0.244014</td>\n",
              "      <td>0.333859</td>\n",
              "      <td>0.250646</td>\n",
              "      <td>0.281392</td>\n",
              "      <td>0.446682</td>\n",
              "      <td>0.271970</td>\n",
              "      <td>0.247504</td>\n",
              "      <td>0.203999</td>\n",
              "      <td>0.055373</td>\n",
              "      <td>0.176851</td>\n",
              "      <td>0.512180</td>\n",
              "      <td>0.490143</td>\n",
              "      <td>0.616917</td>\n",
              "      <td>0.128333</td>\n",
              "      <td>0.470187</td>\n",
              "      <td>0.265425</td>\n",
              "      <td>0.000550</td>\n",
              "      <td>0.006923</td>\n",
              "      <td>0.443221</td>\n",
              "    </tr>\n",
              "    <tr>\n",
              "      <th>10</th>\n",
              "      <td>0.442617</td>\n",
              "      <td>0.442212</td>\n",
              "      <td>0.435350</td>\n",
              "      <td>0.436359</td>\n",
              "      <td>0.003516</td>\n",
              "      <td>0.436359</td>\n",
              "      <td>0.251458</td>\n",
              "      <td>0.365132</td>\n",
              "      <td>0.242662</td>\n",
              "      <td>0.496247</td>\n",
              "      <td>0.468674</td>\n",
              "      <td>0.358339</td>\n",
              "      <td>0.222838</td>\n",
              "      <td>0.404125</td>\n",
              "      <td>0.000110</td>\n",
              "      <td>0.001702</td>\n",
              "      <td>0.190328</td>\n",
              "      <td>0.414317</td>\n",
              "      <td>0.415874</td>\n",
              "      <td>0.125339</td>\n",
              "      <td>0.238111</td>\n",
              "      <td>0.262694</td>\n",
              "      <td>0.002535</td>\n",
              "      <td>0.016891</td>\n",
              "      <td>0.453810</td>\n",
              "      <td>0.505408</td>\n",
              "      <td>0.574211</td>\n",
              "      <td>0.109289</td>\n",
              "      <td>0.443341</td>\n",
              "      <td>0.286492</td>\n",
              "      <td>0.000728</td>\n",
              "      <td>0.006846</td>\n",
              "      <td>0.395761</td>\n",
              "      <td>0.444830</td>\n",
              "      <td>0.570300</td>\n",
              "      <td>0.113684</td>\n",
              "      <td>0.396403</td>\n",
              "      <td>0.309299</td>\n",
              "      <td>0.000000</td>\n",
              "      <td>0.000000</td>\n",
              "      <td>...</td>\n",
              "      <td>0.528713</td>\n",
              "      <td>0.596836</td>\n",
              "      <td>0.557724</td>\n",
              "      <td>0.453071</td>\n",
              "      <td>0.551214</td>\n",
              "      <td>0.820306</td>\n",
              "      <td>0.644928</td>\n",
              "      <td>0.544200</td>\n",
              "      <td>0.412315</td>\n",
              "      <td>0.642775</td>\n",
              "      <td>0.096670</td>\n",
              "      <td>0.558766</td>\n",
              "      <td>0.337722</td>\n",
              "      <td>0.007512</td>\n",
              "      <td>0.018592</td>\n",
              "      <td>0.572613</td>\n",
              "      <td>0.546953</td>\n",
              "      <td>0.606333</td>\n",
              "      <td>0.295206</td>\n",
              "      <td>0.634065</td>\n",
              "      <td>0.533847</td>\n",
              "      <td>0.324920</td>\n",
              "      <td>0.375600</td>\n",
              "      <td>0.253182</td>\n",
              "      <td>0.353047</td>\n",
              "      <td>0.445714</td>\n",
              "      <td>0.250457</td>\n",
              "      <td>0.246859</td>\n",
              "      <td>0.204921</td>\n",
              "      <td>0.017327</td>\n",
              "      <td>0.068066</td>\n",
              "      <td>0.502198</td>\n",
              "      <td>0.469681</td>\n",
              "      <td>0.620976</td>\n",
              "      <td>0.137802</td>\n",
              "      <td>0.477043</td>\n",
              "      <td>0.300327</td>\n",
              "      <td>0.036553</td>\n",
              "      <td>0.085632</td>\n",
              "      <td>0.443381</td>\n",
              "    </tr>\n",
              "    <tr>\n",
              "      <th>11</th>\n",
              "      <td>0.440542</td>\n",
              "      <td>0.444126</td>\n",
              "      <td>0.440775</td>\n",
              "      <td>0.443221</td>\n",
              "      <td>0.001148</td>\n",
              "      <td>0.443221</td>\n",
              "      <td>0.246762</td>\n",
              "      <td>0.382209</td>\n",
              "      <td>0.219540</td>\n",
              "      <td>0.455343</td>\n",
              "      <td>0.418607</td>\n",
              "      <td>0.180602</td>\n",
              "      <td>0.205872</td>\n",
              "      <td>0.364898</td>\n",
              "      <td>0.000488</td>\n",
              "      <td>0.003224</td>\n",
              "      <td>0.195655</td>\n",
              "      <td>0.436074</td>\n",
              "      <td>0.447489</td>\n",
              "      <td>0.354754</td>\n",
              "      <td>0.239016</td>\n",
              "      <td>0.299704</td>\n",
              "      <td>0.209493</td>\n",
              "      <td>0.329362</td>\n",
              "      <td>0.424834</td>\n",
              "      <td>0.395336</td>\n",
              "      <td>0.552077</td>\n",
              "      <td>0.108095</td>\n",
              "      <td>0.437964</td>\n",
              "      <td>0.277871</td>\n",
              "      <td>0.000249</td>\n",
              "      <td>0.003263</td>\n",
              "      <td>0.363192</td>\n",
              "      <td>0.358510</td>\n",
              "      <td>0.531583</td>\n",
              "      <td>0.050569</td>\n",
              "      <td>0.383882</td>\n",
              "      <td>0.260925</td>\n",
              "      <td>0.000385</td>\n",
              "      <td>0.016370</td>\n",
              "      <td>...</td>\n",
              "      <td>0.446837</td>\n",
              "      <td>0.550406</td>\n",
              "      <td>0.448382</td>\n",
              "      <td>0.412175</td>\n",
              "      <td>0.482795</td>\n",
              "      <td>0.605323</td>\n",
              "      <td>0.635286</td>\n",
              "      <td>0.483573</td>\n",
              "      <td>0.311606</td>\n",
              "      <td>0.614646</td>\n",
              "      <td>0.060367</td>\n",
              "      <td>0.531559</td>\n",
              "      <td>0.190482</td>\n",
              "      <td>0.004040</td>\n",
              "      <td>0.011751</td>\n",
              "      <td>0.513266</td>\n",
              "      <td>0.440836</td>\n",
              "      <td>0.539564</td>\n",
              "      <td>0.174681</td>\n",
              "      <td>0.607398</td>\n",
              "      <td>0.449416</td>\n",
              "      <td>0.101524</td>\n",
              "      <td>0.159672</td>\n",
              "      <td>0.244949</td>\n",
              "      <td>0.153596</td>\n",
              "      <td>0.441872</td>\n",
              "      <td>0.119184</td>\n",
              "      <td>0.238309</td>\n",
              "      <td>0.096205</td>\n",
              "      <td>0.001507</td>\n",
              "      <td>0.026990</td>\n",
              "      <td>0.425961</td>\n",
              "      <td>0.281899</td>\n",
              "      <td>0.615545</td>\n",
              "      <td>0.133919</td>\n",
              "      <td>0.452272</td>\n",
              "      <td>0.191550</td>\n",
              "      <td>0.024786</td>\n",
              "      <td>0.053430</td>\n",
              "      <td>0.448168</td>\n",
              "    </tr>\n",
              "    <tr>\n",
              "      <th>12</th>\n",
              "      <td>0.440542</td>\n",
              "      <td>0.441893</td>\n",
              "      <td>0.440137</td>\n",
              "      <td>0.440508</td>\n",
              "      <td>0.669824</td>\n",
              "      <td>0.440987</td>\n",
              "      <td>0.187976</td>\n",
              "      <td>0.398964</td>\n",
              "      <td>0.202366</td>\n",
              "      <td>0.434235</td>\n",
              "      <td>0.425404</td>\n",
              "      <td>0.267301</td>\n",
              "      <td>0.176228</td>\n",
              "      <td>0.318783</td>\n",
              "      <td>0.004867</td>\n",
              "      <td>0.024482</td>\n",
              "      <td>0.206077</td>\n",
              "      <td>0.475031</td>\n",
              "      <td>0.462841</td>\n",
              "      <td>0.424089</td>\n",
              "      <td>0.261478</td>\n",
              "      <td>0.368925</td>\n",
              "      <td>0.063191</td>\n",
              "      <td>0.131305</td>\n",
              "      <td>0.325204</td>\n",
              "      <td>0.083416</td>\n",
              "      <td>0.515858</td>\n",
              "      <td>0.168162</td>\n",
              "      <td>0.352007</td>\n",
              "      <td>0.054233</td>\n",
              "      <td>0.025444</td>\n",
              "      <td>0.143774</td>\n",
              "      <td>0.291209</td>\n",
              "      <td>0.168674</td>\n",
              "      <td>0.497531</td>\n",
              "      <td>0.027886</td>\n",
              "      <td>0.332575</td>\n",
              "      <td>0.072814</td>\n",
              "      <td>0.000722</td>\n",
              "      <td>0.021278</td>\n",
              "      <td>...</td>\n",
              "      <td>0.406368</td>\n",
              "      <td>0.482938</td>\n",
              "      <td>0.349272</td>\n",
              "      <td>0.389979</td>\n",
              "      <td>0.398535</td>\n",
              "      <td>0.051966</td>\n",
              "      <td>0.127961</td>\n",
              "      <td>0.478306</td>\n",
              "      <td>0.342071</td>\n",
              "      <td>0.583938</td>\n",
              "      <td>0.132277</td>\n",
              "      <td>0.532925</td>\n",
              "      <td>0.222117</td>\n",
              "      <td>0.001670</td>\n",
              "      <td>0.006387</td>\n",
              "      <td>0.504641</td>\n",
              "      <td>0.396672</td>\n",
              "      <td>0.482767</td>\n",
              "      <td>0.095158</td>\n",
              "      <td>0.572430</td>\n",
              "      <td>0.422047</td>\n",
              "      <td>0.000000</td>\n",
              "      <td>0.000000</td>\n",
              "      <td>0.249714</td>\n",
              "      <td>0.256804</td>\n",
              "      <td>0.441274</td>\n",
              "      <td>0.099619</td>\n",
              "      <td>0.243130</td>\n",
              "      <td>0.150464</td>\n",
              "      <td>0.000000</td>\n",
              "      <td>0.000000</td>\n",
              "      <td>0.420924</td>\n",
              "      <td>0.232492</td>\n",
              "      <td>0.589131</td>\n",
              "      <td>0.153001</td>\n",
              "      <td>0.443218</td>\n",
              "      <td>0.145499</td>\n",
              "      <td>0.070249</td>\n",
              "      <td>0.187655</td>\n",
              "      <td>0.443221</td>\n",
              "    </tr>\n",
              "  </tbody>\n",
              "</table>\n",
              "<p>5 rows × 1793 columns</p>\n",
              "</div>"
            ],
            "text/plain": [
              "    var1(t-7)  var2(t-7)  var3(t-7)  ...  var255(t-1)  var256(t-1)   var6(t)\n",
              "8    0.430163   0.431369   0.429128  ...     0.037625     0.254125  0.443221\n",
              "9    0.435911   0.436790   0.430404  ...     0.000550     0.006923  0.443221\n",
              "10   0.442617   0.442212   0.435350  ...     0.036553     0.085632  0.443381\n",
              "11   0.440542   0.444126   0.440775  ...     0.024786     0.053430  0.448168\n",
              "12   0.440542   0.441893   0.440137  ...     0.070249     0.187655  0.443221\n",
              "\n",
              "[5 rows x 1793 columns]"
            ]
          },
          "metadata": {
            "tags": []
          },
          "execution_count": 16
        }
      ]
    },
    {
      "cell_type": "markdown",
      "metadata": {
        "id": "Uw1xhWMYH69j",
        "colab_type": "text"
      },
      "source": [
        "## Split into train and test sets"
      ]
    },
    {
      "cell_type": "code",
      "metadata": {
        "id": "YegC1VHvTcr5",
        "colab_type": "code",
        "colab": {}
      },
      "source": [
        "train_split = TRAIN_SPLIT #0.87"
      ],
      "execution_count": 0,
      "outputs": []
    },
    {
      "cell_type": "code",
      "metadata": {
        "id": "L1kkhGPsTFOe",
        "colab_type": "code",
        "outputId": "f1bbf319-7ef8-401c-ffa2-ba397d21d9d8",
        "colab": {
          "base_uri": "https://localhost:8080/",
          "height": 34
        }
      },
      "source": [
        "values = reframed.values\n",
        "num_data = len(values)\n",
        "num_data"
      ],
      "execution_count": 18,
      "outputs": [
        {
          "output_type": "execute_result",
          "data": {
            "text/plain": [
              "10991"
            ]
          },
          "metadata": {
            "tags": []
          },
          "execution_count": 18
        }
      ]
    },
    {
      "cell_type": "code",
      "metadata": {
        "id": "WZPvLDA-H7VB",
        "colab_type": "code",
        "outputId": "74a45f04-1419-4bce-b10b-849b47479bed",
        "colab": {
          "base_uri": "https://localhost:8080/",
          "height": 34
        }
      },
      "source": [
        "num_train = int(train_split * num_data)\n",
        "num_train"
      ],
      "execution_count": 19,
      "outputs": [
        {
          "output_type": "execute_result",
          "data": {
            "text/plain": [
              "9562"
            ]
          },
          "metadata": {
            "tags": []
          },
          "execution_count": 19
        }
      ]
    },
    {
      "cell_type": "code",
      "metadata": {
        "id": "vUlhbObsTjO0",
        "colab_type": "code",
        "outputId": "545c73c0-f13a-4f1f-b3c4-fb47b8172b32",
        "colab": {
          "base_uri": "https://localhost:8080/",
          "height": 34
        }
      },
      "source": [
        "num_test = num_data - num_train\n",
        "num_test"
      ],
      "execution_count": 20,
      "outputs": [
        {
          "output_type": "execute_result",
          "data": {
            "text/plain": [
              "1429"
            ]
          },
          "metadata": {
            "tags": []
          },
          "execution_count": 20
        }
      ]
    },
    {
      "cell_type": "code",
      "metadata": {
        "id": "MPPvZt1ITVPD",
        "colab_type": "code",
        "outputId": "3012fd18-1000-4566-d908-ca90f0c76ce6",
        "colab": {
          "base_uri": "https://localhost:8080/",
          "height": 34
        }
      },
      "source": [
        "train = values[:num_train, :]\n",
        "test = values[num_train:, :]\n",
        "len(train) + len(test)"
      ],
      "execution_count": 21,
      "outputs": [
        {
          "output_type": "execute_result",
          "data": {
            "text/plain": [
              "10991"
            ]
          },
          "metadata": {
            "tags": []
          },
          "execution_count": 21
        }
      ]
    },
    {
      "cell_type": "markdown",
      "metadata": {
        "id": "WCmJvFINIB1W",
        "colab_type": "text"
      },
      "source": [
        "## Split into input and outputs"
      ]
    },
    {
      "cell_type": "code",
      "metadata": {
        "id": "0cnBlB2fICWY",
        "colab_type": "code",
        "outputId": "3a606184-0b35-4fb3-fe1c-b6db37eda099",
        "colab": {
          "base_uri": "https://localhost:8080/",
          "height": 34
        }
      },
      "source": [
        "n_obs = n_days * n_features\n",
        "train_X, train_y = train[:, :n_obs], train[:, -n_features]\n",
        "test_X, test_y = test[:, :n_obs], test[:, -n_features]\n",
        "svm_train_y = train_y.copy()\n",
        "svm_test_y = test_y.copy()\n",
        "\n",
        "print(train_X.shape, len(train_X), train_y.shape)"
      ],
      "execution_count": 22,
      "outputs": [
        {
          "output_type": "stream",
          "text": [
            "(9562, 1792) 9562 (9562,)\n"
          ],
          "name": "stdout"
        }
      ]
    },
    {
      "cell_type": "markdown",
      "metadata": {
        "id": "qkJk-L9EIHtB",
        "colab_type": "text"
      },
      "source": [
        "## Reshape input to be 3D [samples, timesteps, features]"
      ]
    },
    {
      "cell_type": "code",
      "metadata": {
        "id": "M4VB7gGhIIHn",
        "colab_type": "code",
        "outputId": "4d35eb08-e562-439f-ec3c-16bac04bf6d8",
        "colab": {
          "base_uri": "https://localhost:8080/",
          "height": 34
        }
      },
      "source": [
        "train_X = train_X.reshape((train_X.shape[0], n_days, n_features))\n",
        "test_X = test_X.reshape((test_X.shape[0], n_days, n_features))\n",
        "svm_train_X = train_X.copy()\n",
        "svm_test_X = test_X.copy()\n",
        "print(train_X.shape, train_y.shape, test_X.shape, test_y.shape)"
      ],
      "execution_count": 23,
      "outputs": [
        {
          "output_type": "stream",
          "text": [
            "(9562, 7, 256) (9562,) (1429, 7, 256) (1429,)\n"
          ],
          "name": "stdout"
        }
      ]
    },
    {
      "cell_type": "markdown",
      "metadata": {
        "id": "5a9dpfMfIdgt",
        "colab_type": "text"
      },
      "source": [
        "## Design network"
      ]
    },
    {
      "cell_type": "code",
      "metadata": {
        "id": "-m1vYwHjIeaa",
        "colab_type": "code",
        "outputId": "3b414878-25ce-4434-a6bd-12bc4b6b44eb",
        "colab": {
          "base_uri": "https://localhost:8080/",
          "height": 411
        }
      },
      "source": [
        "model = Sequential()\n",
        "model.add(LSTM(NEURONS, input_shape=(train_X.shape[1], train_X.shape[2]), return_sequences=True, name='lstm1'))\n",
        "model.add(LSTM(NEURONS, name='lstm2'))\n",
        "model.add(Dense(1, activation='linear', name='output'))\n",
        "optimizer = Adam(lr=LEARNING_RATE)\n",
        "model.compile(loss=LOSS_FUNCTION, optimizer=optimizer)\n",
        "model.summary()"
      ],
      "execution_count": 24,
      "outputs": [
        {
          "output_type": "stream",
          "text": [
            "WARNING: Logging before flag parsing goes to stderr.\n",
            "W0624 02:32:13.785245 140686416684928 deprecation_wrapper.py:119] From /usr/local/lib/python3.6/dist-packages/keras/backend/tensorflow_backend.py:74: The name tf.get_default_graph is deprecated. Please use tf.compat.v1.get_default_graph instead.\n",
            "\n",
            "W0624 02:32:13.802486 140686416684928 deprecation_wrapper.py:119] From /usr/local/lib/python3.6/dist-packages/keras/backend/tensorflow_backend.py:517: The name tf.placeholder is deprecated. Please use tf.compat.v1.placeholder instead.\n",
            "\n",
            "W0624 02:32:13.805573 140686416684928 deprecation_wrapper.py:119] From /usr/local/lib/python3.6/dist-packages/keras/backend/tensorflow_backend.py:4138: The name tf.random_uniform is deprecated. Please use tf.random.uniform instead.\n",
            "\n",
            "W0624 02:32:14.416566 140686416684928 deprecation_wrapper.py:119] From /usr/local/lib/python3.6/dist-packages/keras/optimizers.py:790: The name tf.train.Optimizer is deprecated. Please use tf.compat.v1.train.Optimizer instead.\n",
            "\n"
          ],
          "name": "stderr"
        },
        {
          "output_type": "stream",
          "text": [
            "_________________________________________________________________\n",
            "Layer (type)                 Output Shape              Param #   \n",
            "=================================================================\n",
            "lstm1 (LSTM)                 (None, 7, 128)            197120    \n",
            "_________________________________________________________________\n",
            "lstm2 (LSTM)                 (None, 128)               131584    \n",
            "_________________________________________________________________\n",
            "output (Dense)               (None, 1)                 129       \n",
            "=================================================================\n",
            "Total params: 328,833\n",
            "Trainable params: 328,833\n",
            "Non-trainable params: 0\n",
            "_________________________________________________________________\n"
          ],
          "name": "stdout"
        }
      ]
    },
    {
      "cell_type": "code",
      "metadata": {
        "id": "8KLDLe5B9Pdl",
        "colab_type": "code",
        "colab": {}
      },
      "source": [
        "plot_model(model, to_file='model_plot.png', show_shapes=True, show_layer_names=True)"
      ],
      "execution_count": 0,
      "outputs": []
    },
    {
      "cell_type": "markdown",
      "metadata": {
        "id": "toPbJTRQIkAq",
        "colab_type": "text"
      },
      "source": [
        "## Fit network\n"
      ]
    },
    {
      "cell_type": "code",
      "metadata": {
        "id": "3O5ZOucUIkZI",
        "colab_type": "code",
        "outputId": "0c4414b8-3632-46f4-bbfa-3655a0826fdc",
        "colab": {
          "base_uri": "https://localhost:8080/",
          "height": 3607
        }
      },
      "source": [
        "%%time\n",
        "history = model.fit(\n",
        "    train_X, \n",
        "    train_y, \n",
        "    epochs=EPOCHS, \n",
        "    batch_size=BATCH_SIZE, \n",
        "    validation_data=(test_X, test_y), \n",
        "    verbose=1, \n",
        "    shuffle=False)"
      ],
      "execution_count": 26,
      "outputs": [
        {
          "output_type": "stream",
          "text": [
            "W0624 02:32:14.789334 140686416684928 deprecation.py:323] From /usr/local/lib/python3.6/dist-packages/tensorflow/python/ops/math_grad.py:1250: add_dispatch_support.<locals>.wrapper (from tensorflow.python.ops.array_ops) is deprecated and will be removed in a future version.\n",
            "Instructions for updating:\n",
            "Use tf.where in 2.0, which has the same broadcast rule as np.where\n",
            "W0624 02:32:15.968796 140686416684928 deprecation_wrapper.py:119] From /usr/local/lib/python3.6/dist-packages/keras/backend/tensorflow_backend.py:986: The name tf.assign_add is deprecated. Please use tf.compat.v1.assign_add instead.\n",
            "\n",
            "W0624 02:32:16.082584 140686416684928 deprecation_wrapper.py:119] From /usr/local/lib/python3.6/dist-packages/keras/backend/tensorflow_backend.py:973: The name tf.assign is deprecated. Please use tf.compat.v1.assign instead.\n",
            "\n"
          ],
          "name": "stderr"
        },
        {
          "output_type": "stream",
          "text": [
            "Train on 9562 samples, validate on 1429 samples\n",
            "Epoch 1/100\n",
            "9562/9562 [==============================] - 6s 631us/step - loss: 0.0213 - val_loss: 9.9533e-04\n",
            "Epoch 2/100\n",
            "9562/9562 [==============================] - 4s 398us/step - loss: 0.0213 - val_loss: 0.0066\n",
            "Epoch 3/100\n",
            "9562/9562 [==============================] - 4s 392us/step - loss: 0.0197 - val_loss: 0.0099\n",
            "Epoch 4/100\n",
            "9562/9562 [==============================] - 4s 395us/step - loss: 0.0196 - val_loss: 0.0131\n",
            "Epoch 5/100\n",
            "9562/9562 [==============================] - 4s 396us/step - loss: 0.0204 - val_loss: 0.0093\n",
            "Epoch 6/100\n",
            "9562/9562 [==============================] - 4s 398us/step - loss: 0.0194 - val_loss: 0.0104\n",
            "Epoch 7/100\n",
            "9562/9562 [==============================] - 4s 393us/step - loss: 0.0199 - val_loss: 0.0096\n",
            "Epoch 8/100\n",
            "9562/9562 [==============================] - 4s 394us/step - loss: 0.0173 - val_loss: 0.0034\n",
            "Epoch 9/100\n",
            "9562/9562 [==============================] - 4s 398us/step - loss: 0.0148 - val_loss: 0.0025\n",
            "Epoch 10/100\n",
            "9562/9562 [==============================] - 4s 398us/step - loss: 0.0134 - val_loss: 0.0031\n",
            "Epoch 11/100\n",
            "9562/9562 [==============================] - 4s 393us/step - loss: 0.0111 - val_loss: 0.0051\n",
            "Epoch 12/100\n",
            "9562/9562 [==============================] - 4s 388us/step - loss: 0.0122 - val_loss: 0.0030\n",
            "Epoch 13/100\n",
            "9562/9562 [==============================] - 4s 392us/step - loss: 0.0099 - val_loss: 0.0034\n",
            "Epoch 14/100\n",
            "9562/9562 [==============================] - 4s 392us/step - loss: 0.0099 - val_loss: 0.0037\n",
            "Epoch 15/100\n",
            "9562/9562 [==============================] - 4s 395us/step - loss: 0.0114 - val_loss: 0.0040\n",
            "Epoch 16/100\n",
            "9562/9562 [==============================] - 4s 397us/step - loss: 0.0105 - val_loss: 0.0057\n",
            "Epoch 17/100\n",
            "9562/9562 [==============================] - 4s 399us/step - loss: 0.0092 - val_loss: 0.0044\n",
            "Epoch 18/100\n",
            "9562/9562 [==============================] - 4s 402us/step - loss: 0.0082 - val_loss: 0.0050\n",
            "Epoch 19/100\n",
            "9562/9562 [==============================] - 4s 392us/step - loss: 0.0075 - val_loss: 0.0038\n",
            "Epoch 20/100\n",
            "9562/9562 [==============================] - 4s 396us/step - loss: 0.0069 - val_loss: 0.0034\n",
            "Epoch 21/100\n",
            "9562/9562 [==============================] - 4s 394us/step - loss: 0.0063 - val_loss: 0.0028\n",
            "Epoch 22/100\n",
            "9562/9562 [==============================] - 4s 397us/step - loss: 0.0060 - val_loss: 0.0029\n",
            "Epoch 23/100\n",
            "9562/9562 [==============================] - 4s 390us/step - loss: 0.0057 - val_loss: 0.0023\n",
            "Epoch 24/100\n",
            "9562/9562 [==============================] - 4s 383us/step - loss: 0.0054 - val_loss: 0.0011\n",
            "Epoch 25/100\n",
            "9562/9562 [==============================] - 4s 392us/step - loss: 0.0061 - val_loss: 0.0022\n",
            "Epoch 26/100\n",
            "9562/9562 [==============================] - 4s 402us/step - loss: 0.0048 - val_loss: 0.0018\n",
            "Epoch 27/100\n",
            "9562/9562 [==============================] - 4s 410us/step - loss: 0.0044 - val_loss: 0.0012\n",
            "Epoch 28/100\n",
            "9562/9562 [==============================] - 4s 398us/step - loss: 0.0047 - val_loss: 0.0013\n",
            "Epoch 29/100\n",
            "9562/9562 [==============================] - 4s 400us/step - loss: 0.0051 - val_loss: 0.0034\n",
            "Epoch 30/100\n",
            "9562/9562 [==============================] - 4s 398us/step - loss: 0.0043 - val_loss: 0.0019\n",
            "Epoch 31/100\n",
            "9562/9562 [==============================] - 4s 401us/step - loss: 0.0035 - val_loss: 5.8599e-04\n",
            "Epoch 32/100\n",
            "9562/9562 [==============================] - 4s 405us/step - loss: 0.0042 - val_loss: 0.0013\n",
            "Epoch 33/100\n",
            "9562/9562 [==============================] - 4s 402us/step - loss: 0.0038 - val_loss: 8.9491e-04\n",
            "Epoch 34/100\n",
            "9562/9562 [==============================] - 4s 396us/step - loss: 0.0043 - val_loss: 5.9474e-04\n",
            "Epoch 35/100\n",
            "9562/9562 [==============================] - 4s 395us/step - loss: 0.0043 - val_loss: 4.9862e-04\n",
            "Epoch 36/100\n",
            "9562/9562 [==============================] - 4s 395us/step - loss: 0.0039 - val_loss: 5.0783e-04\n",
            "Epoch 37/100\n",
            "9562/9562 [==============================] - 4s 397us/step - loss: 0.0038 - val_loss: 5.2910e-04\n",
            "Epoch 38/100\n",
            "9562/9562 [==============================] - 4s 404us/step - loss: 0.0037 - val_loss: 5.6502e-04\n",
            "Epoch 39/100\n",
            "9562/9562 [==============================] - 4s 401us/step - loss: 0.0034 - val_loss: 7.3905e-04\n",
            "Epoch 40/100\n",
            "9562/9562 [==============================] - 4s 411us/step - loss: 0.0032 - val_loss: 7.7835e-04\n",
            "Epoch 41/100\n",
            "9562/9562 [==============================] - 4s 410us/step - loss: 0.0028 - val_loss: 9.0257e-04\n",
            "Epoch 42/100\n",
            "9562/9562 [==============================] - 4s 417us/step - loss: 0.0026 - val_loss: 8.4058e-04\n",
            "Epoch 43/100\n",
            "9562/9562 [==============================] - 4s 405us/step - loss: 0.0024 - val_loss: 0.0010\n",
            "Epoch 44/100\n",
            "9562/9562 [==============================] - 4s 407us/step - loss: 0.0021 - val_loss: 7.0775e-04\n",
            "Epoch 45/100\n",
            "9562/9562 [==============================] - 4s 403us/step - loss: 0.0019 - val_loss: 8.6251e-04\n",
            "Epoch 46/100\n",
            "9562/9562 [==============================] - 4s 406us/step - loss: 0.0017 - val_loss: 7.0180e-04\n",
            "Epoch 47/100\n",
            "9562/9562 [==============================] - 4s 411us/step - loss: 0.0015 - val_loss: 6.3224e-04\n",
            "Epoch 48/100\n",
            "9562/9562 [==============================] - 4s 406us/step - loss: 0.0014 - val_loss: 5.1239e-04\n",
            "Epoch 49/100\n",
            "9562/9562 [==============================] - 4s 401us/step - loss: 0.0012 - val_loss: 4.7185e-04\n",
            "Epoch 50/100\n",
            "9562/9562 [==============================] - 4s 404us/step - loss: 0.0010 - val_loss: 4.4041e-04\n",
            "Epoch 51/100\n",
            "9562/9562 [==============================] - 4s 400us/step - loss: 9.5639e-04 - val_loss: 4.4190e-04\n",
            "Epoch 52/100\n",
            "9562/9562 [==============================] - 4s 400us/step - loss: 8.8292e-04 - val_loss: 3.8725e-04\n",
            "Epoch 53/100\n",
            "9562/9562 [==============================] - 4s 395us/step - loss: 8.4613e-04 - val_loss: 3.3543e-04\n",
            "Epoch 54/100\n",
            "9562/9562 [==============================] - 4s 401us/step - loss: 8.1308e-04 - val_loss: 2.6799e-04\n",
            "Epoch 55/100\n",
            "9562/9562 [==============================] - 4s 398us/step - loss: 8.0837e-04 - val_loss: 2.3125e-04\n",
            "Epoch 56/100\n",
            "9562/9562 [==============================] - 4s 408us/step - loss: 8.3229e-04 - val_loss: 2.1287e-04\n",
            "Epoch 57/100\n",
            "9562/9562 [==============================] - 4s 400us/step - loss: 8.6378e-04 - val_loss: 2.0749e-04\n",
            "Epoch 58/100\n",
            "9562/9562 [==============================] - 4s 409us/step - loss: 8.7830e-04 - val_loss: 2.1576e-04\n",
            "Epoch 59/100\n",
            "9562/9562 [==============================] - 4s 396us/step - loss: 8.6788e-04 - val_loss: 2.1892e-04\n",
            "Epoch 60/100\n",
            "9562/9562 [==============================] - 4s 391us/step - loss: 8.4096e-04 - val_loss: 2.2225e-04\n",
            "Epoch 61/100\n",
            "9562/9562 [==============================] - 4s 402us/step - loss: 8.3560e-04 - val_loss: 2.2628e-04\n",
            "Epoch 62/100\n",
            "9562/9562 [==============================] - 4s 398us/step - loss: 8.7047e-04 - val_loss: 2.3478e-04\n",
            "Epoch 63/100\n",
            "9562/9562 [==============================] - 4s 399us/step - loss: 9.0441e-04 - val_loss: 2.4169e-04\n",
            "Epoch 64/100\n",
            "9562/9562 [==============================] - 4s 401us/step - loss: 9.8787e-04 - val_loss: 2.5816e-04\n",
            "Epoch 65/100\n",
            "9562/9562 [==============================] - 4s 405us/step - loss: 0.0010 - val_loss: 2.7168e-04\n",
            "Epoch 66/100\n",
            "9562/9562 [==============================] - 4s 404us/step - loss: 0.0011 - val_loss: 2.9947e-04\n",
            "Epoch 67/100\n",
            "9562/9562 [==============================] - 4s 400us/step - loss: 0.0013 - val_loss: 3.1967e-04\n",
            "Epoch 68/100\n",
            "9562/9562 [==============================] - 4s 402us/step - loss: 0.0015 - val_loss: 2.9842e-04\n",
            "Epoch 69/100\n",
            "9562/9562 [==============================] - 4s 400us/step - loss: 0.0016 - val_loss: 2.5487e-04\n",
            "Epoch 70/100\n",
            "9562/9562 [==============================] - 4s 403us/step - loss: 0.0018 - val_loss: 2.3770e-04\n",
            "Epoch 71/100\n",
            "9562/9562 [==============================] - 4s 406us/step - loss: 0.0019 - val_loss: 2.4791e-04\n",
            "Epoch 72/100\n",
            "9562/9562 [==============================] - 4s 406us/step - loss: 0.0017 - val_loss: 2.1846e-04\n",
            "Epoch 73/100\n",
            "9562/9562 [==============================] - 4s 401us/step - loss: 0.0016 - val_loss: 2.0754e-04\n",
            "Epoch 74/100\n",
            "9562/9562 [==============================] - 4s 403us/step - loss: 0.0014 - val_loss: 2.0628e-04\n",
            "Epoch 75/100\n",
            "9562/9562 [==============================] - 4s 401us/step - loss: 0.0011 - val_loss: 1.9999e-04\n",
            "Epoch 76/100\n",
            "9562/9562 [==============================] - 4s 397us/step - loss: 0.0010 - val_loss: 1.3090e-04\n",
            "Epoch 77/100\n",
            "9562/9562 [==============================] - 4s 407us/step - loss: 9.2863e-04 - val_loss: 1.4561e-04\n",
            "Epoch 78/100\n",
            "9562/9562 [==============================] - 4s 406us/step - loss: 9.3279e-04 - val_loss: 1.3539e-04\n",
            "Epoch 79/100\n",
            "9562/9562 [==============================] - 4s 400us/step - loss: 8.3123e-04 - val_loss: 1.4029e-04\n",
            "Epoch 80/100\n",
            "9562/9562 [==============================] - 4s 403us/step - loss: 8.4409e-04 - val_loss: 1.2064e-04\n",
            "Epoch 81/100\n",
            "9562/9562 [==============================] - 4s 402us/step - loss: 8.1963e-04 - val_loss: 1.0849e-04\n",
            "Epoch 82/100\n",
            "9562/9562 [==============================] - 4s 400us/step - loss: 8.5764e-04 - val_loss: 1.1075e-04\n",
            "Epoch 83/100\n",
            "9562/9562 [==============================] - 4s 407us/step - loss: 8.4679e-04 - val_loss: 1.0781e-04\n",
            "Epoch 84/100\n",
            "9562/9562 [==============================] - 4s 404us/step - loss: 8.5282e-04 - val_loss: 1.0818e-04\n",
            "Epoch 85/100\n",
            "9562/9562 [==============================] - 4s 404us/step - loss: 8.2400e-04 - val_loss: 1.1830e-04\n",
            "Epoch 86/100\n",
            "9562/9562 [==============================] - 4s 401us/step - loss: 7.8238e-04 - val_loss: 8.7973e-05\n",
            "Epoch 87/100\n",
            "9562/9562 [==============================] - 4s 402us/step - loss: 7.3062e-04 - val_loss: 8.1412e-05\n",
            "Epoch 88/100\n",
            "9562/9562 [==============================] - 4s 399us/step - loss: 7.1251e-04 - val_loss: 7.7973e-05\n",
            "Epoch 89/100\n",
            "9562/9562 [==============================] - 4s 403us/step - loss: 6.2634e-04 - val_loss: 7.2460e-05\n",
            "Epoch 90/100\n",
            "9562/9562 [==============================] - 4s 403us/step - loss: 7.0703e-04 - val_loss: 2.3997e-04\n",
            "Epoch 91/100\n",
            "9562/9562 [==============================] - 4s 405us/step - loss: 6.3491e-04 - val_loss: 6.5587e-04\n",
            "Epoch 92/100\n",
            "9562/9562 [==============================] - 4s 400us/step - loss: 5.6135e-04 - val_loss: 2.4525e-04\n",
            "Epoch 93/100\n",
            "9562/9562 [==============================] - 4s 406us/step - loss: 6.4812e-04 - val_loss: 2.5335e-04\n",
            "Epoch 94/100\n",
            "9562/9562 [==============================] - 4s 398us/step - loss: 7.6838e-04 - val_loss: 1.4229e-04\n",
            "Epoch 95/100\n",
            "9562/9562 [==============================] - 4s 398us/step - loss: 6.5628e-04 - val_loss: 4.3427e-04\n",
            "Epoch 96/100\n",
            "9562/9562 [==============================] - 4s 399us/step - loss: 6.5034e-04 - val_loss: 2.1141e-04\n",
            "Epoch 97/100\n",
            "9562/9562 [==============================] - 4s 394us/step - loss: 6.1157e-04 - val_loss: 1.5267e-04\n",
            "Epoch 98/100\n",
            "9562/9562 [==============================] - 4s 392us/step - loss: 6.3231e-04 - val_loss: 1.5220e-04\n",
            "Epoch 99/100\n",
            "9562/9562 [==============================] - 4s 396us/step - loss: 6.2547e-04 - val_loss: 2.0398e-04\n",
            "Epoch 100/100\n",
            "9562/9562 [==============================] - 4s 385us/step - loss: 6.1580e-04 - val_loss: 1.4399e-04\n",
            "CPU times: user 8min 15s, sys: 29.4 s, total: 8min 45s\n",
            "Wall time: 6min 26s\n"
          ],
          "name": "stdout"
        }
      ]
    },
    {
      "cell_type": "markdown",
      "metadata": {
        "id": "7BFBxpWTIzfo",
        "colab_type": "text"
      },
      "source": [
        "## Plot history"
      ]
    },
    {
      "cell_type": "code",
      "metadata": {
        "id": "olVM4PlfI0aT",
        "colab_type": "code",
        "outputId": "521ae79d-ef6f-4f4f-b645-bfacffe0dda2",
        "colab": {
          "base_uri": "https://localhost:8080/",
          "height": 269
        }
      },
      "source": [
        "plt.figure(figsize=default)\n",
        "plt.plot(history.history['loss'], label='train')\n",
        "plt.plot(history.history['val_loss'], label='test')\n",
        "plt.legend()\n",
        "plt.show()"
      ],
      "execution_count": 27,
      "outputs": [
        {
          "output_type": "display_data",
          "data": {
            "image/png": "[encoded data removed]",
            "text/plain": [
              "<Figure size 432x288 with 1 Axes>"
            ]
          },
          "metadata": {
            "tags": []
          }
        }
      ]
    },
    {
      "cell_type": "markdown",
      "metadata": {
        "id": "uUlsH46MI45n",
        "colab_type": "text"
      },
      "source": [
        "## Make a prediction"
      ]
    },
    {
      "cell_type": "code",
      "metadata": {
        "id": "LsMo4oRZI5ch",
        "colab_type": "code",
        "colab": {}
      },
      "source": [
        "yhat = model.predict(test_X)\n",
        "test_X = test_X.reshape((test_X.shape[0], n_days*n_features))"
      ],
      "execution_count": 0,
      "outputs": []
    },
    {
      "cell_type": "markdown",
      "metadata": {
        "id": "PPCc-7kkI_Hp",
        "colab_type": "text"
      },
      "source": [
        "## Invert scaling for forecast"
      ]
    },
    {
      "cell_type": "code",
      "metadata": {
        "id": "bQZz0lCtI_ij",
        "colab_type": "code",
        "colab": {}
      },
      "source": [
        "inv_yhat = concatenate((yhat, test_X[:, -(n_features-1):]), axis=1)\n",
        "inv_yhat = scaler.inverse_transform(inv_yhat)\n",
        "inv_yhat = inv_yhat[:,0]"
      ],
      "execution_count": 0,
      "outputs": []
    },
    {
      "cell_type": "markdown",
      "metadata": {
        "id": "RhnbjBhfJE_C",
        "colab_type": "text"
      },
      "source": [
        "## Invert scaling for actual"
      ]
    },
    {
      "cell_type": "code",
      "metadata": {
        "id": "KCHHP2JlJF78",
        "colab_type": "code",
        "colab": {}
      },
      "source": [
        "test_y = test_y.reshape((len(test_y), 1))\n",
        "inv_y = concatenate((test_y, test_X[:, -(n_features-1):]), axis=1)\n",
        "inv_y = scaler.inverse_transform(inv_y)\n",
        "inv_y = inv_y[:,0]"
      ],
      "execution_count": 0,
      "outputs": []
    },
    {
      "cell_type": "markdown",
      "metadata": {
        "id": "9U_dE3WMJK9z",
        "colab_type": "text"
      },
      "source": [
        "## Calculate RMSE"
      ]
    },
    {
      "cell_type": "code",
      "metadata": {
        "id": "4Sm3rLU3JLf1",
        "colab_type": "code",
        "outputId": "11edfe1a-6c8b-4cf8-fc6f-a128b88a29c2",
        "colab": {
          "base_uri": "https://localhost:8080/",
          "height": 34
        }
      },
      "source": [
        "rmse = sqrt(mean_squared_error(inv_y, inv_yhat))\n",
        "print('Test RMSE: %.3f' % rmse)"
      ],
      "execution_count": 31,
      "outputs": [
        {
          "output_type": "stream",
          "text": [
            "Test RMSE: 18.789\n"
          ],
          "name": "stdout"
        }
      ]
    },
    {
      "cell_type": "markdown",
      "metadata": {
        "id": "Ow7xwT45imqk",
        "colab_type": "text"
      },
      "source": [
        "## Plot prediction"
      ]
    },
    {
      "cell_type": "code",
      "metadata": {
        "id": "2k_F5OWwiokB",
        "colab_type": "code",
        "outputId": "c085cc40-ecd3-4069-d7ab-5e7eb8b3591f",
        "colab": {
          "base_uri": "https://localhost:8080/",
          "height": 323
        }
      },
      "source": [
        "  # Get the output-signal predicted by the model.\n",
        "  signal_pred = inv_yhat\n",
        "\n",
        "  # Get the true output-signal from the data-set.\n",
        "  signal_true = inv_y\n",
        "\n",
        "  # Make the plotting-canvas bigger.\n",
        "  plt.figure(figsize=(13,5))\n",
        "\n",
        "  # Plot and compare the two signals.\n",
        "  plt.plot(signal_true, label='true')\n",
        "  plt.plot(signal_pred, label='pred')\n",
        "\n",
        "  # Plot labels etc.\n",
        "  plt.ylabel(TARGET_NAME)\n",
        "  plt.legend()\n",
        "  plt.show()"
      ],
      "execution_count": 32,
      "outputs": [
        {
          "output_type": "display_data",
          "data": {
            "image/png": "[encoded data removed]",
            "text/plain": [
              "<Figure size 936x360 with 1 Axes>"
            ]
          },
          "metadata": {
            "tags": []
          }
        }
      ]
    },
    {
      "cell_type": "markdown",
      "metadata": {
        "id": "5e2pZBh9ZZ3i",
        "colab_type": "text"
      },
      "source": [
        "# Compare results with a SVM model"
      ]
    },
    {
      "cell_type": "markdown",
      "metadata": {
        "id": "CkkwMyrtaJa5",
        "colab_type": "text"
      },
      "source": [
        "## Creating a SVM  for regression (SVR)"
      ]
    },
    {
      "cell_type": "code",
      "metadata": {
        "id": "xiBWrVXLZfBz",
        "colab_type": "code",
        "colab": {}
      },
      "source": [
        "clf = svm.SVR() #svm.SVR(kernel='rbf') #svm.SVR()"
      ],
      "execution_count": 0,
      "outputs": []
    },
    {
      "cell_type": "markdown",
      "metadata": {
        "id": "IzD2TddvaQQx",
        "colab_type": "text"
      },
      "source": [
        "## Training"
      ]
    },
    {
      "cell_type": "code",
      "metadata": {
        "id": "Do0TbZt81otW",
        "colab_type": "code",
        "colab": {}
      },
      "source": [
        "svm_train_X_1 = svm_train_X.reshape((svm_train_X.shape[0], n_days*n_features))\n",
        "svm_test_X_1 = svm_test_X.reshape((svm_test_X.shape[0], n_days*n_features))"
      ],
      "execution_count": 0,
      "outputs": []
    },
    {
      "cell_type": "code",
      "metadata": {
        "id": "M3ZlT9bwaP54",
        "colab_type": "code",
        "colab": {
          "base_uri": "https://localhost:8080/",
          "height": 122
        },
        "outputId": "97e4b6cc-a304-41be-e9f1-aa72a3f57952"
      },
      "source": [
        "clf.fit(svm_train_X_1, svm_train_y) #train"
      ],
      "execution_count": 35,
      "outputs": [
        {
          "output_type": "stream",
          "text": [
            "/usr/local/lib/python3.6/dist-packages/sklearn/svm/base.py:193: FutureWarning: The default value of gamma will change from 'auto' to 'scale' in version 0.22 to account better for unscaled features. Set gamma explicitly to 'auto' or 'scale' to avoid this warning.\n",
            "  \"avoid this warning.\", FutureWarning)\n"
          ],
          "name": "stderr"
        },
        {
          "output_type": "execute_result",
          "data": {
            "text/plain": [
              "SVR(C=1.0, cache_size=200, coef0=0.0, degree=3, epsilon=0.1,\n",
              "    gamma='auto_deprecated', kernel='rbf', max_iter=-1, shrinking=True,\n",
              "    tol=0.001, verbose=False)"
            ]
          },
          "metadata": {
            "tags": []
          },
          "execution_count": 35
        }
      ]
    },
    {
      "cell_type": "markdown",
      "metadata": {
        "colab_type": "text",
        "id": "KKzxKU0puDN8"
      },
      "source": [
        "## Make a prediction"
      ]
    },
    {
      "cell_type": "code",
      "metadata": {
        "colab_type": "code",
        "id": "lEQ653sXuCyv",
        "colab": {}
      },
      "source": [
        "svm_yhat = clf.predict(svm_test_X_1)"
      ],
      "execution_count": 0,
      "outputs": []
    },
    {
      "cell_type": "markdown",
      "metadata": {
        "colab_type": "text",
        "id": "j3bKjYUJuOMM"
      },
      "source": [
        "## Invert scaling for forecast (return values to original range)"
      ]
    },
    {
      "cell_type": "code",
      "metadata": {
        "colab_type": "code",
        "id": "oM9IPw_0uOMP",
        "colab": {}
      },
      "source": [
        "svm_inv_yhat = concatenate((svm_yhat.reshape(-1,1), svm_test_X_1[:,-(n_features-1):]), axis=1)\n",
        "svm_inv_yhat = scaler.inverse_transform(svm_inv_yhat)\n",
        "svm_inv_yhat = svm_inv_yhat[:,0]"
      ],
      "execution_count": 0,
      "outputs": []
    },
    {
      "cell_type": "markdown",
      "metadata": {
        "colab_type": "text",
        "id": "7ZcNjLb1uOMT"
      },
      "source": [
        "## Invert scaling for actual (return values to original range)"
      ]
    },
    {
      "cell_type": "code",
      "metadata": {
        "colab_type": "code",
        "id": "wvkY9IUouOMU",
        "colab": {}
      },
      "source": [
        "svm_test_y = svm_test_y.reshape((len(svm_test_y), 1))\n",
        "svm_inv_y = concatenate((svm_test_y, svm_test_X_1[:, -(n_features-1):]), axis=1)\n",
        "svm_inv_y = scaler.inverse_transform(svm_inv_y)\n",
        "svm_inv_y = svm_inv_y[:,0]"
      ],
      "execution_count": 0,
      "outputs": []
    },
    {
      "cell_type": "markdown",
      "metadata": {
        "colab_type": "text",
        "id": "o7DG-s1duCZQ"
      },
      "source": [
        "## Calculate RMSE"
      ]
    },
    {
      "cell_type": "code",
      "metadata": {
        "colab_type": "code",
        "outputId": "d846e20e-bf8e-46c3-a569-3cd564d49d46",
        "id": "uR7iqMXZuCYc",
        "colab": {
          "base_uri": "https://localhost:8080/",
          "height": 34
        }
      },
      "source": [
        "svm_rmse = sqrt(mean_squared_error(svm_inv_y, svm_inv_yhat))\n",
        "print('Test RMSE: %.3f' % svm_rmse)"
      ],
      "execution_count": 39,
      "outputs": [
        {
          "output_type": "stream",
          "text": [
            "Test RMSE: 178.381\n"
          ],
          "name": "stdout"
        }
      ]
    },
    {
      "cell_type": "markdown",
      "metadata": {
        "colab_type": "text",
        "id": "4e2OHuD2BoHy"
      },
      "source": [
        "## Plot prediction"
      ]
    },
    {
      "cell_type": "code",
      "metadata": {
        "colab_type": "code",
        "outputId": "986f2e23-11f5-4f72-b93c-a3884b0ccb70",
        "id": "yVBu24YOBoH1",
        "colab": {
          "base_uri": "https://localhost:8080/",
          "height": 323
        }
      },
      "source": [
        "    # Make the plotting-canvas bigger.\n",
        "  plt.figure(figsize=(13,5))\n",
        "\n",
        "  # Plot and compare the two signals.\n",
        "  plt.plot(svm_inv_y, label='true')\n",
        "  plt.plot(inv_yhat, label='LSTM')\n",
        "  plt.plot(svm_inv_yhat, label='SVM-SVR')\n",
        "\n",
        "  # Plot labels etc.\n",
        "  plt.ylabel(TARGET_NAME)\n",
        "  plt.legend()\n",
        "  plt.show()"
      ],
      "execution_count": 40,
      "outputs": [
        {
          "output_type": "display_data",
          "data": {
            "image/png": "[encoded data removed]",
            "text/plain": [
              "<Figure size 936x360 with 1 Axes>"
            ]
          },
          "metadata": {
            "tags": []
          }
        }
      ]
    },
    {
      "cell_type": "markdown",
      "metadata": {
        "id": "ZvxN-e1Tyv6M",
        "colab_type": "text"
      },
      "source": [
        "# Extra"
      ]
    },
    {
      "cell_type": "markdown",
      "metadata": {
        "id": "-6-pSswZyJnk",
        "colab_type": "text"
      },
      "source": [
        "## Save model to JSON"
      ]
    },
    {
      "cell_type": "code",
      "metadata": {
        "id": "1M49FU8MyMEw",
        "colab_type": "code",
        "outputId": "8bf402da-e7b0-4410-db9f-d069a7ed5896",
        "colab": {
          "base_uri": "https://localhost:8080/",
          "height": 34
        }
      },
      "source": [
        "# serialize model to JSON\n",
        "model_json = model.to_json()\n",
        "if not os.path.isdir(MODEL_PATH):\n",
        "    os.makedirs(MODEL_PATH)\n",
        "with open(MODEL_PATH+\"model.json\", \"w\") as json_file:\n",
        "    json_file.write(model_json)\n",
        "# serialize weights to HDF5\n",
        "model.save_weights(MODEL_PATH+\"model.h5\")\n",
        "print(\"Saved model to disk\")"
      ],
      "execution_count": 41,
      "outputs": [
        {
          "output_type": "stream",
          "text": [
            "Saved model to disk\n"
          ],
          "name": "stdout"
        }
      ]
    },
    {
      "cell_type": "markdown",
      "metadata": {
        "id": "O0M0CNvbyLe5",
        "colab_type": "text"
      },
      "source": [
        "## Load json and create model"
      ]
    },
    {
      "cell_type": "code",
      "metadata": {
        "id": "4vG-EJNNysJ8",
        "colab_type": "code",
        "outputId": "9d2d49a3-8258-443c-e7a1-686590fd81fa",
        "colab": {
          "base_uri": "https://localhost:8080/",
          "height": 255
        }
      },
      "source": [
        "# load json and create model\n",
        "json_file = open(MODEL_PATH+'model.json', 'r')\n",
        "loaded_model_json = json_file.read()\n",
        "json_file.close()\n",
        "loaded_model = model_from_json(loaded_model_json)\n",
        "# load weights into new model\n",
        "loaded_model.load_weights(MODEL_PATH+\"model.h5\")\n",
        "print(\"Loaded model from disk\")\n",
        "loaded_model.summary()"
      ],
      "execution_count": 42,
      "outputs": [
        {
          "output_type": "stream",
          "text": [
            "Loaded model from disk\n",
            "_________________________________________________________________\n",
            "Layer (type)                 Output Shape              Param #   \n",
            "=================================================================\n",
            "lstm1 (LSTM)                 (None, 7, 128)            197120    \n",
            "_________________________________________________________________\n",
            "lstm2 (LSTM)                 (None, 128)               131584    \n",
            "_________________________________________________________________\n",
            "output (Dense)               (None, 1)                 129       \n",
            "=================================================================\n",
            "Total params: 328,833\n",
            "Trainable params: 328,833\n",
            "Non-trainable params: 0\n",
            "_________________________________________________________________\n"
          ],
          "name": "stdout"
        }
      ]
    },
    {
      "cell_type": "markdown",
      "metadata": {
        "id": "e4STNFJvTIfB",
        "colab_type": "text"
      },
      "source": [
        "# License (MIT)\n",
        "\n",
        "Copyright (c) 2018 by [Marlon Franco]()\n",
        "\n",
        "Permission is hereby granted, free of charge, to any person obtaining a copy of this software and associated documentation files (the \"Software\"), to deal in the Software without restriction, including without limitation the rights to use, copy, modify, merge, publish, distribute, sublicense, and/or sell copies of the Software, and to permit persons to whom the Software is furnished to do so, subject to the following conditions:\n",
        "\n",
        "The above copyright notice and this permission notice shall be included in all copies or substantial portions of the Software.\n",
        "\n",
        "THE SOFTWARE IS PROVIDED \"AS IS\", WITHOUT WARRANTY OF ANY KIND, EXPRESS OR IMPLIED, INCLUDING BUT NOT LIMITED TO THE WARRANTIES OF MERCHANTABILITY, FITNESS FOR A PARTICULAR PURPOSE AND NONINFRINGEMENT. IN NO EVENT SHALL THE AUTHORS OR COPYRIGHT HOLDERS BE LIABLE FOR ANY CLAIM, DAMAGES OR OTHER LIABILITY, WHETHER IN AN ACTION OF CONTRACT, TORT OR OTHERWISE, ARISING FROM, OUT OF OR IN CONNECTION WITH THE SOFTWARE OR THE USE OR OTHER DEALINGS IN THE SOFTWARE."
      ]
    }
  ]
}
